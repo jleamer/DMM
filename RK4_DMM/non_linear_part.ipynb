{
 "cells": [
  {
   "cell_type": "code",
   "execution_count": 1,
   "metadata": {},
   "outputs": [],
   "source": [
    "# import standard libraries\n",
    "import numpy as np\n",
    "from scipy.io import mmread, mmwrite\n",
    "from scipy import linalg\n",
    "from scipy import sparse\n",
    "from numba import njit\n",
    "import matplotlib.pyplot as plt\n",
    "from pyscf import gto, dft\n",
    "import numpy.ma as ma\n",
    "\n",
    "# import methods for solving from other files\n",
    "import dmm_gcp as gcp\n",
    "import dmm_cp as cp\n",
    "import palser as pals\n",
    "#import ntpoly as nt\n",
    "\n",
    "# Note: using np.sum(A * B.T) for matrices A, B is equivalent to Trace(A^dag B)"
   ]
  },
  {
   "cell_type": "code",
   "execution_count": 2,
   "metadata": {},
   "outputs": [],
   "source": [
    "SMALL_SIZE = 12\n",
    "MEDIUM_SIZE = 14\n",
    "BIGGER_SIZE = 18\n",
    "\n",
    "plt.rc('font', size=SMALL_SIZE)          # controls default text sizes\n",
    "plt.rc('axes', titlesize=SMALL_SIZE)     # fontsize of the axes title\n",
    "plt.rc('axes', labelsize=MEDIUM_SIZE)    # fontsize of the x and y labels\n",
    "plt.rc('xtick', labelsize=SMALL_SIZE)    # fontsize of the tick labels\n",
    "plt.rc('ytick', labelsize=SMALL_SIZE)    # fontsize of the tick labels\n",
    "plt.rc('legend', fontsize=SMALL_SIZE)    # legend fontsize\n",
    "plt.rc('figure', titlesize=BIGGER_SIZE)  # fontsize of the figure title"
   ]
  },
  {
   "cell_type": "code",
   "execution_count": 3,
   "metadata": {},
   "outputs": [
    {
     "name": "stdout",
     "output_type": "stream",
     "text": [
      "converged SCF energy = -100.291327706251\n",
      "TODO: total wave-function symmetry for Coov\n",
      "occupancy for each irrep:     A1  E1x  E1y\n",
      "                               3    1    1\n",
      "**** MO energy ****\n",
      "MO #1 (A1 #1), energy= -24.2331671128069 occ= 2\n",
      "MO #2 (A1 #2), energy= -1.0272972299461 occ= 2\n",
      "MO #3 (A1 #3), energy= -0.426131190105554 occ= 2\n",
      "MO #4 (E1x #1), energy= -0.289938520612848 occ= 2\n",
      "MO #5 (E1y #1), energy= -0.289938520612849 occ= 2\n",
      "MO #6 (A1 #4), energy= -0.0349559135896397 occ= 0\n",
      "MO #7 (A1 #5), energy= 0.664675049298746 occ= 0\n",
      "MO #8 (E1x #2), energy= 1.1305709354121 occ= 0\n",
      "MO #9 (E1y #2), energy= 1.1305709354121 occ= 0\n",
      "MO #10 (A1 #6), energy= 1.24759809513672 occ= 0\n",
      "MO #11 (A1 #7), energy= 1.57280313485608 occ= 0\n",
      " ** Mulliken atomic charges  **\n",
      "charge of  0H =      0.35670\n",
      "charge of  1F =     -0.35670\n",
      "Dipole moment(X, Y, Z, Debye):  0.00000,  0.00000, -2.17040\n",
      "Total dft energy: -100.2913277062506\n",
      "Chemical Potential:  -0.16244721710124455\n",
      "DFT trace:  7.124009715257126\n",
      "Core eigvals:  [-40.92691642 -10.30802976 -10.01838351 -10.00724828 -10.00724828\n",
      "  -4.89142614  -4.40582803  -4.3659127   -4.3659127   -3.61476955\n",
      "  -2.52299647]\n"
     ]
    },
    {
     "data": {
      "text/plain": [
       "Text(0.5, 1.0, 'Overlap Matrix Elements')"
      ]
     },
     "execution_count": 3,
     "metadata": {},
     "output_type": "execute_result"
    },
    {
     "data": {
      "image/png": "[encoded data removed]",
      "text/plain": [
       "<Figure size 432x288 with 2 Axes>"
      ]
     },
     "metadata": {
      "needs_background": "light"
     },
     "output_type": "display_data"
    }
   ],
   "source": [
    "'''\n",
    "A simple example to run DFT calculation.\n",
    "'''\n",
    "\n",
    "# PBE Hydrogen flouride in a 6-31G basis set.\n",
    "mol = gto.Mole()\n",
    "mol.build(\n",
    "    atom = 'H 0 0 0; F 0 0 1.1',  # in Angstrom\n",
    "    basis = '631g',\n",
    "    symmetry = True,\n",
    ")\n",
    "\n",
    "mf = dft.RKS(mol)\n",
    "#mf.xc = 'blyp' # shorthand for b88,lyp\n",
    "mf.xc = 'pbe' # shorthand for pbe,pbe\n",
    "#mf.xc = 'lda,vwn_rpa'\n",
    "#mf.xc = 'pbe0'\n",
    "#mf.xc = 'b3lyp'\n",
    "\n",
    "# this where self-content diagonalization happens\n",
    "mf.kernel()\n",
    "\n",
    "# Orbital energies, Mulliken population etc.\n",
    "mf.analyze()\n",
    "\n",
    "# Get the converged density matrix (it generates the density matrix)\n",
    "dm = mf.make_rdm1()\n",
    "mmwrite('dft_density.mtx', sparse.coo_matrix(dm))\n",
    "\n",
    "\n",
    "# Get the nuclear-nuclear repulsion energy\n",
    "e_nuc = mf.energy_nuc()\n",
    "# Get the 'core' hamiltonian, corresponding to kinetic energy and e-nuclear repulsion terms\n",
    "h1e = mf.get_hcore()\n",
    "#mmwrite('dft_hcore.mtx', sparse.coo_matrix(h1e))\n",
    "e1 = np.einsum('ij,ji', h1e, dm) # Compute the kinetic + e-nuclear repulsion energy\n",
    "# Get the kohn-sham potential, including the Hartree coulomb repulsion and exchange-correlation potential, integrated on a grid\n",
    "vhf = mf.get_veff(mf.mol, dm)\n",
    "#print(type(vhf))\n",
    "#print(vhf)\n",
    "# Total energy\n",
    "tot_e = e1 + vhf.ecoul + vhf.exc + e_nuc    # Total energy is sum of terms\n",
    "print('Total dft energy: {}'.format(tot_e))\n",
    "\n",
    "# chemical potential\n",
    "index = int(mol.nelectron/2)\n",
    "dft_mu = (mf.mo_energy[index] + mf.mo_energy[index - 1]) / 2.\n",
    "print('Chemical Potential: ', str(dft_mu))\n",
    "\n",
    "# get the overlap matrix and print to file\n",
    "ovlp = mf.get_ovlp()\n",
    "inv_ovlp = linalg.inv(ovlp)\n",
    "\n",
    "# Full fock matrix is sum of h1e and vhf\n",
    "fock = h1e + vhf\n",
    "\n",
    "# Get whole fock matrix directly corresponding to this density, without computing individual components\n",
    "fock_direct = mf.get_fock(dm=dm)\n",
    "\n",
    "# Check that ways to get the fock matrix are the same\n",
    "assert(np.allclose(fock_direct,fock))\n",
    "\n",
    "print(\"DFT trace: \", dm.trace())\n",
    "core_spect = linalg.eigvalsh(h1e, ovlp)\n",
    "print(\"Core eigvals: \", core_spect)\n",
    "num_electrons = 10\n",
    "index = int(num_electrons/2)\n",
    "gcp_mu = (core_spect[index] + core_spect[index-1])/2\n",
    "plt.imshow(ovlp)\n",
    "plt.colorbar()\n",
    "plt.xlabel('i')\n",
    "plt.ylabel('j')\n",
    "plt.title('Overlap Matrix Elements')"
   ]
  },
  {
   "cell_type": "code",
   "execution_count": 4,
   "metadata": {},
   "outputs": [
    {
     "name": "stdout",
     "output_type": "stream",
     "text": [
      "3.0408013568652525\n",
      "10.000000000000007\n"
     ]
    }
   ],
   "source": [
    "beta = 3\n",
    "num_steps = 10000\n",
    "dbeta = beta/num_steps\n",
    "\n",
    "# Perform GCP DMM method\n",
    "identity = np.eye(h1e.shape[0])\n",
    "dmm_gcp = gcp.non_linear_rk4(gcp.non_linear_rhs, ovlp/2, dbeta, h1e, inv_ovlp, identity, gcp_mu, num_steps, mf)\n",
    "\n",
    "# Perform CP DMM method\n",
    "init_rho = num_electrons*ovlp/ovlp.trace()\n",
    "init_H = mf.get_veff(mf.mol, init_rho)\n",
    "init_mu = (init_H.trace()+init_H.conj().T.trace())/(2*ovlp.trace())\n",
    "dmm_cp, cp_mu, list_H = cp.non_linear_rk4(cp.non_linear_rhs, init_rho, dbeta, h1e, inv_ovlp, identity, num_steps, mf, num_electrons, ovlp, init_mu, 0)\n",
    "print(cp_mu)\n",
    "print(dmm_cp.trace())"
   ]
  },
  {
   "cell_type": "code",
   "execution_count": 5,
   "metadata": {},
   "outputs": [
    {
     "name": "stdout",
     "output_type": "stream",
     "text": [
      "funm result may be inaccurate, approximate err = 1\n",
      "funm result may be inaccurate, approximate err = 1\n",
      "funm result may be inaccurate, approximate err = 1\n",
      "funm result may be inaccurate, approximate err = 1\n",
      "funm result may be inaccurate, approximate err = 1\n",
      "funm result may be inaccurate, approximate err = 1\n",
      "funm result may be inaccurate, approximate err = 1\n",
      "funm result may be inaccurate, approximate err = 0.8825258414953876\n",
      "funm result may be inaccurate, approximate err = 0.8971905443259665\n",
      "funm result may be inaccurate, approximate err = 1\n",
      "funm result may be inaccurate, approximate err = 1\n",
      "funm result may be inaccurate, approximate err = 1\n",
      "funm result may be inaccurate, approximate err = 1\n",
      "funm result may be inaccurate, approximate err = 0.5051341163975186\n",
      "funm result may be inaccurate, approximate err = 1\n",
      "funm result may be inaccurate, approximate err = 1\n",
      "funm result may be inaccurate, approximate err = 1\n",
      "funm result may be inaccurate, approximate err = 0.7187401502342933\n",
      "funm result may be inaccurate, approximate err = 1\n",
      "funm result may be inaccurate, approximate err = 1\n",
      "funm result may be inaccurate, approximate err = 1\n",
      "funm result may be inaccurate, approximate err = 1\n",
      "funm result may be inaccurate, approximate err = 1\n",
      "funm result may be inaccurate, approximate err = 1\n",
      "funm result may be inaccurate, approximate err = 1\n",
      "funm result may be inaccurate, approximate err = 1\n",
      "funm result may be inaccurate, approximate err = 1\n",
      "funm result may be inaccurate, approximate err = 1\n",
      "funm result may be inaccurate, approximate err = 1\n",
      "funm result may be inaccurate, approximate err = 1\n",
      "funm result may be inaccurate, approximate err = 1.6852595716016386e-09\n",
      "funm result may be inaccurate, approximate err = 8.737019411638755e-07\n",
      "funm result may be inaccurate, approximate err = 1.7267087049593247e-09\n",
      "funm result may be inaccurate, approximate err = 1.2033536369782137e-06\n",
      "funm result may be inaccurate, approximate err = 4.736445027932581e-09\n",
      "funm result may be inaccurate, approximate err = 3.1128422913588475e-06\n",
      "funm result may be inaccurate, approximate err = 4.9344577963084485e-09\n",
      "funm result may be inaccurate, approximate err = 3.5853461477641732e-06\n",
      "funm result may be inaccurate, approximate err = 1.3140763945209054e-08\n",
      "funm result may be inaccurate, approximate err = 1.0003863323556589e-05\n",
      "funm result may be inaccurate, approximate err = 1.3780099475673973e-08\n",
      "funm result may be inaccurate, approximate err = 1.0715887254990917e-05\n",
      "funm result may be inaccurate, approximate err = 3.631353317092604e-08\n",
      "funm result may be inaccurate, approximate err = 3.085105700110741e-05\n",
      "funm result may be inaccurate, approximate err = 3.822404740602166e-08\n",
      "funm result may be inaccurate, approximate err = 3.219905081876673e-05\n",
      "funm result may be inaccurate, approximate err = 1.0034445466788203e-07\n",
      "funm result may be inaccurate, approximate err = 9.372796145830173e-05\n",
      "funm result may be inaccurate, approximate err = 1.0599119084367669e-07\n",
      "funm result may be inaccurate, approximate err = 9.730344416841228e-05\n",
      "funm result may be inaccurate, approximate err = 2.7767996660831076e-07\n",
      "funm result may be inaccurate, approximate err = 0.0002839500339127272\n",
      "funm result may be inaccurate, approximate err = 2.945178527072256e-07\n",
      "funm result may be inaccurate, approximate err = 0.0002960523751062992\n",
      "funm result may be inaccurate, approximate err = 7.698481756621109e-07\n",
      "funm result may be inaccurate, approximate err = 0.0008621047851436578\n",
      "funm result may be inaccurate, approximate err = 8.207886538657103e-07\n",
      "funm result may be inaccurate, approximate err = 0.0009055785022913788\n",
      "funm result may be inaccurate, approximate err = 2.138164491720849e-06\n",
      "funm result may be inaccurate, approximate err = 0.0026316155310394038\n",
      "funm result may be inaccurate, approximate err = 2.294552225720376e-06\n",
      "funm result may be inaccurate, approximate err = 0.002788474222717167\n",
      "funm result may be inaccurate, approximate err = 5.947078975998002e-06\n",
      "funm result may be inaccurate, approximate err = 0.016207175726677226\n",
      "funm result may be inaccurate, approximate err = 6.433734437956086e-06\n",
      "funm result may be inaccurate, approximate err = 0.00854640882486366\n",
      "funm result may be inaccurate, approximate err = 1.655587010063731e-05\n",
      "funm result may be inaccurate, approximate err = 0.02418576946645486\n",
      "Iterations converged!\n",
      "funm result may be inaccurate, approximate err = 0.8845079617071602\n",
      "funm result may be inaccurate, approximate err = 1\n",
      "funm result may be inaccurate, approximate err = 0.5401593732539077\n",
      "funm result may be inaccurate, approximate err = 1\n",
      "funm result may be inaccurate, approximate err = 0.5582394801896156\n",
      "funm result may be inaccurate, approximate err = 0.5366087054466182\n",
      "funm result may be inaccurate, approximate err = 2.501451392115197e-09\n",
      "funm result may be inaccurate, approximate err = 3.5721569983039905e-07\n",
      "funm result may be inaccurate, approximate err = 1.2808018137360068e-08\n",
      "funm result may be inaccurate, approximate err = 4.934399952946389e-07\n",
      "funm result may be inaccurate, approximate err = 1.1863568343755941e-08\n",
      "funm result may be inaccurate, approximate err = 7.26943316127443e-08\n",
      "funm result may be inaccurate, approximate err = 1.7527600719168796e-07\n",
      "funm result may be inaccurate, approximate err = 1.1936585955885834e-06\n",
      "funm result may be inaccurate, approximate err = 3.984773633023877e-07\n",
      "funm result may be inaccurate, approximate err = 2.6121698528344237e-06\n",
      "funm result may be inaccurate, approximate err = 7.354420489354117e-07\n",
      "funm result may be inaccurate, approximate err = 4.447582958325564e-06\n",
      "funm result may be inaccurate, approximate err = 1.8455220933355043e-09\n",
      "funm result may be inaccurate, approximate err = 4.5956507164092785e-08\n",
      "funm result may be inaccurate, approximate err = 2.0006820700432158e-08\n",
      "funm result may be inaccurate, approximate err = 1.7342998687305614e-07\n",
      "funm result may be inaccurate, approximate err = 6.604619828261132e-08\n",
      "funm result may be inaccurate, approximate err = 9.316771541989928e-05\n",
      "funm result may be inaccurate, approximate err = 1.2763519115109532e-07\n",
      "funm result may be inaccurate, approximate err = 1.2232213707780504e-06\n",
      "funm result may be inaccurate, approximate err = 7.81830161630946e-07\n",
      "funm result may be inaccurate, approximate err = 0.0009550419164295865\n",
      "funm result may be inaccurate, approximate err = 4.063168734932884e-06\n",
      "funm result may be inaccurate, approximate err = 3.049224520425895e-05\n",
      "funm result may be inaccurate, approximate err = 3.4118144061457954e-05\n",
      "funm result may be inaccurate, approximate err = 1\n",
      "funm result may be inaccurate, approximate err = 2.586447552675153e-12\n",
      "funm result may be inaccurate, approximate err = 3.4591271176607504e-10\n",
      "funm result may be inaccurate, approximate err = 3.890915540963495e-12\n",
      "funm result may be inaccurate, approximate err = 0.00010879546903051239\n",
      "funm result may be inaccurate, approximate err = 1.784374439143054e-11\n",
      "funm result may be inaccurate, approximate err = 9.148735096897124e-11\n",
      "funm result may be inaccurate, approximate err = 4.607540528366471e-11\n",
      "funm result may be inaccurate, approximate err = 9.838247182189827e-10\n",
      "funm result may be inaccurate, approximate err = 6.93886565311501e-11\n",
      "funm result may be inaccurate, approximate err = 9.44694098326504e-10\n",
      "funm result may be inaccurate, approximate err = 1.0588977529006284e-10\n",
      "funm result may be inaccurate, approximate err = 1.9967003363891515e-08\n",
      "funm result may be inaccurate, approximate err = 4.483446971924736e-10\n",
      "funm result may be inaccurate, approximate err = 6.123888692274938e-09\n",
      "funm result may be inaccurate, approximate err = 9.207214671918471e-10\n",
      "funm result may be inaccurate, approximate err = 4.2028755980758376e-07\n",
      "funm result may be inaccurate, approximate err = 1.1625531321035823e-09\n",
      "funm result may be inaccurate, approximate err = 8.721878895338804e-09\n",
      "funm result may be inaccurate, approximate err = 4.821574528704435e-09\n",
      "funm result may be inaccurate, approximate err = 3.1490078850139213e-08\n",
      "funm result may be inaccurate, approximate err = 2.3068770548966916e-08\n",
      "funm result may be inaccurate, approximate err = 3.233105250322017e-07\n",
      "funm result may be inaccurate, approximate err = 4.2835929749614855e-08\n",
      "funm result may be inaccurate, approximate err = 4.3282992389184086e-07\n",
      "funm result may be inaccurate, approximate err = 9.524727857168533e-07\n",
      "funm result may be inaccurate, approximate err = 1\n",
      "funm result may be inaccurate, approximate err = 9.038590152487464e-08\n",
      "funm result may be inaccurate, approximate err = 1.3442540446114239e-06\n",
      "funm result may be inaccurate, approximate err = 2.088010838159404e-09\n",
      "funm result may be inaccurate, approximate err = 0.06317900795477971\n",
      "funm result may be inaccurate, approximate err = 4.973251068537252e-06\n"
     ]
    },
    {
     "name": "stdout",
     "output_type": "stream",
     "text": [
      "funm result may be inaccurate, approximate err = 6.856270909505108e-05\n",
      "funm result may be inaccurate, approximate err = 2.079087734310888e-06\n",
      "funm result may be inaccurate, approximate err = 2.507946935661169e-05\n",
      "funm result may be inaccurate, approximate err = 2.2962214478951094e-06\n",
      "funm result may be inaccurate, approximate err = 1\n",
      "funm result may be inaccurate, approximate err = 3.917496683453558e-07\n",
      "funm result may be inaccurate, approximate err = 3.855954097585071e-06\n",
      "funm result may be inaccurate, approximate err = 5.354755151853143e-07\n",
      "funm result may be inaccurate, approximate err = 0.0002421265293452757\n",
      "funm result may be inaccurate, approximate err = 2.30940971830624e-06\n",
      "funm result may be inaccurate, approximate err = 9.057065481559036e-05\n",
      "funm result may be inaccurate, approximate err = 3.5476215893829977e-07\n",
      "funm result may be inaccurate, approximate err = 2.5660969951727114e-06\n",
      "funm result may be inaccurate, approximate err = 7.907019558230516e-08\n",
      "funm result may be inaccurate, approximate err = 8.401170861130916e-06\n",
      "funm result may be inaccurate, approximate err = 8.903127339561643e-06\n",
      "funm result may be inaccurate, approximate err = 6.601863247610802e-05\n",
      "funm result may be inaccurate, approximate err = 0.0010541874439105726\n",
      "funm result may be inaccurate, approximate err = 0.0002631323505869899\n",
      "funm result may be inaccurate, approximate err = 5.523551565480553e-06\n",
      "funm result may be inaccurate, approximate err = 4.467006004817386e-05\n",
      "funm result may be inaccurate, approximate err = 8.093876338964921e-06\n",
      "funm result may be inaccurate, approximate err = 5.4486606639189254e-05\n",
      "funm result may be inaccurate, approximate err = 8.144171596377839e-06\n",
      "funm result may be inaccurate, approximate err = 6.246620770371526e-05\n",
      "funm result may be inaccurate, approximate err = 2.144250279643542e-06\n",
      "funm result may be inaccurate, approximate err = 0.0034646258265248796\n",
      "funm result may be inaccurate, approximate err = 1.8608703763736542e-05\n",
      "funm result may be inaccurate, approximate err = 0.00024894379288415683\n",
      "funm result may be inaccurate, approximate err = 3.671701588745496e-07\n",
      "funm result may be inaccurate, approximate err = 3.2944880876014625e-06\n",
      "funm result may be inaccurate, approximate err = 0.00012703488699263433\n",
      "funm result may be inaccurate, approximate err = 0.0009810070195003485\n",
      "funm result may be inaccurate, approximate err = 0.0002932989019990744\n",
      "funm result may be inaccurate, approximate err = 1\n",
      "funm result may be inaccurate, approximate err = 4.429014963201713e-06\n",
      "funm result may be inaccurate, approximate err = 5.906745175629086e-05\n",
      "funm result may be inaccurate, approximate err = 1.6268077250073055e-05\n",
      "funm result may be inaccurate, approximate err = 0.0014232822339821827\n",
      "funm result may be inaccurate, approximate err = 9.385123934640342e-06\n",
      "funm result may be inaccurate, approximate err = 0.0001999788997490074\n",
      "funm result may be inaccurate, approximate err = 3.8406595675601e-05\n",
      "funm result may be inaccurate, approximate err = 0.0007744438802090768\n",
      "funm result may be inaccurate, approximate err = 0.00014614578572873005\n",
      "funm result may be inaccurate, approximate err = 0.024145013432133076\n",
      "funm result may be inaccurate, approximate err = 0.00016497651599138325\n",
      "funm result may be inaccurate, approximate err = 0.0019485192961255634\n",
      "funm result may be inaccurate, approximate err = 0.00044520096115960555\n",
      "funm result may be inaccurate, approximate err = 0.018715198314225235\n",
      "funm result may be inaccurate, approximate err = 0.0010313473090623325\n",
      "funm result may be inaccurate, approximate err = 1\n",
      "funm result may be inaccurate, approximate err = 0.0036114576691851073\n",
      "funm result may be inaccurate, approximate err = 0.08445569050828365\n",
      "funm result may be inaccurate, approximate err = 1.1827489457935643e-06\n",
      "funm result may be inaccurate, approximate err = 1\n",
      "funm result may be inaccurate, approximate err = 0.002030417018453304\n",
      "funm result may be inaccurate, approximate err = 0.024910035688176495\n",
      "funm result may be inaccurate, approximate err = 0.0037912070459099837\n",
      "funm result may be inaccurate, approximate err = 1\n",
      "funm result may be inaccurate, approximate err = 0.007035410498042772\n",
      "funm result may be inaccurate, approximate err = 0.08058883237616478\n",
      "funm result may be inaccurate, approximate err = 0.0642462734981831\n",
      "funm result may be inaccurate, approximate err = 1\n",
      "funm result may be inaccurate, approximate err = 0.04877004050821488\n",
      "funm result may be inaccurate, approximate err = 1\n",
      "funm result may be inaccurate, approximate err = 4.156362266634921e-09\n",
      "funm result may be inaccurate, approximate err = 7.189470132124701e-08\n",
      "funm result may be inaccurate, approximate err = 1.9547341645399334e-08\n",
      "funm result may be inaccurate, approximate err = 1.881571418723584e-07\n",
      "funm result may be inaccurate, approximate err = 1.0316922167840183e-07\n",
      "funm result may be inaccurate, approximate err = 7.432804134202537e-07\n",
      "funm result may be inaccurate, approximate err = 9.515494481575492e-08\n",
      "funm result may be inaccurate, approximate err = 8.350172834220034e-07\n",
      "funm result may be inaccurate, approximate err = 1.951109923044633e-07\n",
      "funm result may be inaccurate, approximate err = 1.6808894466316635e-06\n",
      "funm result may be inaccurate, approximate err = 6.136477353163199e-08\n",
      "funm result may be inaccurate, approximate err = 3.148016343011705e-07\n",
      "funm result may be inaccurate, approximate err = 6.362224987050501e-07\n",
      "funm result may be inaccurate, approximate err = 4.074787026779324e-06\n",
      "funm result may be inaccurate, approximate err = 1.0965655745191575e-07\n",
      "funm result may be inaccurate, approximate err = 8.855007659523364e-07\n",
      "funm result may be inaccurate, approximate err = 4.6514061311204334e-07\n",
      "funm result may be inaccurate, approximate err = 3.310898981889054e-06\n",
      "funm result may be inaccurate, approximate err = 3.1065057559874783e-06\n",
      "funm result may be inaccurate, approximate err = 2.2169236766790558e-05\n",
      "funm result may be inaccurate, approximate err = 1.2053558293883171e-05\n",
      "funm result may be inaccurate, approximate err = 8.049275268117539e-05\n",
      "funm result may be inaccurate, approximate err = 8.081232464397189e-05\n",
      "funm result may be inaccurate, approximate err = 0.07319253623596571\n",
      "funm result may be inaccurate, approximate err = 0.00024219013413121922\n",
      "funm result may be inaccurate, approximate err = 0.00564384472293469\n",
      "funm result may be inaccurate, approximate err = 0.0011994878193666285\n",
      "funm result may be inaccurate, approximate err = 0.01652889314053746\n",
      "funm result may be inaccurate, approximate err = 0.006328966210482054\n",
      "funm result may be inaccurate, approximate err = 1\n",
      "funm result may be inaccurate, approximate err = 0.001275961006613762\n",
      "funm result may be inaccurate, approximate err = 0.030245749366138074\n",
      "funm result may be inaccurate, approximate err = 0.00778052001819862\n",
      "funm result may be inaccurate, approximate err = 0.9325714199493516\n",
      "funm result may be inaccurate, approximate err = 0.03482250631026655\n",
      "funm result may be inaccurate, approximate err = 1\n",
      "funm result may be inaccurate, approximate err = 0.004144017471009414\n",
      "funm result may be inaccurate, approximate err = 0.8915305944943026\n",
      "funm result may be inaccurate, approximate err = 1.0456567700050007e-11\n",
      "funm result may be inaccurate, approximate err = 1.4897016102892176e-10\n",
      "funm result may be inaccurate, approximate err = 1.4499392599115645e-09\n",
      "funm result may be inaccurate, approximate err = 1.5860855592145357e-08\n",
      "funm result may be inaccurate, approximate err = 6.538325812622716e-09\n",
      "funm result may be inaccurate, approximate err = 1.4673220559958074e-07\n",
      "funm result may be inaccurate, approximate err = 1.3627489478716526e-08\n",
      "funm result may be inaccurate, approximate err = 8.7807470491775e-08\n",
      "funm result may be inaccurate, approximate err = 1.4779756973034621e-09\n",
      "funm result may be inaccurate, approximate err = 9.40041659526846e-09\n",
      "funm result may be inaccurate, approximate err = 1.793057823979278e-09\n",
      "funm result may be inaccurate, approximate err = 2.3987911813515868e-08\n",
      "funm result may be inaccurate, approximate err = 1.7283795089009622e-08\n",
      "funm result may be inaccurate, approximate err = 1.0700917995780075e-07\n",
      "funm result may be inaccurate, approximate err = 3.496579386858897e-08\n",
      "funm result may be inaccurate, approximate err = 4.5540254642638017e-07\n",
      "funm result may be inaccurate, approximate err = 1.2375165578850292e-07\n",
      "funm result may be inaccurate, approximate err = 1.002275459968812e-06\n",
      "funm result may be inaccurate, approximate err = 1.3340820907524624e-05\n"
     ]
    },
    {
     "name": "stdout",
     "output_type": "stream",
     "text": [
      "funm result may be inaccurate, approximate err = 9.21940828395762e-05\n",
      "funm result may be inaccurate, approximate err = 7.787217283843035e-05\n",
      "funm result may be inaccurate, approximate err = 0.000424836494247754\n",
      "funm result may be inaccurate, approximate err = 0.00023071567512267433\n",
      "funm result may be inaccurate, approximate err = 0.0014947587558593568\n",
      "funm result may be inaccurate, approximate err = 3.26385115595048e-05\n",
      "funm result may be inaccurate, approximate err = 0.03308354653070298\n",
      "funm result may be inaccurate, approximate err = 0.0006370869575026469\n",
      "funm result may be inaccurate, approximate err = 0.008141430678301049\n",
      "funm result may be inaccurate, approximate err = 0.0006137651754672994\n",
      "funm result may be inaccurate, approximate err = 0.14376454616848464\n",
      "funm result may be inaccurate, approximate err = 0.003348767947142192\n",
      "funm result may be inaccurate, approximate err = 0.027795408658839588\n",
      "funm result may be inaccurate, approximate err = 0.18901560711657828\n",
      "funm result may be inaccurate, approximate err = 1\n"
     ]
    }
   ],
   "source": [
    "func_args = {'h1e': h1e, 'mf': mf, 'mu': gcp_mu, 'ovlp':ovlp, 'inv_ovlp': inv_ovlp, 'beta': beta}\n",
    "gcp_exact_P, norm_diff = gcp.aitkens(ovlp/2, 50, gcp.exact_single_step, **func_args)\n",
    "func_args = {'h1e': h1e, 'mf': mf, 'mu': cp_mu, 'ovlp':ovlp, 'inv_ovlp': inv_ovlp, 'beta': beta, 'num_electrons':num_electrons}\n",
    "cp_exact_P, norm_diff = cp.aitkens(num_electrons*ovlp/ovlp.trace(), 100, cp.exact_single_step, **func_args)"
   ]
  },
  {
   "cell_type": "code",
   "execution_count": 6,
   "metadata": {},
   "outputs": [
    {
     "name": "stdout",
     "output_type": "stream",
     "text": [
      "funm result may be inaccurate, approximate err = 0.8845079617071612\n",
      "funm result may be inaccurate, approximate err = 0.7053422403658001\n",
      "funm result may be inaccurate, approximate err = 1\n",
      "funm result may be inaccurate, approximate err = 1.0517466126450038e-11\n",
      "funm result may be inaccurate, approximate err = 8.373599653330349e-11\n",
      "funm result may be inaccurate, approximate err = 6.790804078256977e-10\n",
      "funm result may be inaccurate, approximate err = 3.799752496399929e-09\n",
      "funm result may be inaccurate, approximate err = 4.105069164302304e-08\n",
      "funm result may be inaccurate, approximate err = 2.3426850759467222e-07\n",
      "funm result may be inaccurate, approximate err = 2.0493327294479915e-06\n",
      "funm result may be inaccurate, approximate err = 1.963677198290865e-05\n",
      "funm result may be inaccurate, approximate err = 0.00014601440949349941\n",
      "funm result may be inaccurate, approximate err = 0.001140741709438397\n",
      "funm result may be inaccurate, approximate err = 0.01119307751879219\n",
      "funm result may be inaccurate, approximate err = 0.11496195162804974\n",
      "funm result may be inaccurate, approximate err = 1\n",
      "funm result may be inaccurate, approximate err = 8.917063478404126e-13\n",
      "funm result may be inaccurate, approximate err = 5.646544185455852e-12\n",
      "funm result may be inaccurate, approximate err = 6.49904133213917e-11\n",
      "funm result may be inaccurate, approximate err = 4.1241093779838614e-10\n",
      "funm result may be inaccurate, approximate err = 4.7254953610370346e-09\n",
      "funm result may be inaccurate, approximate err = 2.989093531410829e-08\n",
      "funm result may be inaccurate, approximate err = 3.4451466837983133e-07\n",
      "funm result may be inaccurate, approximate err = 2.176986168880313e-06\n",
      "funm result may be inaccurate, approximate err = 2.509750359982042e-05\n",
      "funm result may be inaccurate, approximate err = 0.00015869615698868548\n",
      "funm result may be inaccurate, approximate err = 0.0018306826157592495\n",
      "funm result may be inaccurate, approximate err = 0.011554184951038236\n",
      "funm result may be inaccurate, approximate err = 0.14416798555312474\n",
      "funm result may be inaccurate, approximate err = 1\n",
      "funm result may be inaccurate, approximate err = 1.106943749932791e-11\n",
      "funm result may be inaccurate, approximate err = 5.98045403036215e-11\n",
      "funm result may be inaccurate, approximate err = 6.88369633650041e-10\n",
      "funm result may be inaccurate, approximate err = 4.352216621483967e-09\n",
      "funm result may be inaccurate, approximate err = 5.0135592021958305e-08\n",
      "funm result may be inaccurate, approximate err = 3.169794361620937e-07\n",
      "funm result may be inaccurate, approximate err = 3.651480117396467e-06\n",
      "funm result may be inaccurate, approximate err = 2.308645557925666e-05\n",
      "funm result may be inaccurate, approximate err = 0.00026575214520197936\n",
      "funm result may be inaccurate, approximate err = 0.0016774869914175318\n",
      "funm result may be inaccurate, approximate err = 0.019885588814986557\n",
      "funm result may be inaccurate, approximate err = 0.13710661519310216\n",
      "funm result may be inaccurate, approximate err = 1\n",
      "funm result may be inaccurate, approximate err = 4.187291478554633e-09\n",
      "funm result may be inaccurate, approximate err = 4.835304894542189e-08\n",
      "funm result may be inaccurate, approximate err = 3.05700751613424e-07\n",
      "funm result may be inaccurate, approximate err = 3.5216221528865345e-06\n",
      "funm result may be inaccurate, approximate err = 2.226503706686929e-05\n",
      "funm result may be inaccurate, approximate err = 0.0002567214984800081\n",
      "funm result may be inaccurate, approximate err = 0.001622563481479593\n",
      "funm result may be inaccurate, approximate err = 0.020116816012299133\n",
      "funm result may be inaccurate, approximate err = 0.12097642425787712\n",
      "funm result may be inaccurate, approximate err = 1\n",
      "funm result may be inaccurate, approximate err = 0.6928699259032778\n",
      "funm result may be inaccurate, approximate err = 1\n",
      "funm result may be inaccurate, approximate err = 1.1542352464496567e-09\n",
      "funm result may be inaccurate, approximate err = 1.3081667852993868e-08\n",
      "funm result may be inaccurate, approximate err = 8.272429443416492e-08\n",
      "funm result may be inaccurate, approximate err = 9.529414689862914e-07\n",
      "funm result may be inaccurate, approximate err = 6.02496942098733e-06\n",
      "funm result may be inaccurate, approximate err = 6.940729271209628e-05\n",
      "funm result may be inaccurate, approximate err = 0.00043836709196764357\n",
      "funm result may be inaccurate, approximate err = 0.0049713970636216295\n",
      "funm result may be inaccurate, approximate err = 0.03069551062641549\n",
      "funm result may be inaccurate, approximate err = 0.314553850570266\n",
      "funm result may be inaccurate, approximate err = 0.6928699258437159\n",
      "funm result may be inaccurate, approximate err = 1\n",
      "funm result may be inaccurate, approximate err = 7.662056940790005e-11\n",
      "funm result may be inaccurate, approximate err = 8.843850377010387e-10\n",
      "funm result may be inaccurate, approximate err = 5.591348095794622e-09\n",
      "funm result may be inaccurate, approximate err = 6.441017816515668e-08\n",
      "funm result may be inaccurate, approximate err = 4.0722922483034663e-07\n",
      "funm result may be inaccurate, approximate err = 4.691090902059434e-06\n",
      "funm result may be inaccurate, approximate err = 2.9660706139862756e-05\n",
      "funm result may be inaccurate, approximate err = 0.000342312263184825\n",
      "funm result may be inaccurate, approximate err = 0.002158026455373039\n",
      "funm result may be inaccurate, approximate err = 0.02337900240726875\n",
      "funm result may be inaccurate, approximate err = 0.18696356472455333\n",
      "funm result may be inaccurate, approximate err = 1\n",
      "funm result may be inaccurate, approximate err = 1\n",
      "funm result may be inaccurate, approximate err = 1\n",
      "funm result may be inaccurate, approximate err = 2.977168782281462e-11\n",
      "funm result may be inaccurate, approximate err = 3.439247635347122e-10\n",
      "funm result may be inaccurate, approximate err = 2.1743734197477034e-09\n",
      "funm result may be inaccurate, approximate err = 2.5047974323581795e-08\n",
      "funm result may be inaccurate, approximate err = 1.583642666719651e-07\n",
      "funm result may be inaccurate, approximate err = 1.8242927923547765e-06\n",
      "funm result may be inaccurate, approximate err = 1.1533938157662022e-05\n",
      "funm result may be inaccurate, approximate err = 0.0001329168852281328\n",
      "funm result may be inaccurate, approximate err = 0.0008397710134630135\n",
      "funm result may be inaccurate, approximate err = 0.009611367656338634\n",
      "funm result may be inaccurate, approximate err = 0.0663419100634886\n",
      "funm result may be inaccurate, approximate err = 0.43251154453456714\n",
      "funm result may be inaccurate, approximate err = 1\n",
      "funm result may be inaccurate, approximate err = 1\n",
      "funm result may be inaccurate, approximate err = 1\n",
      "funm result may be inaccurate, approximate err = 1\n",
      "funm result may be inaccurate, approximate err = 1.609665033833419e-10\n",
      "funm result may be inaccurate, approximate err = 1.869548962196377e-09\n",
      "funm result may be inaccurate, approximate err = 1.1818965164192693e-08\n"
     ]
    }
   ],
   "source": [
    "init_rho = num_electrons*ovlp/ovlp.trace()\n",
    "norm_diff_temp = []\n",
    "for i in range(100):\n",
    "    temp_cp_exact_P = cp.exact_single_step(init_rho, **func_args)\n",
    "    norm_diff_temp.append(linalg.norm(cp_exact_P - init_rho))\n",
    "    init_rho = temp_cp_exact_P.copy()\n",
    "    "
   ]
  },
  {
   "cell_type": "code",
   "execution_count": 7,
   "metadata": {},
   "outputs": [
    {
     "name": "stdout",
     "output_type": "stream",
     "text": [
      "10.000000000000004\n",
      "9.997819038789167\n"
     ]
    },
    {
     "data": {
      "image/png": "[encoded data removed]",
      "text/plain": [
       "<Figure size 432x288 with 1 Axes>"
      ]
     },
     "metadata": {
      "needs_background": "light"
     },
     "output_type": "display_data"
    },
    {
     "data": {
      "image/png": "[encoded data removed]",
      "text/plain": [
       "<Figure size 432x288 with 1 Axes>"
      ]
     },
     "metadata": {
      "needs_background": "light"
     },
     "output_type": "display_data"
    }
   ],
   "source": [
    "plt.figure(1)\n",
    "plt.plot(linalg.eigvalsh(gcp_exact_P)[::-1], 'ks-', label=\"Exact by FD\")\n",
    "plt.plot(linalg.eigvalsh(dmm_gcp)[::-1], 'r^-', label=\"Grand Can. DMM\")\n",
    "plt.ylabel(\"Population\")\n",
    "plt.xlabel(\"Eigenvalue Index\")\n",
    "plt.legend(numpoints=1)\n",
    "plt.savefig(\"gc_hf_eigs.png\", format='png', dpi=300)\n",
    "\n",
    "print(linalg.eigvalsh(dmm_cp).sum())\n",
    "plt.figure(2)\n",
    "plt.plot(linalg.eigvalsh(cp_exact_P)[::-1], 'ks-', label=\"Exact by FD\")\n",
    "plt.plot(linalg.eigvalsh(dmm_cp)[::-1], 'r^-', label=\"Can. DMM\")\n",
    "plt.ylabel(\"Population\")\n",
    "plt.xlabel(\"Eigenvalue Index\")\n",
    "#plt.plot(linalg.eigvalsh(temp_cp_exact_P, ovlp), 'g--', label=\"Simple\")\n",
    "plt.legend(numpoints=1)\n",
    "plt.savefig(\"c_hf_eigs.png\", format='png', dpi=300)\n",
    "print(cp_exact_P.trace())"
   ]
  },
  {
   "cell_type": "code",
   "execution_count": 8,
   "metadata": {},
   "outputs": [
    {
     "data": {
      "text/plain": [
       "7.565038145328428"
      ]
     },
     "execution_count": 8,
     "metadata": {},
     "output_type": "execute_result"
    }
   ],
   "source": [
    "linalg.eigvalsh(dmm_cp, ovlp).sum()"
   ]
  },
  {
   "cell_type": "code",
   "execution_count": 8,
   "metadata": {},
   "outputs": [
    {
     "data": {
      "text/plain": [
       "<matplotlib.legend.Legend at 0x7f3b1c3e3450>"
      ]
     },
     "execution_count": 8,
     "metadata": {},
     "output_type": "execute_result"
    },
    {
     "data": {
      "image/png": "[encoded data removed]",
      "text/plain": [
       "<Figure size 432x288 with 1 Axes>"
      ]
     },
     "metadata": {
      "needs_background": "light"
     },
     "output_type": "display_data"
    }
   ],
   "source": [
    "plt.semilogy(norm_diff, 'ks-', label=\"Aitkens\")\n",
    "#plt.semilogy(norm_diff_temp, 'rx-', label=\"Simple\")\n",
    "plt.legend(numpoints=1)"
   ]
  },
  {
   "cell_type": "code",
   "execution_count": 9,
   "metadata": {},
   "outputs": [
    {
     "data": {
      "text/plain": [
       "[<matplotlib.lines.Line2D at 0x7f3b1c23e790>]"
      ]
     },
     "execution_count": 9,
     "metadata": {},
     "output_type": "execute_result"
    },
    {
     "data": {
      "image/png": "[encoded data removed]",
      "text/plain": [
       "<Figure size 432x288 with 1 Axes>"
      ]
     },
     "metadata": {
      "needs_background": "light"
     },
     "output_type": "display_data"
    }
   ],
   "source": [
    "A = linalg.eigvalsh(cp_exact_P, ovlp)[::-1]\n",
    "B = linalg.eigvalsh(dmm_cp, ovlp)[::-1]\n",
    "plt.plot(np.abs(A-B)/np.abs(A))"
   ]
  },
  {
   "cell_type": "code",
   "execution_count": 10,
   "metadata": {},
   "outputs": [
    {
     "name": "stdout",
     "output_type": "stream",
     "text": [
      "[[ 3.20951375e+00  1.53290085e+00 -3.82246121e-01 -8.65994942e-03\n",
      "   5.95208246e-01  1.00221203e-19  3.63286972e-19 -2.20677591e-01\n",
      "   7.69498077e-19  1.94526203e-19 -1.41813962e+00]\n",
      " [ 1.53290085e+00  1.94331740e+00 -1.20837285e+00 -6.65462669e-02\n",
      "   7.59610782e-01 -1.38029313e-18  1.63269902e-18 -2.18501672e-01\n",
      "  -1.36252984e-18 -2.33455205e-18 -1.11722562e+00]\n",
      " [-3.82246121e-01 -1.20837285e+00 -2.45640096e+01 -5.97060560e+00\n",
      "  -4.23224289e+00 -1.63562062e-18 -6.77626358e-19 -5.42533073e-02\n",
      "   3.81905980e-19  7.06187250e-19 -7.32953758e-03]\n",
      " [-8.65994942e-03 -6.65462669e-02 -5.97060560e+00  1.97073237e-01\n",
      "  -2.10771479e-01 -3.77103866e-18 -4.19391324e-18 -2.89949509e-01\n",
      "  -2.69593620e-18 -9.37444098e-19 -1.61619083e-01]\n",
      " [ 5.95208246e-01  7.59610782e-01 -4.23224289e+00 -2.10771479e-01\n",
      "   8.85311731e-01  4.81088244e-19 -2.14972992e-18 -2.47789535e-01\n",
      "  -1.41330425e-19 -1.19920675e-18 -3.08202510e-01]\n",
      " [ 1.00221203e-19 -1.38029313e-18 -1.63562062e-18 -3.77103866e-18\n",
      "   4.81088244e-19  2.31936436e+00 -2.30908626e-18 -2.83085028e-18\n",
      "   7.59148332e-01 -8.26078343e-19  5.31481328e-19]\n",
      " [ 3.63286972e-19  1.63269902e-18 -6.77626358e-19 -4.19391324e-18\n",
      "  -2.14972992e-18 -2.30908626e-18  2.31936436e+00  5.92758289e-18\n",
      "  -3.65292161e-19  7.59148332e-01 -1.09384937e-18]\n",
      " [-2.20677591e-01 -2.18501672e-01 -5.42533073e-02 -2.89949509e-01\n",
      "  -2.47789535e-01 -2.83085028e-18  5.92758289e-18  2.38457041e+00\n",
      "  -3.53427744e-18 -1.28358434e-18  8.03158871e-01]\n",
      " [ 7.69498077e-19 -1.36252984e-18  3.81905980e-19 -2.69593620e-18\n",
      "  -1.41330425e-19  7.59148332e-01 -3.65292161e-19 -3.53427744e-18\n",
      "   2.39653681e+00  1.73282621e-18  3.65089534e-19]\n",
      " [ 1.94526203e-19 -2.33455205e-18  7.06187250e-19 -9.37444098e-19\n",
      "  -1.19920675e-18 -8.26078343e-19  7.59148332e-01 -1.28358434e-18\n",
      "   1.73282621e-18  2.39653681e+00 -1.21544894e-18]\n",
      " [-1.41813962e+00 -1.11722562e+00 -7.32953758e-03 -1.61619083e-01\n",
      "  -3.08202510e-01  5.31481328e-19 -1.09384937e-18  8.03158871e-01\n",
      "   3.65089534e-19 -1.21544894e-18  2.47247392e+00]]\n"
     ]
    },
    {
     "data": {
      "text/plain": [
       "[<matplotlib.lines.Line2D at 0x7f3b1c1ad490>]"
      ]
     },
     "execution_count": 10,
     "metadata": {},
     "output_type": "execute_result"
    },
    {
     "data": {
      "image/png": "[encoded data removed]",
      "text/plain": [
       "<Figure size 432x288 with 1 Axes>"
      ]
     },
     "metadata": {
      "needs_background": "light"
     },
     "output_type": "display_data"
    }
   ],
   "source": [
    "norm_diff_in_H = []\n",
    "print(list_H[0])\n",
    "for i in range(1, len(list_H)):\n",
    "    norm_diff_in_H.append(linalg.norm(list_H[i]-list_H[i-1]))\n",
    "plt.semilogy(norm_diff_in_H)"
   ]
  },
  {
   "cell_type": "code",
   "execution_count": null,
   "metadata": {},
   "outputs": [],
   "source": []
  }
 ],
 "metadata": {
  "kernelspec": {
   "display_name": "Python 3",
   "language": "python",
   "name": "python3"
  },
  "language_info": {
   "codemirror_mode": {
    "name": "ipython",
    "version": 3
   },
   "file_extension": ".py",
   "mimetype": "text/x-python",
   "name": "python",
   "nbconvert_exporter": "python",
   "pygments_lexer": "ipython3",
   "version": "3.7.6"
  }
 },
 "nbformat": 4,
 "nbformat_minor": 4
}
