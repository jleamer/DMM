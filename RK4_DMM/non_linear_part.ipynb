{
 "cells": [
  {
   "cell_type": "code",
   "execution_count": 2,
   "metadata": {},
   "outputs": [],
   "source": [
    "# import standard libraries\n",
    "import numpy as np\n",
    "from scipy.io import mmread, mmwrite\n",
    "from scipy import linalg\n",
    "from scipy import sparse\n",
    "from numba import njit\n",
    "import matplotlib.pyplot as plt\n",
    "from pyscf import gto, dft\n",
    "import numpy.ma as ma\n",
    "\n",
    "# import methods for solving from other files\n",
    "import dmm_gcp as gcp\n",
    "import dmm_cp as cp\n",
    "import palser as pals\n",
    "import ntpoly as nt\n",
    "\n",
    "# Note: using np.sum(A * B.T) for matrices A, B is equivalent to Trace(A^dag B)"
   ]
  },
  {
   "cell_type": "code",
   "execution_count": 3,
   "metadata": {},
   "outputs": [],
   "source": [
    "SMALL_SIZE = 12\n",
    "MEDIUM_SIZE = 14\n",
    "BIGGER_SIZE = 18\n",
    "\n",
    "plt.rc('font', size=SMALL_SIZE)          # controls default text sizes\n",
    "plt.rc('axes', titlesize=SMALL_SIZE)     # fontsize of the axes title\n",
    "plt.rc('axes', labelsize=MEDIUM_SIZE)    # fontsize of the x and y labels\n",
    "plt.rc('xtick', labelsize=SMALL_SIZE)    # fontsize of the tick labels\n",
    "plt.rc('ytick', labelsize=SMALL_SIZE)    # fontsize of the tick labels\n",
    "plt.rc('legend', fontsize=SMALL_SIZE)    # legend fontsize\n",
    "plt.rc('figure', titlesize=BIGGER_SIZE)  # fontsize of the figure title"
   ]
  },
  {
   "cell_type": "code",
   "execution_count": 5,
   "metadata": {},
   "outputs": [
    {
     "name": "stdout",
     "output_type": "stream",
     "text": [
      "converged SCF energy = -100.291327706251\n",
      "TODO: total wave-function symmetry for Coov\n",
      "occupancy for each irrep:     A1  E1x  E1y\n",
      "                               3    1    1\n",
      "**** MO energy ****\n",
      "MO #1 (A1 #1), energy= -24.2331671128069 occ= 2\n",
      "MO #2 (A1 #2), energy= -1.0272972299461 occ= 2\n",
      "MO #3 (A1 #3), energy= -0.426131190105555 occ= 2\n",
      "MO #4 (E1x #1), energy= -0.289938520612848 occ= 2\n",
      "MO #5 (E1y #1), energy= -0.289938520612847 occ= 2\n",
      "MO #6 (A1 #4), energy= -0.0349559135896418 occ= 0\n",
      "MO #7 (A1 #5), energy= 0.664675049298743 occ= 0\n",
      "MO #8 (E1x #2), energy= 1.1305709354121 occ= 0\n",
      "MO #9 (E1y #2), energy= 1.1305709354121 occ= 0\n",
      "MO #10 (A1 #6), energy= 1.24759809513672 occ= 0\n",
      "MO #11 (A1 #7), energy= 1.57280313485607 occ= 0\n",
      " ** Mulliken atomic charges  **\n",
      "charge of  0H =      0.35670\n",
      "charge of  1F =     -0.35670\n",
      "Dipole moment(X, Y, Z, Debye):  0.00000,  0.00000, -2.17040\n",
      "Total dft energy: -100.29132770625066\n",
      "Chemical Potential:  -0.16244721710124418\n",
      "DFT trace:  7.124009715257128\n",
      "Core eigvals:  [-40.92691642 -10.30802976 -10.01838351 -10.00724828 -10.00724828\n",
      "  -4.89142614  -4.40582803  -4.3659127   -4.3659127   -3.61476955\n",
      "  -2.52299647]\n"
     ]
    },
    {
     "data": {
      "text/plain": [
       "Text(0.5, 1.0, 'Overlap Matrix Elements')"
      ]
     },
     "execution_count": 5,
     "metadata": {},
     "output_type": "execute_result"
    },
    {
     "data": {
      "image/png": "[encoded data removed]",
      "text/plain": [
       "<Figure size 432x288 with 2 Axes>"
      ]
     },
     "metadata": {
      "needs_background": "light"
     },
     "output_type": "display_data"
    }
   ],
   "source": [
    "'''\n",
    "A simple example to run DFT calculation.\n",
    "'''\n",
    "\n",
    "# PBE Hydrogen flouride in a 6-31G basis set.\n",
    "mol = gto.Mole()\n",
    "mol.build(\n",
    "    atom = 'H 0 0 0; F 0 0 1.1',  # in Angstrom\n",
    "    basis = '631g',\n",
    "    symmetry = True,\n",
    ")\n",
    "\n",
    "mf = dft.RKS(mol)\n",
    "#mf.xc = 'blyp' # shorthand for b88,lyp\n",
    "mf.xc = 'pbe' # shorthand for pbe,pbe\n",
    "#mf.xc = 'lda,vwn_rpa'\n",
    "#mf.xc = 'pbe0'\n",
    "#mf.xc = 'b3lyp'\n",
    "\n",
    "# this where self-content diagonalization happens\n",
    "mf.kernel()\n",
    "\n",
    "# Orbital energies, Mulliken population etc.\n",
    "mf.analyze()\n",
    "\n",
    "# Get the converged density matrix (it generates the density matrix)\n",
    "dm = mf.make_rdm1()\n",
    "mmwrite('dft_density.mtx', sparse.coo_matrix(dm))\n",
    "\n",
    "\n",
    "# Get the nuclear-nuclear repulsion energy\n",
    "e_nuc = mf.energy_nuc()\n",
    "# Get the 'core' hamiltonian, corresponding to kinetic energy and e-nuclear repulsion terms\n",
    "h1e = mf.get_hcore()\n",
    "#mmwrite('dft_hcore.mtx', sparse.coo_matrix(h1e))\n",
    "e1 = np.einsum('ij,ji', h1e, dm) # Compute the kinetic + e-nuclear repulsion energy\n",
    "# Get the kohn-sham potential, including the Hartree coulomb repulsion and exchange-correlation potential, integrated on a grid\n",
    "vhf = mf.get_veff(mf.mol, dm)\n",
    "#print(type(vhf))\n",
    "#print(vhf)\n",
    "# Total energy\n",
    "tot_e = e1 + vhf.ecoul + vhf.exc + e_nuc    # Total energy is sum of terms\n",
    "print('Total dft energy: {}'.format(tot_e))\n",
    "\n",
    "# chemical potential\n",
    "index = int(mol.nelectron/2)\n",
    "dft_mu = (mf.mo_energy[index] + mf.mo_energy[index - 1]) / 2.\n",
    "print('Chemical Potential: ', str(dft_mu))\n",
    "\n",
    "# get the overlap matrix and print to file\n",
    "ovlp = mf.get_ovlp()\n",
    "inv_ovlp = linalg.inv(ovlp)\n",
    "\n",
    "# Full fock matrix is sum of h1e and vhf\n",
    "fock = h1e + vhf\n",
    "\n",
    "# Get whole fock matrix directly corresponding to this density, without computing individual components\n",
    "fock_direct = mf.get_fock(dm=dm)\n",
    "\n",
    "# Check that ways to get the fock matrix are the same\n",
    "assert(np.allclose(fock_direct,fock))\n",
    "\n",
    "print(\"DFT trace: \", dm.trace())\n",
    "core_spect = linalg.eigvalsh(h1e, ovlp)\n",
    "print(\"Core eigvals: \", core_spect)\n",
    "num_electrons = 10\n",
    "index = int(num_electrons/2)\n",
    "gcp_mu = (core_spect[index] + core_spect[index-1])/2\n",
    "plt.imshow(ovlp)\n",
    "plt.colorbar()\n",
    "plt.xlabel('i')\n",
    "plt.ylabel('j')\n",
    "plt.title('Overlap Matrix Elements')"
   ]
  },
  {
   "cell_type": "code",
   "execution_count": null,
   "metadata": {},
   "outputs": [],
   "source": [
    "beta = 3\n",
    "num_steps = 1000000\n",
    "dbeta = beta/num_steps\n",
    "\n",
    "# Perform GCP DMM method\n",
    "identity = np.eye(h1e.shape[0])\n",
    "dmm_gcp = gcp.non_linear_rk4(gcp.non_linear_rhs, ovlp/2, dbeta, h1e, inv_ovlp, identity, gcp_mu, num_steps, mf)\n",
    "\n",
    "# Perform CP DMM method\n",
    "init_rho = num_electrons*ovlp/ovlp.trace()\n",
    "init_H = mf.get_veff(mf.mol, init_rho)\n",
    "init_mu = (init_H.trace()+init_H.conj().T.trace())/(2*ovlp.trace())\n",
    "dmm_cp, cp_mu, list_H = cp.non_linear_rk4(cp.non_linear_rhs, init_rho, dbeta, h1e, inv_ovlp, identity, num_steps, mf, num_electrons, ovlp, init_mu, 0)\n",
    "print(cp_mu)\n",
    "print(dmm_cp.trace())"
   ]
  },
  {
   "cell_type": "code",
   "execution_count": null,
   "metadata": {},
   "outputs": [],
   "source": [
    "func_args = {'h1e': h1e, 'mf': mf, 'mu': gcp_mu, 'ovlp':ovlp, 'inv_ovlp': inv_ovlp, 'beta': beta}\n",
    "gcp_exact_P, norm_diff = gcp.aitkens(ovlp/2, 50, gcp.exact_single_step, **func_args)\n",
    "func_args = {'h1e': h1e, 'mf': mf, 'mu': cp_mu, 'ovlp':ovlp, 'inv_ovlp': inv_ovlp, 'beta': beta, 'num_electrons':num_electrons}\n",
    "cp_exact_P, norm_diff = cp.aitkens(num_electrons*ovlp/ovlp.trace(), 100, cp.exact_single_step, **func_args)"
   ]
  },
  {
   "cell_type": "code",
   "execution_count": null,
   "metadata": {},
   "outputs": [],
   "source": [
    "init_rho = num_electrons*ovlp/ovlp.trace()\n",
    "norm_diff_temp = []\n",
    "for i in range(100):\n",
    "    temp_cp_exact_P = cp.exact_single_step(init_rho, **func_args)\n",
    "    norm_diff_temp.append(linalg.norm(cp_exact_P - init_rho))\n",
    "    init_rho = temp_cp_exact_P.copy()\n",
    "    "
   ]
  },
  {
   "cell_type": "code",
   "execution_count": null,
   "metadata": {},
   "outputs": [],
   "source": [
    "plt.figure(1)\n",
    "plt.plot(linalg.eigvalsh(gcp_exact_P, ovlp)[::-1], 'ks-', label=\"Exact by FD\")\n",
    "plt.plot(linalg.eigvalsh(dmm_gcp, ovlp)[::-1], 'r^-', label=\"Grand Can. DMM\")\n",
    "plt.ylabel(\"Population\")\n",
    "plt.legend(numpoints=1)\n",
    "plt.savefig(\"gc_hf_eigs.pdf\")\n",
    "\n",
    "plt.figure(2)\n",
    "plt.plot(linalg.eigvalsh(cp_exact_P, ovlp)[::-1], 'ks-', label=\"Exact by FD\")\n",
    "plt.plot(linalg.eigvalsh(dmm_cp, ovlp)[::-1], 'r^-', label=\"Can. DMM\")\n",
    "plt.ylabel(\"Population\")\n",
    "plt.xlabel(\"Eigenvalue Index\")\n",
    "#plt.plot(linalg.eigvalsh(temp_cp_exact_P, ovlp), 'g--', label=\"Simple\")\n",
    "plt.legend(numpoints=1)\n",
    "plt.savefig(\"c_hf_eigs.pdf\")\n",
    "print(cp_exact_P.trace())"
   ]
  },
  {
   "cell_type": "code",
   "execution_count": null,
   "metadata": {},
   "outputs": [],
   "source": [
    "plt.semilogy(norm_diff, 'ks-', label=\"Aitkens\")\n",
    "#plt.semilogy(norm_diff_temp, 'rx-', label=\"Simple\")\n",
    "plt.legend(numpoints=1)"
   ]
  },
  {
   "cell_type": "code",
   "execution_count": null,
   "metadata": {},
   "outputs": [],
   "source": [
    "A = linalg.eigvalsh(cp_exact_P, ovlp)[::-1]\n",
    "B = linalg.eigvalsh(dmm_cp, ovlp)[::-1]\n",
    "plt.plot(np.abs(A-B)/np.abs(A))"
   ]
  },
  {
   "cell_type": "code",
   "execution_count": null,
   "metadata": {},
   "outputs": [],
   "source": [
    "norm_diff_in_H = []\n",
    "print(list_H[0])\n",
    "for i in range(1, len(list_H)):\n",
    "    norm_diff_in_H.append(linalg.norm(list_H[i]-list_H[i-1]))\n",
    "plt.semilogy(norm_diff_in_H)"
   ]
  },
  {
   "cell_type": "code",
   "execution_count": null,
   "metadata": {},
   "outputs": [],
   "source": []
  }
 ],
 "metadata": {
  "kernelspec": {
   "display_name": "Python 3",
   "language": "python",
   "name": "python3"
  },
  "language_info": {
   "codemirror_mode": {
    "name": "ipython",
    "version": 3
   },
   "file_extension": ".py",
   "mimetype": "text/x-python",
   "name": "python",
   "nbconvert_exporter": "python",
   "pygments_lexer": "ipython3",
   "version": "3.7.6"
  }
 },
 "nbformat": 4,
 "nbformat_minor": 4
}
