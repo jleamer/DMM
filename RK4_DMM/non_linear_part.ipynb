{
 "cells": [
  {
   "cell_type": "code",
   "execution_count": 1,
   "metadata": {},
   "outputs": [],
   "source": [
    "# import standard libraries\n",
    "import numpy as np\n",
    "from scipy.io import mmread, mmwrite\n",
    "from scipy import linalg\n",
    "from scipy import sparse\n",
    "from numba import njit\n",
    "import matplotlib.pyplot as plt\n",
    "from pyscf import gto, dft\n",
    "import numpy.ma as ma\n",
    "\n",
    "# import methods for solving from other files\n",
    "import dmm_gcp as gcp\n",
    "import dmm_cp as cp\n",
    "import palser as pals\n",
    "import ntpoly as nt\n",
    "\n",
    "# Note: using np.sum(A * B.T) for matrices A, B is equivalent to Trace(A^dag B)"
   ]
  },
  {
   "cell_type": "code",
   "execution_count": 2,
   "metadata": {},
   "outputs": [],
   "source": [
    "SMALL_SIZE = 12\n",
    "MEDIUM_SIZE = 14\n",
    "BIGGER_SIZE = 18\n",
    "\n",
    "plt.rc('font', size=SMALL_SIZE)          # controls default text sizes\n",
    "plt.rc('axes', titlesize=SMALL_SIZE)     # fontsize of the axes title\n",
    "plt.rc('axes', labelsize=MEDIUM_SIZE)    # fontsize of the x and y labels\n",
    "plt.rc('xtick', labelsize=SMALL_SIZE)    # fontsize of the tick labels\n",
    "plt.rc('ytick', labelsize=SMALL_SIZE)    # fontsize of the tick labels\n",
    "plt.rc('legend', fontsize=SMALL_SIZE)    # legend fontsize\n",
    "plt.rc('figure', titlesize=BIGGER_SIZE)  # fontsize of the figure title"
   ]
  },
  {
   "cell_type": "code",
   "execution_count": 3,
   "metadata": {},
   "outputs": [
    {
     "name": "stdout",
     "output_type": "stream",
     "text": [
      "converged SCF energy = -100.291327706251\n",
      "TODO: total wave-function symmetry for Coov\n",
      "occupancy for each irrep:     A1  E1x  E1y\n",
      "                               3    1    1\n",
      "**** MO energy ****\n",
      "MO #1 (A1 #1), energy= -24.2331671128069 occ= 2\n",
      "MO #2 (A1 #2), energy= -1.0272972299461 occ= 2\n",
      "MO #3 (A1 #3), energy= -0.426131190105554 occ= 2\n",
      "MO #4 (E1x #1), energy= -0.289938520612848 occ= 2\n",
      "MO #5 (E1y #1), energy= -0.289938520612846 occ= 2\n",
      "MO #6 (A1 #4), energy= -0.0349559135896383 occ= 0\n",
      "MO #7 (A1 #5), energy= 0.66467504929875 occ= 0\n",
      "MO #8 (E1x #2), energy= 1.1305709354121 occ= 0\n",
      "MO #9 (E1y #2), energy= 1.1305709354121 occ= 0\n",
      "MO #10 (A1 #6), energy= 1.24759809513672 occ= 0\n",
      "MO #11 (A1 #7), energy= 1.57280313485608 occ= 0\n",
      " ** Mulliken atomic charges  **\n",
      "charge of  0H =      0.35670\n",
      "charge of  1F =     -0.35670\n",
      "Dipole moment(X, Y, Z, Debye):  0.00000,  0.00000, -2.17040\n",
      "Total dft energy: -100.29132770625061\n",
      "Chemical Potential:  -0.16244721710124227\n",
      "DFT trace:  7.12400971525713\n",
      "Core eigvals:  [-40.92691642 -10.30802976 -10.01838351 -10.00724828 -10.00724828\n",
      "  -4.89142614  -4.40582803  -4.3659127   -4.3659127   -3.61476955\n",
      "  -2.52299647]\n"
     ]
    },
    {
     "data": {
      "text/plain": [
       "Text(0.5, 1.0, 'Overlap Matrix Elements')"
      ]
     },
     "execution_count": 3,
     "metadata": {},
     "output_type": "execute_result"
    },
    {
     "data": {
      "image/png": "[encoded data removed]",
      "text/plain": [
       "<Figure size 432x288 with 2 Axes>"
      ]
     },
     "metadata": {
      "needs_background": "light"
     },
     "output_type": "display_data"
    }
   ],
   "source": [
    "'''\n",
    "A simple example to run DFT calculation.\n",
    "'''\n",
    "\n",
    "# PBE Hydrogen flouride in a 6-31G basis set.\n",
    "mol = gto.Mole()\n",
    "mol.build(\n",
    "    atom = 'H 0 0 0; F 0 0 1.1',  # in Angstrom\n",
    "    basis = '631g',\n",
    "    symmetry = True,\n",
    ")\n",
    "\n",
    "mf = dft.RKS(mol)\n",
    "#mf.xc = 'blyp' # shorthand for b88,lyp\n",
    "mf.xc = 'pbe' # shorthand for pbe,pbe\n",
    "#mf.xc = 'lda,vwn_rpa'\n",
    "#mf.xc = 'pbe0'\n",
    "#mf.xc = 'b3lyp'\n",
    "\n",
    "# this where self-content diagonalization happens\n",
    "mf.kernel()\n",
    "\n",
    "# Orbital energies, Mulliken population etc.\n",
    "mf.analyze()\n",
    "\n",
    "# Get the converged density matrix (it generates the density matrix)\n",
    "dm = mf.make_rdm1()\n",
    "mmwrite('dft_density.mtx', sparse.coo_matrix(dm))\n",
    "\n",
    "\n",
    "# Get the nuclear-nuclear repulsion energy\n",
    "e_nuc = mf.energy_nuc()\n",
    "# Get the 'core' hamiltonian, corresponding to kinetic energy and e-nuclear repulsion terms\n",
    "h1e = mf.get_hcore()\n",
    "#mmwrite('dft_hcore.mtx', sparse.coo_matrix(h1e))\n",
    "e1 = np.einsum('ij,ji', h1e, dm) # Compute the kinetic + e-nuclear repulsion energy\n",
    "# Get the kohn-sham potential, including the Hartree coulomb repulsion and exchange-correlation potential, integrated on a grid\n",
    "vhf = mf.get_veff(mf.mol, dm)\n",
    "#print(type(vhf))\n",
    "#print(vhf)\n",
    "# Total energy\n",
    "tot_e = e1 + vhf.ecoul + vhf.exc + e_nuc    # Total energy is sum of terms\n",
    "print('Total dft energy: {}'.format(tot_e))\n",
    "\n",
    "# chemical potential\n",
    "index = int(mol.nelectron/2)\n",
    "dft_mu = (mf.mo_energy[index] + mf.mo_energy[index - 1]) / 2.\n",
    "print('Chemical Potential: ', str(dft_mu))\n",
    "\n",
    "# get the overlap matrix and print to file\n",
    "ovlp = mf.get_ovlp()\n",
    "inv_ovlp = linalg.inv(ovlp)\n",
    "\n",
    "# Full fock matrix is sum of h1e and vhf\n",
    "fock = h1e + vhf\n",
    "\n",
    "# Get whole fock matrix directly corresponding to this density, without computing individual components\n",
    "fock_direct = mf.get_fock(dm=dm)\n",
    "\n",
    "# Check that ways to get the fock matrix are the same\n",
    "assert(np.allclose(fock_direct,fock))\n",
    "\n",
    "print(\"DFT trace: \", dm.trace())\n",
    "core_spect = linalg.eigvalsh(h1e, ovlp)\n",
    "print(\"Core eigvals: \", core_spect)\n",
    "num_electrons = 10\n",
    "index = int(num_electrons/2)\n",
    "gcp_mu = (core_spect[index] + core_spect[index-1])/2\n",
    "plt.imshow(ovlp)\n",
    "plt.colorbar()\n",
    "plt.xlabel('i')\n",
    "plt.ylabel('j')\n",
    "plt.title('Overlap Matrix Elements')"
   ]
  },
  {
   "cell_type": "code",
   "execution_count": 4,
   "metadata": {},
   "outputs": [
    {
     "name": "stdout",
     "output_type": "stream",
     "text": [
      "3.0408013568652543\n",
      "10.000000000000009\n"
     ]
    }
   ],
   "source": [
    "beta = 3\n",
    "num_steps = 10000\n",
    "dbeta = beta/num_steps\n",
    "\n",
    "# Perform GCP DMM method\n",
    "identity = np.eye(h1e.shape[0])\n",
    "dmm_gcp = gcp.non_linear_rk4(gcp.non_linear_rhs, ovlp/2, dbeta, h1e, inv_ovlp, identity, gcp_mu, num_steps, mf)\n",
    "\n",
    "# Perform CP DMM method\n",
    "init_rho = num_electrons*ovlp/ovlp.trace()\n",
    "init_H = mf.get_veff(mf.mol, init_rho)\n",
    "init_mu = (init_H.trace()+init_H.conj().T.trace())/(2*ovlp.trace())\n",
    "dmm_cp, cp_mu, list_H = cp.non_linear_rk4(cp.non_linear_rhs, init_rho, dbeta, h1e, inv_ovlp, identity, num_steps, mf, num_electrons, ovlp, init_mu, 0)\n",
    "print(cp_mu)\n",
    "print(dmm_cp.trace())"
   ]
  },
  {
   "cell_type": "code",
   "execution_count": 5,
   "metadata": {},
   "outputs": [
    {
     "name": "stdout",
     "output_type": "stream",
     "text": [
      "funm result may be inaccurate, approximate err = 1\n",
      "funm result may be inaccurate, approximate err = 1\n",
      "funm result may be inaccurate, approximate err = 1.6075973258612798e-09\n",
      "funm result may be inaccurate, approximate err = 7.014692482571352e-07\n",
      "funm result may be inaccurate, approximate err = 7.1243973615937344e-09\n",
      "funm result may be inaccurate, approximate err = 1.4512395752295729e-06\n",
      "funm result may be inaccurate, approximate err = 2.3019471657890276e-08\n",
      "funm result may be inaccurate, approximate err = 8.979047045942898e-06\n",
      "funm result may be inaccurate, approximate err = 2.7310501927106793e-07\n",
      "funm result may be inaccurate, approximate err = 2.7536167758686593e-05\n",
      "funm result may be inaccurate, approximate err = 4.7813662991889675e-08\n",
      "funm result may be inaccurate, approximate err = 2.0665236732917306e-05\n",
      "funm result may be inaccurate, approximate err = 1.2863387635575692e-07\n",
      "funm result may be inaccurate, approximate err = 0.00015271394311954653\n",
      "funm result may be inaccurate, approximate err = 1.8760566325546348e-06\n",
      "funm result may be inaccurate, approximate err = 0.006947471174342732\n",
      "funm result may be inaccurate, approximate err = 1.7698787630886705e-06\n",
      "funm result may be inaccurate, approximate err = 0.00039938792618793984\n",
      "funm result may be inaccurate, approximate err = 3.1059731132497538e-06\n",
      "funm result may be inaccurate, approximate err = 0.0016078364407219122\n",
      "funm result may be inaccurate, approximate err = 6.9906328583322334e-06\n",
      "funm result may be inaccurate, approximate err = 0.023110831725524552\n",
      "funm result may be inaccurate, approximate err = 8.516013945182774e-07\n",
      "funm result may be inaccurate, approximate err = 0.00029108588300906865\n",
      "funm result may be inaccurate, approximate err = 1.580788150749221e-06\n",
      "funm result may be inaccurate, approximate err = 0.0015248258790965207\n",
      "funm result may be inaccurate, approximate err = 5.763087737378943e-06\n",
      "funm result may be inaccurate, approximate err = 0.03155166087116849\n",
      "funm result may be inaccurate, approximate err = 6.565019125110139e-06\n",
      "funm result may be inaccurate, approximate err = 0.007543511160579219\n",
      "funm result may be inaccurate, approximate err = 1.953477135848869e-05\n",
      "funm result may be inaccurate, approximate err = 0.04393004432891219\n",
      "funm result may be inaccurate, approximate err = 2.0288184411023083e-05\n",
      "funm result may be inaccurate, approximate err = 0.02520743645698827\n",
      "funm result may be inaccurate, approximate err = 5.7371358573485015e-05\n",
      "funm result may be inaccurate, approximate err = 0.10460162688842194\n",
      "funm result may be inaccurate, approximate err = 5.873846653578807e-05\n",
      "funm result may be inaccurate, approximate err = 0.08267090060584303\n",
      "funm result may be inaccurate, approximate err = 0.0001623648874166355\n",
      "funm result may be inaccurate, approximate err = 0.17778813807011457\n",
      "funm result may be inaccurate, approximate err = 0.00016612113873636398\n",
      "funm result may be inaccurate, approximate err = 0.17775566237678675\n",
      "funm result may be inaccurate, approximate err = 0.0004542865024822188\n",
      "funm result may be inaccurate, approximate err = 0.8888729028324222\n",
      "funm result may be inaccurate, approximate err = 0.0004652339932398878\n",
      "funm result may be inaccurate, approximate err = 0.8914458052784904\n",
      "funm result may be inaccurate, approximate err = 0.0012607390414081721\n",
      "funm result may be inaccurate, approximate err = 1\n",
      "funm result may be inaccurate, approximate err = 0.001306139956150445\n",
      "funm result may be inaccurate, approximate err = 0.35552732021890115\n",
      "funm result may be inaccurate, approximate err = 0.003492434400366648\n",
      "funm result may be inaccurate, approximate err = 1\n",
      "funm result may be inaccurate, approximate err = 0.00360579102850941\n",
      "funm result may be inaccurate, approximate err = 1\n",
      "funm result may be inaccurate, approximate err = 0.009506159374715334\n",
      "funm result may be inaccurate, approximate err = 1\n",
      "funm result may be inaccurate, approximate err = 0.010158024092873636\n",
      "funm result may be inaccurate, approximate err = 1\n",
      "funm result may be inaccurate, approximate err = 0.06255417802710171\n",
      "funm result may be inaccurate, approximate err = 1.293530976122683e-06\n",
      "funm result may be inaccurate, approximate err = 2.5751772318815123e-06\n",
      "funm result may be inaccurate, approximate err = 0.00013488010290106236\n",
      "funm result may be inaccurate, approximate err = 0.0004848365664982836\n",
      "funm result may be inaccurate, approximate err = 0.023702062863819835\n",
      "funm result may be inaccurate, approximate err = 8.457969275290761e-05\n",
      "funm result may be inaccurate, approximate err = 0.004671887084023778\n",
      "funm result may be inaccurate, approximate err = 0.0033924683978657708\n",
      "funm result may be inaccurate, approximate err = 0.253950579214242\n",
      "Iterations converged!\n",
      "funm result may be inaccurate, approximate err = 1\n",
      "funm result may be inaccurate, approximate err = 5.978517980450114e-11\n",
      "funm result may be inaccurate, approximate err = 2.071385725576955e-10\n",
      "funm result may be inaccurate, approximate err = 2.7010297753314166e-07\n",
      "funm result may be inaccurate, approximate err = 2.2354821276840556e-09\n",
      "funm result may be inaccurate, approximate err = 4.781216194082786e-08\n",
      "funm result may be inaccurate, approximate err = 8.40937679732076e-09\n",
      "funm result may be inaccurate, approximate err = 1.1629167256989878e-06\n",
      "funm result may be inaccurate, approximate err = 3.666145845706647e-08\n",
      "funm result may be inaccurate, approximate err = 1.4960394139044536e-06\n",
      "funm result may be inaccurate, approximate err = 1.7275715092507883e-08\n",
      "funm result may be inaccurate, approximate err = 9.054630700073759e-08\n",
      "funm result may be inaccurate, approximate err = 1.4877461495194778e-07\n",
      "funm result may be inaccurate, approximate err = 9.89615045934743e-07\n",
      "funm result may be inaccurate, approximate err = 3.259837739369031e-07\n",
      "funm result may be inaccurate, approximate err = 2.107465956791004e-06\n",
      "funm result may be inaccurate, approximate err = 5.950769835995294e-07\n",
      "funm result may be inaccurate, approximate err = 3.564045440313769e-06\n",
      "funm result may be inaccurate, approximate err = 1.2056009608642083e-09\n",
      "funm result may be inaccurate, approximate err = 7.172431514764338e-08\n",
      "funm result may be inaccurate, approximate err = 1.1615566770916757e-08\n",
      "funm result may be inaccurate, approximate err = 1.1474642242327004e-05\n",
      "funm result may be inaccurate, approximate err = 2.5391519213847794e-07\n",
      "funm result may be inaccurate, approximate err = 2.775792642002544e-06\n",
      "funm result may be inaccurate, approximate err = 9.323632344354292e-05\n",
      "funm result may be inaccurate, approximate err = 1\n",
      "funm result may be inaccurate, approximate err = 2.071604468309486e-08\n",
      "funm result may be inaccurate, approximate err = 1.6074145623933917e-07\n",
      "funm result may be inaccurate, approximate err = 6.047738405278142e-08\n",
      "funm result may be inaccurate, approximate err = 0.8845079616862909\n",
      "funm result may be inaccurate, approximate err = 4.436690038395829e-07\n",
      "funm result may be inaccurate, approximate err = 3.954801409302403e-06\n",
      "funm result may be inaccurate, approximate err = 3.4750820611421775e-06\n",
      "funm result may be inaccurate, approximate err = 1\n",
      "funm result may be inaccurate, approximate err = 6.684313519157679e-07\n",
      "funm result may be inaccurate, approximate err = 1.5303007677919978e-05\n",
      "funm result may be inaccurate, approximate err = 4.833241263782132e-07\n",
      "funm result may be inaccurate, approximate err = 4.898204379891185e-05\n",
      "funm result may be inaccurate, approximate err = 1.257515902776921e-06\n",
      "funm result may be inaccurate, approximate err = 1\n",
      "funm result may be inaccurate, approximate err = 9.367513037350482e-11\n",
      "funm result may be inaccurate, approximate err = 1.3591726247391252e-09\n",
      "funm result may be inaccurate, approximate err = 7.145278697788096e-12\n",
      "funm result may be inaccurate, approximate err = 0.0004060168597705001\n",
      "funm result may be inaccurate, approximate err = 2.099188017234259e-09\n",
      "funm result may be inaccurate, approximate err = 1.6371988894695202e-08\n",
      "funm result may be inaccurate, approximate err = 2.2546550411407872e-08\n",
      "funm result may be inaccurate, approximate err = 2.354933068822865e-07\n",
      "funm result may be inaccurate, approximate err = 7.455539862169822e-08\n",
      "funm result may be inaccurate, approximate err = 5.697490865906311e-07\n",
      "funm result may be inaccurate, approximate err = 5.518038681542282e-07\n",
      "funm result may be inaccurate, approximate err = 4.951587801835701e-05\n",
      "funm result may be inaccurate, approximate err = 1.594838677358826e-06\n",
      "funm result may be inaccurate, approximate err = 2.1741795507270846e-05\n",
      "funm result may be inaccurate, approximate err = 4.826295836742098e-06\n",
      "funm result may be inaccurate, approximate err = 2.989109264735735e-05\n",
      "funm result may be inaccurate, approximate err = 4.576144369746239e-05\n"
     ]
    },
    {
     "name": "stdout",
     "output_type": "stream",
     "text": [
      "funm result may be inaccurate, approximate err = 0.39133829387804936\n",
      "funm result may be inaccurate, approximate err = 3.038530253733659e-05\n",
      "funm result may be inaccurate, approximate err = 0.000628401182223114\n",
      "funm result may be inaccurate, approximate err = 7.238476818370728e-05\n",
      "funm result may be inaccurate, approximate err = 0.0007634489521490704\n",
      "funm result may be inaccurate, approximate err = 0.0006788435547115411\n",
      "funm result may be inaccurate, approximate err = 0.1232438244356256\n",
      "funm result may be inaccurate, approximate err = 0.003356408855249872\n",
      "funm result may be inaccurate, approximate err = 0.03374476836369224\n",
      "funm result may be inaccurate, approximate err = 0.00017044061810559812\n",
      "funm result may be inaccurate, approximate err = 0.22785207116753384\n",
      "funm result may be inaccurate, approximate err = 0.0027976073060204977\n",
      "funm result may be inaccurate, approximate err = 0.023961501997545955\n",
      "funm result may be inaccurate, approximate err = 0.00026831327106240923\n",
      "funm result may be inaccurate, approximate err = 0.08537860415337926\n",
      "funm result may be inaccurate, approximate err = 0.00028855105704228795\n",
      "funm result may be inaccurate, approximate err = 0.002838445303919486\n",
      "funm result may be inaccurate, approximate err = 0.017175491320213915\n",
      "funm result may be inaccurate, approximate err = 1\n",
      "funm result may be inaccurate, approximate err = 0.08199202010942533\n",
      "funm result may be inaccurate, approximate err = 1\n",
      "funm result may be inaccurate, approximate err = 0.02365743790895148\n",
      "funm result may be inaccurate, approximate err = 1\n",
      "funm result may be inaccurate, approximate err = 0.005873131892562322\n",
      "funm result may be inaccurate, approximate err = 0.3843107456909439\n",
      "funm result may be inaccurate, approximate err = 0.03335572723386736\n",
      "funm result may be inaccurate, approximate err = 0.3558069540140858\n",
      "funm result may be inaccurate, approximate err = 0.15556337714189417\n",
      "funm result may be inaccurate, approximate err = 3.0403885290705543e-11\n",
      "funm result may be inaccurate, approximate err = 6.547855882077081e-11\n",
      "funm result may be inaccurate, approximate err = 5.250644879444177e-06\n",
      "funm result may be inaccurate, approximate err = 5.064961818108047e-09\n",
      "funm result may be inaccurate, approximate err = 7.981649737689849e-08\n",
      "funm result may be inaccurate, approximate err = 5.515856095206325e-10\n",
      "funm result may be inaccurate, approximate err = 0.8845079598208516\n",
      "funm result may be inaccurate, approximate err = 3.4501702724423616e-08\n",
      "funm result may be inaccurate, approximate err = 4.670829273029136e-07\n",
      "funm result may be inaccurate, approximate err = 5.962446832322132e-08\n",
      "funm result may be inaccurate, approximate err = 4.677054333584085e-06\n",
      "funm result may be inaccurate, approximate err = 1.989584725320333e-07\n",
      "funm result may be inaccurate, approximate err = 3.6435572408898556e-06\n",
      "funm result may be inaccurate, approximate err = 5.288121682964915e-06\n",
      "funm result may be inaccurate, approximate err = 1\n",
      "funm result may be inaccurate, approximate err = 3.855843246969729e-08\n",
      "funm result may be inaccurate, approximate err = 4.172873177998982e-07\n",
      "funm result may be inaccurate, approximate err = 1.3842737552523449e-08\n",
      "funm result may be inaccurate, approximate err = 0.0007111252167178747\n",
      "funm result may be inaccurate, approximate err = 1.6903517568627844e-06\n",
      "funm result may be inaccurate, approximate err = 4.576855863096877e-05\n",
      "funm result may be inaccurate, approximate err = 8.425605907976566e-08\n",
      "funm result may be inaccurate, approximate err = 1.4592325280401212e-05\n",
      "funm result may be inaccurate, approximate err = 7.1257729515331965e-06\n",
      "funm result may be inaccurate, approximate err = 0.00010165962425892818\n",
      "funm result may be inaccurate, approximate err = 4.686380109407571e-06\n",
      "funm result may be inaccurate, approximate err = 0.0023045643404404044\n",
      "funm result may be inaccurate, approximate err = 2.969489360522663e-05\n",
      "funm result may be inaccurate, approximate err = 0.0002797525016444603\n",
      "funm result may be inaccurate, approximate err = 8.592521101014542e-06\n",
      "funm result may be inaccurate, approximate err = 0.010835723991139388\n",
      "funm result may be inaccurate, approximate err = 0.0002776102515514091\n",
      "funm result may be inaccurate, approximate err = 0.004749572918360454\n",
      "funm result may be inaccurate, approximate err = 4.670905788757079e-05\n",
      "funm result may be inaccurate, approximate err = 0.0030636739450502146\n",
      "funm result may be inaccurate, approximate err = 0.0009580067417771233\n",
      "funm result may be inaccurate, approximate err = 0.007114627127004174\n",
      "funm result may be inaccurate, approximate err = 0.05106648607837597\n",
      "funm result may be inaccurate, approximate err = 0.6043161874143204\n",
      "funm result may be inaccurate, approximate err = 0.828226419454936\n",
      "funm result may be inaccurate, approximate err = 1\n",
      "funm result may be inaccurate, approximate err = 1\n",
      "funm result may be inaccurate, approximate err = 1\n",
      "funm result may be inaccurate, approximate err = 0.7005169285438213\n",
      "funm result may be inaccurate, approximate err = 1\n",
      "funm result may be inaccurate, approximate err = 1\n",
      "funm result may be inaccurate, approximate err = 1\n",
      "funm result may be inaccurate, approximate err = 1\n",
      "funm result may be inaccurate, approximate err = 0.6914265122150658\n",
      "funm result may be inaccurate, approximate err = 0.22212223217309746\n",
      "funm result may be inaccurate, approximate err = 1\n",
      "funm result may be inaccurate, approximate err = 4.800046019771695e-12\n",
      "funm result may be inaccurate, approximate err = 4.109531640076538e-11\n",
      "funm result may be inaccurate, approximate err = 1.0910513574477684e-10\n",
      "funm result may be inaccurate, approximate err = 7.811376235040962e-10\n",
      "funm result may be inaccurate, approximate err = 4.063045622546143e-09\n",
      "funm result may be inaccurate, approximate err = 4.0740766068748124e-08\n",
      "funm result may be inaccurate, approximate err = 9.812428038044216e-09\n",
      "funm result may be inaccurate, approximate err = 6.903327964609789e-08\n",
      "funm result may be inaccurate, approximate err = 7.436947576377017e-10\n",
      "funm result may be inaccurate, approximate err = 5.543160645888022e-09\n",
      "funm result may be inaccurate, approximate err = 2.8787394739442034e-09\n",
      "funm result may be inaccurate, approximate err = 2.1979469785326933e-08\n",
      "funm result may be inaccurate, approximate err = 3.5747233209029877e-09\n",
      "funm result may be inaccurate, approximate err = 2.7518459444122455e-08\n",
      "funm result may be inaccurate, approximate err = 1.1408677552854078e-10\n",
      "funm result may be inaccurate, approximate err = 3.0799430008028608e-12\n",
      "funm result may be inaccurate, approximate err = 2.6036921882671857e-11\n",
      "funm result may be inaccurate, approximate err = 4.535813180446501e-13\n",
      "funm result may be inaccurate, approximate err = 1.844734215298665e-10\n",
      "funm result may be inaccurate, approximate err = 4.117430775665946e-12\n",
      "funm result may be inaccurate, approximate err = 1.7334065412158553e-12\n",
      "funm result may be inaccurate, approximate err = 2.5419005218415153e-10\n",
      "funm result may be inaccurate, approximate err = 1.3050971423708209e-08\n",
      "funm result may be inaccurate, approximate err = 2.863876022365217e-09\n",
      "funm result may be inaccurate, approximate err = 1.0588637060164096e-09\n",
      "funm result may be inaccurate, approximate err = 4.098865836606558e-10\n",
      "funm result may be inaccurate, approximate err = 2.3849699097329936e-09\n",
      "funm result may be inaccurate, approximate err = 1\n",
      "funm result may be inaccurate, approximate err = 1.7422760975742681e-12\n",
      "funm result may be inaccurate, approximate err = 2.612249077936405e-11\n",
      "funm result may be inaccurate, approximate err = 9.123626946811959e-12\n",
      "funm result may be inaccurate, approximate err = 1.6872805284506344e-10\n",
      "funm result may be inaccurate, approximate err = 2.462536921479784e-12\n",
      "funm result may be inaccurate, approximate err = 1.1170911453599058e-08\n",
      "funm result may be inaccurate, approximate err = 7.065451448658477e-11\n",
      "funm result may be inaccurate, approximate err = 8.325330293780868e-05\n",
      "funm result may be inaccurate, approximate err = 5.1330424320043996e-11\n",
      "funm result may be inaccurate, approximate err = 0.0005470049034638321\n",
      "funm result may be inaccurate, approximate err = 1.8970082446010683e-11\n",
      "funm result may be inaccurate, approximate err = 2.3361991318156285e-10\n",
      "funm result may be inaccurate, approximate err = 4.3577437583317704e-10\n",
      "funm result may be inaccurate, approximate err = 2.291281295837098e-11\n"
     ]
    },
    {
     "name": "stdout",
     "output_type": "stream",
     "text": [
      "funm result may be inaccurate, approximate err = 2.71546547367866e-10\n",
      "funm result may be inaccurate, approximate err = 1.3275574664401747e-11\n",
      "funm result may be inaccurate, approximate err = 6.3762789237189354e-06\n",
      "funm result may be inaccurate, approximate err = 7.531342915855998e-12\n",
      "funm result may be inaccurate, approximate err = 1.1059835541743336e-10\n",
      "funm result may be inaccurate, approximate err = 2.335579270066876e-13\n",
      "funm result may be inaccurate, approximate err = 1\n",
      "funm result may be inaccurate, approximate err = 1.3110730780830373e-10\n",
      "funm result may be inaccurate, approximate err = 2.7872631934327496e-09\n",
      "funm result may be inaccurate, approximate err = 5.606968092510262e-10\n",
      "funm result may be inaccurate, approximate err = 0.9736627999577945\n",
      "funm result may be inaccurate, approximate err = 1.8916742414956648e-09\n",
      "funm result may be inaccurate, approximate err = 2.338361126264733e-08\n",
      "funm result may be inaccurate, approximate err = 3.0348434167007933e-10\n",
      "funm result may be inaccurate, approximate err = 5.701716853714499e-07\n"
     ]
    }
   ],
   "source": [
    "func_args = {'h1e': h1e, 'mf': mf, 'mu': gcp_mu, 'ovlp':ovlp, 'inv_ovlp': inv_ovlp, 'beta': beta}\n",
    "gcp_exact_P, norm_diff = gcp.aitkens(ovlp/2, 50, gcp.exact_single_step, **func_args)\n",
    "func_args = {'h1e': h1e, 'mf': mf, 'mu': cp_mu, 'ovlp':ovlp, 'inv_ovlp': inv_ovlp, 'beta': beta, 'num_electrons':num_electrons}\n",
    "cp_exact_P, norm_diff = cp.aitkens(num_electrons*ovlp/ovlp.trace(), 100, cp.exact_single_step, **func_args)"
   ]
  },
  {
   "cell_type": "code",
   "execution_count": 6,
   "metadata": {},
   "outputs": [
    {
     "name": "stdout",
     "output_type": "stream",
     "text": [
      "funm result may be inaccurate, approximate err = 1\n",
      "funm result may be inaccurate, approximate err = 1\n",
      "funm result may be inaccurate, approximate err = 0.8419521413753114\n",
      "funm result may be inaccurate, approximate err = 1\n",
      "funm result may be inaccurate, approximate err = 1\n",
      "funm result may be inaccurate, approximate err = 1.938582626198663e-12\n",
      "funm result may be inaccurate, approximate err = 1.10813518114488e-11\n",
      "funm result may be inaccurate, approximate err = 1.1974949784004977e-10\n",
      "funm result may be inaccurate, approximate err = 6.833964596230987e-10\n",
      "funm result may be inaccurate, approximate err = 5.978205424988683e-09\n",
      "funm result may be inaccurate, approximate err = 5.728042924635736e-08\n",
      "funm result may be inaccurate, approximate err = 4.2591018022869e-07\n",
      "funm result may be inaccurate, approximate err = 3.346686642259007e-06\n",
      "funm result may be inaccurate, approximate err = 3.2863853648839774e-05\n",
      "funm result may be inaccurate, approximate err = 0.00037577453533938664\n",
      "funm result may be inaccurate, approximate err = 0.0023485662059350553\n",
      "funm result may be inaccurate, approximate err = 0.027174239178959485\n",
      "funm result may be inaccurate, approximate err = 0.21605703529373846\n",
      "funm result may be inaccurate, approximate err = 0.8645546319759831\n",
      "funm result may be inaccurate, approximate err = 1.732081991051907e-08\n",
      "funm result may be inaccurate, approximate err = 1.9886364580682727e-07\n",
      "funm result may be inaccurate, approximate err = 1.257874333237093e-06\n",
      "funm result may be inaccurate, approximate err = 1.4498999596154796e-05\n",
      "funm result may be inaccurate, approximate err = 9.160774438434852e-05\n",
      "funm result may be inaccurate, approximate err = 0.0010550439670823071\n",
      "funm result may be inaccurate, approximate err = 0.006644728612427911\n",
      "funm result may be inaccurate, approximate err = 0.0640738909623249\n",
      "funm result may be inaccurate, approximate err = 1\n",
      "funm result may be inaccurate, approximate err = 2.4514366318681488e-11\n",
      "funm result may be inaccurate, approximate err = 1.59792762756591e-10\n",
      "funm result may be inaccurate, approximate err = 1.8412686650996028e-09\n",
      "funm result may be inaccurate, approximate err = 1.1641130876889207e-08\n",
      "funm result may be inaccurate, approximate err = 1.3410315405968578e-07\n",
      "funm result may be inaccurate, approximate err = 8.478589681380571e-07\n",
      "funm result may be inaccurate, approximate err = 9.766978661292921e-06\n",
      "funm result may be inaccurate, approximate err = 6.175235114993172e-05\n",
      "funm result may be inaccurate, approximate err = 0.0007104910552552377\n",
      "funm result may be inaccurate, approximate err = 0.004510085918570719\n",
      "funm result may be inaccurate, approximate err = 0.050883719571776835\n",
      "funm result may be inaccurate, approximate err = 0.2285110057165692\n",
      "funm result may be inaccurate, approximate err = 1\n",
      "funm result may be inaccurate, approximate err = 4.397593651215299e-11\n",
      "funm result may be inaccurate, approximate err = 5.075882973754298e-10\n",
      "funm result may be inaccurate, approximate err = 3.2091235506860136e-09\n",
      "funm result may be inaccurate, approximate err = 3.6967922637191293e-08\n",
      "funm result may be inaccurate, approximate err = 2.337272837059112e-07\n",
      "funm result may be inaccurate, approximate err = 2.692427454725739e-06\n",
      "funm result may be inaccurate, approximate err = 1.702285504028373e-05\n",
      "funm result may be inaccurate, approximate err = 0.00019601701543749955\n",
      "funm result may be inaccurate, approximate err = 0.0012404096578869594\n",
      "funm result may be inaccurate, approximate err = 0.01466140828016211\n",
      "funm result may be inaccurate, approximate err = 0.08569163384928141\n",
      "funm result may be inaccurate, approximate err = 0.8650230890971894\n",
      "funm result may be inaccurate, approximate err = 8.687202043436462e-09\n",
      "funm result may be inaccurate, approximate err = 9.420631788939117e-08\n",
      "funm result may be inaccurate, approximate err = 5.960329600380405e-07\n",
      "funm result may be inaccurate, approximate err = 6.865916508389803e-06\n",
      "funm result may be inaccurate, approximate err = 4.340923258112894e-05\n",
      "funm result may be inaccurate, approximate err = 0.0005001579005826039\n",
      "funm result may be inaccurate, approximate err = 0.003171317211991256\n",
      "funm result may be inaccurate, approximate err = 0.04023363204980764\n",
      "funm result may be inaccurate, approximate err = 0.2419528484666106\n",
      "funm result may be inaccurate, approximate err = 1\n",
      "funm result may be inaccurate, approximate err = 6.009583558119183e-11\n",
      "funm result may be inaccurate, approximate err = 6.936925834178863e-10\n",
      "funm result may be inaccurate, approximate err = 4.385729426693879e-09\n",
      "funm result may be inaccurate, approximate err = 5.052193247919573e-08\n",
      "funm result may be inaccurate, approximate err = 3.194218304182377e-07\n",
      "funm result may be inaccurate, approximate err = 3.6796340417303787e-06\n",
      "funm result may be inaccurate, approximate err = 2.326390746890993e-05\n",
      "funm result may be inaccurate, approximate err = 0.0002683490271654102\n",
      "funm result may be inaccurate, approximate err = 0.001689892532432676\n",
      "funm result may be inaccurate, approximate err = 0.019222735312646663\n",
      "funm result may be inaccurate, approximate err = 0.11425551177610464\n",
      "funm result may be inaccurate, approximate err = 0.4942989080393009\n",
      "funm result may be inaccurate, approximate err = 1\n",
      "funm result may be inaccurate, approximate err = 0.4942989080391989\n",
      "funm result may be inaccurate, approximate err = 0.5141498029926276\n",
      "funm result may be inaccurate, approximate err = 1\n",
      "funm result may be inaccurate, approximate err = 3.2892595274295275e-10\n",
      "funm result may be inaccurate, approximate err = 3.794932444638322e-09\n",
      "funm result may be inaccurate, approximate err = 2.3992821003263506e-08\n",
      "funm result may be inaccurate, approximate err = 2.7638838371233286e-07\n",
      "funm result may be inaccurate, approximate err = 1.7474514583869946e-06\n",
      "funm result may be inaccurate, approximate err = 2.0129923882262364e-05\n",
      "funm result may be inaccurate, approximate err = 0.00012726480272095062\n",
      "funm result may be inaccurate, approximate err = 0.001466140828929881\n",
      "funm result may be inaccurate, approximate err = 0.009284872288805588\n",
      "funm result may be inaccurate, approximate err = 0.1153364118758241\n",
      "funm result may be inaccurate, approximate err = 0.514149802992604\n",
      "funm result may be inaccurate, approximate err = 1\n",
      "funm result may be inaccurate, approximate err = 6.663162141738199e-11\n",
      "funm result may be inaccurate, approximate err = 7.675815734725986e-10\n",
      "funm result may be inaccurate, approximate err = 4.852995193993171e-09\n",
      "funm result may be inaccurate, approximate err = 5.590457860650932e-08\n",
      "funm result may be inaccurate, approximate err = 3.5345340521588064e-07\n",
      "funm result may be inaccurate, approximate err = 4.0716740915068176e-06\n",
      "funm result may be inaccurate, approximate err = 2.5742242176607536e-05\n",
      "funm result may be inaccurate, approximate err = 0.00029619006645020514\n",
      "funm result may be inaccurate, approximate err = 0.0018738944983786381\n"
     ]
    }
   ],
   "source": [
    "init_rho = num_electrons*ovlp/ovlp.trace()\n",
    "norm_diff_temp = []\n",
    "for i in range(100):\n",
    "    temp_cp_exact_P = cp.exact_single_step(init_rho, **func_args)\n",
    "    norm_diff_temp.append(linalg.norm(cp_exact_P - init_rho))\n",
    "    init_rho = temp_cp_exact_P.copy()\n",
    "    "
   ]
  },
  {
   "cell_type": "code",
   "execution_count": 7,
   "metadata": {},
   "outputs": [
    {
     "name": "stdout",
     "output_type": "stream",
     "text": [
      "10.740273685894815\n"
     ]
    },
    {
     "data": {
      "image/png": "[encoded data removed]",
      "text/plain": [
       "<Figure size 432x288 with 1 Axes>"
      ]
     },
     "metadata": {
      "needs_background": "light"
     },
     "output_type": "display_data"
    },
    {
     "data": {
      "image/png": "[encoded data removed]",
      "text/plain": [
       "<Figure size 432x288 with 1 Axes>"
      ]
     },
     "metadata": {
      "needs_background": "light"
     },
     "output_type": "display_data"
    }
   ],
   "source": [
    "plt.figure(1)\n",
    "plt.plot(linalg.eigvalsh(gcp_exact_P, ovlp)[::-1], 'ks-', label=\"Exact by FD\")\n",
    "plt.plot(linalg.eigvalsh(dmm_gcp, ovlp)[::-1], 'r^-', label=\"Grand Can. DMM\")\n",
    "plt.ylabel(\"Population\")\n",
    "plt.legend(numpoints=1)\n",
    "plt.savefig(\"gc_hf_eigs.pdf\")\n",
    "\n",
    "plt.figure(2)\n",
    "plt.plot(linalg.eigvalsh(cp_exact_P, ovlp)[::-1], 'ks-', label=\"Exact by FD\")\n",
    "plt.plot(linalg.eigvalsh(dmm_cp, ovlp)[::-1], 'r^-', label=\"Can. DMM\")\n",
    "plt.ylabel(\"Population\")\n",
    "plt.xlabel(\"Eigenvalue Index\")\n",
    "#plt.plot(linalg.eigvalsh(temp_cp_exact_P, ovlp), 'g--', label=\"Simple\")\n",
    "plt.legend(numpoints=1)\n",
    "plt.savefig(\"c_hf_eigs.pdf\")\n",
    "print(cp_exact_P.trace())"
   ]
  },
  {
   "cell_type": "code",
   "execution_count": 8,
   "metadata": {},
   "outputs": [
    {
     "data": {
      "text/plain": [
       "<matplotlib.legend.Legend at 0x7f356c569e50>"
      ]
     },
     "execution_count": 8,
     "metadata": {},
     "output_type": "execute_result"
    },
    {
     "data": {
      "image/png": "[encoded data removed]",
      "text/plain": [
       "<Figure size 432x288 with 1 Axes>"
      ]
     },
     "metadata": {
      "needs_background": "light"
     },
     "output_type": "display_data"
    }
   ],
   "source": [
    "plt.semilogy(norm_diff, 'ks-', label=\"Aitkens\")\n",
    "#plt.semilogy(norm_diff_temp, 'rx-', label=\"Simple\")\n",
    "plt.legend(numpoints=1)"
   ]
  },
  {
   "cell_type": "code",
   "execution_count": 9,
   "metadata": {},
   "outputs": [
    {
     "data": {
      "text/plain": [
       "[<matplotlib.lines.Line2D at 0x7f356c52c990>]"
      ]
     },
     "execution_count": 9,
     "metadata": {},
     "output_type": "execute_result"
    },
    {
     "data": {
      "image/png": "[encoded data removed]",
      "text/plain": [
       "<Figure size 432x288 with 1 Axes>"
      ]
     },
     "metadata": {
      "needs_background": "light"
     },
     "output_type": "display_data"
    }
   ],
   "source": [
    "A = linalg.eigvalsh(cp_exact_P, ovlp)[::-1]\n",
    "B = linalg.eigvalsh(dmm_cp, ovlp)[::-1]\n",
    "plt.plot(np.abs(A-B)/np.abs(A))"
   ]
  },
  {
   "cell_type": "code",
   "execution_count": 10,
   "metadata": {},
   "outputs": [
    {
     "name": "stdout",
     "output_type": "stream",
     "text": [
      "[[ 3.20951375e+00  1.53290085e+00 -3.82246121e-01 -8.65994942e-03\n",
      "   5.95208246e-01  1.68956603e-19  2.26740132e-19 -2.20677591e-01\n",
      "   6.38662842e-19  1.18584613e-20 -1.41813962e+00]\n",
      " [ 1.53290085e+00  1.94331740e+00 -1.20837285e+00 -6.65462669e-02\n",
      "   7.59610782e-01 -1.54490869e-18  1.47120359e-18 -2.18501672e-01\n",
      "  -1.30019557e-18 -2.08285402e-18 -1.11722562e+00]\n",
      " [-3.82246121e-01 -1.20837285e+00 -2.45640096e+01 -5.97060560e+00\n",
      "  -4.23224289e+00 -3.15090726e-18 -8.43901510e-20 -5.42533073e-02\n",
      "   3.19299266e-19  6.52835697e-19 -7.32953758e-03]\n",
      " [-8.65994942e-03 -6.65462669e-02 -5.97060560e+00  1.97073237e-01\n",
      "  -2.10771479e-01 -4.73950863e-18 -5.34408741e-18 -2.89949509e-01\n",
      "  -3.78390876e-18 -1.47139549e-18 -1.61619083e-01]\n",
      " [ 5.95208246e-01  7.59610782e-01 -4.23224289e+00 -2.10771479e-01\n",
      "   8.85311731e-01  6.31289354e-19 -1.92716870e-18 -2.47789535e-01\n",
      "  -2.81214938e-19 -1.14582382e-18 -3.08202510e-01]\n",
      " [ 1.68956603e-19 -1.54490869e-18 -3.15090726e-18 -4.73950863e-18\n",
      "   6.31289354e-19  2.31936436e+00 -6.25441355e-19 -2.43989386e-18\n",
      "   7.59148332e-01 -8.60593126e-19 -2.09114568e-19]\n",
      " [ 2.26740132e-19  1.47120359e-18 -8.43901510e-20 -5.34408741e-18\n",
      "  -1.92716870e-18 -6.25441355e-19  2.31936436e+00  5.78628369e-18\n",
      "  -6.77672887e-19  7.59148332e-01 -1.25466755e-18]\n",
      " [-2.20677591e-01 -2.18501672e-01 -5.42533073e-02 -2.89949509e-01\n",
      "  -2.47789535e-01 -2.43989386e-18  5.78628369e-18  2.38457041e+00\n",
      "  -3.64988813e-18 -1.18359619e-18  8.03158871e-01]\n",
      " [ 6.38662842e-19 -1.30019557e-18  3.19299266e-19 -3.78390876e-18\n",
      "  -2.81214938e-19  7.59148332e-01 -6.77672887e-19 -3.64988813e-18\n",
      "   2.39653681e+00  1.93077190e-18 -6.99649214e-19]\n",
      " [ 1.18584613e-20 -2.08285402e-18  6.52835697e-19 -1.47139549e-18\n",
      "  -1.14582382e-18 -8.60593126e-19  7.59148332e-01 -1.18359619e-18\n",
      "   1.93077190e-18  2.39653681e+00 -1.08886085e-18]\n",
      " [-1.41813962e+00 -1.11722562e+00 -7.32953758e-03 -1.61619083e-01\n",
      "  -3.08202510e-01 -2.09114568e-19 -1.25466755e-18  8.03158871e-01\n",
      "  -6.99649214e-19 -1.08886085e-18  2.47247392e+00]]\n"
     ]
    },
    {
     "data": {
      "text/plain": [
       "[<matplotlib.lines.Line2D at 0x7f356c2f4710>]"
      ]
     },
     "execution_count": 10,
     "metadata": {},
     "output_type": "execute_result"
    },
    {
     "data": {
      "image/png": "[encoded data removed]",
      "text/plain": [
       "<Figure size 432x288 with 1 Axes>"
      ]
     },
     "metadata": {
      "needs_background": "light"
     },
     "output_type": "display_data"
    }
   ],
   "source": [
    "norm_diff_in_H = []\n",
    "print(list_H[0])\n",
    "for i in range(1, len(list_H)):\n",
    "    norm_diff_in_H.append(linalg.norm(list_H[i]-list_H[i-1]))\n",
    "plt.semilogy(norm_diff_in_H)"
   ]
  },
  {
   "cell_type": "code",
   "execution_count": null,
   "metadata": {},
   "outputs": [],
   "source": []
  }
 ],
 "metadata": {
  "kernelspec": {
   "display_name": "Python 3",
   "language": "python",
   "name": "python3"
  },
  "language_info": {
   "codemirror_mode": {
    "name": "ipython",
    "version": 3
   },
   "file_extension": ".py",
   "mimetype": "text/x-python",
   "name": "python",
   "nbconvert_exporter": "python",
   "pygments_lexer": "ipython3",
   "version": "3.7.6"
  }
 },
 "nbformat": 4,
 "nbformat_minor": 4
}
