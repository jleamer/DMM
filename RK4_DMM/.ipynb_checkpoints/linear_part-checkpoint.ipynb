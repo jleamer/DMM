{
 "cells": [
  {
   "cell_type": "code",
   "execution_count": 1,
   "metadata": {},
   "outputs": [],
   "source": [
    "# import standard libraries\n",
    "import numpy as np\n",
    "from scipy.io import mmread, mmwrite\n",
    "from scipy import linalg\n",
    "from scipy import sparse\n",
    "from numba import njit\n",
    "import matplotlib.pyplot as plt\n",
    "from pyscf import gto, dft\n",
    "import numpy.ma as ma\n",
    "\n",
    "# import methods for solving from other files\n",
    "import dmm_gcp as gcp\n",
    "import dmm_cp as cp\n",
    "import palser as pals\n",
    "import ntpoly as nt\n",
    "\n",
    "# Note: using np.sum(A * B.T) for matrices A, B is equivalent to Trace(A^dag B)\n"
   ]
  },
  {
   "cell_type": "code",
   "execution_count": 2,
   "metadata": {},
   "outputs": [
    {
     "name": "stdout",
     "output_type": "stream",
     "text": [
      "converged SCF energy = -100.291327706251\n",
      "TODO: total wave-function symmetry for Coov\n",
      "occupancy for each irrep:     A1  E1x  E1y\n",
      "                               3    1    1\n",
      "**** MO energy ****\n",
      "MO #1 (A1 #1), energy= -24.2331671128069 occ= 2\n",
      "MO #2 (A1 #2), energy= -1.0272972299461 occ= 2\n",
      "MO #3 (A1 #3), energy= -0.426131190105553 occ= 2\n",
      "MO #4 (E1x #1), energy= -0.289938520612843 occ= 2\n",
      "MO #5 (E1y #1), energy= -0.289938520612843 occ= 2\n",
      "MO #6 (A1 #4), energy= -0.0349559135896364 occ= 0\n",
      "MO #7 (A1 #5), energy= 0.664675049298748 occ= 0\n",
      "MO #8 (E1x #2), energy= 1.1305709354121 occ= 0\n",
      "MO #9 (E1y #2), energy= 1.1305709354121 occ= 0\n",
      "MO #10 (A1 #6), energy= 1.24759809513673 occ= 0\n",
      "MO #11 (A1 #7), energy= 1.57280313485609 occ= 0\n",
      " ** Mulliken atomic charges  **\n",
      "charge of  0H =      0.35670\n",
      "charge of  1F =     -0.35670\n",
      "Dipole moment(X, Y, Z, Debye):  0.00000,  0.00000, -2.17040\n",
      "Total dft energy: -100.29132770625067\n",
      "Chemical Potential:  -0.16244721710123977\n",
      "DFT trace:  7.12400971525713\n"
     ]
    },
    {
     "data": {
      "text/plain": [
       "<matplotlib.colorbar.Colorbar at 0x7f2ea062c040>"
      ]
     },
     "execution_count": 2,
     "metadata": {},
     "output_type": "execute_result"
    },
    {
     "data": {
      "image/png": "[encoded data removed]",
      "text/plain": [
       "<Figure size 432x288 with 2 Axes>"
      ]
     },
     "metadata": {
      "needs_background": "light"
     },
     "output_type": "display_data"
    }
   ],
   "source": [
    "'''\n",
    "A simple example to run DFT calculation.\n",
    "'''\n",
    "\n",
    "# PBE Hydrogen flouride in a 6-31G basis set.\n",
    "mol = gto.Mole()\n",
    "mol.build(\n",
    "    atom = 'H 0 0 0; F 0 0 1.1',  # in Angstrom\n",
    "    basis = '631g',\n",
    "    symmetry = True,\n",
    ")\n",
    "\n",
    "mf = dft.RKS(mol)\n",
    "#mf.xc = 'blyp' # shorthand for b88,lyp\n",
    "mf.xc = 'pbe' # shorthand for pbe,pbe\n",
    "#mf.xc = 'lda,vwn_rpa'\n",
    "#mf.xc = 'pbe0'\n",
    "#mf.xc = 'b3lyp'\n",
    "\n",
    "# this where self-content diagonalization happens\n",
    "mf.kernel()\n",
    "\n",
    "# Orbital energies, Mulliken population etc.\n",
    "mf.analyze()\n",
    "\n",
    "# Get the converged density matrix (it generates the density matrix)\n",
    "dm = mf.make_rdm1()\n",
    "mmwrite('dft_density.mtx', sparse.coo_matrix(dm))\n",
    "\n",
    "\n",
    "# Get the nuclear-nuclear repulsion energy\n",
    "e_nuc = mf.energy_nuc()\n",
    "# Get the 'core' hamiltonian, corresponding to kinetic energy and e-nuclear repulsion terms\n",
    "h1e = mf.get_hcore()\n",
    "#mmwrite('dft_hcore.mtx', sparse.coo_matrix(h1e))\n",
    "e1 = np.einsum('ij,ji', h1e, dm) # Compute the kinetic + e-nuclear repulsion energy\n",
    "# Get the kohn-sham potential, including the Hartree coulomb repulsion and exchange-correlation potential, integrated on a grid\n",
    "vhf = mf.get_veff(mf.mol, dm)\n",
    "#print(type(vhf))\n",
    "#print(vhf)\n",
    "# Total energy\n",
    "tot_e = e1 + vhf.ecoul + vhf.exc + e_nuc    # Total energy is sum of terms\n",
    "print('Total dft energy: {}'.format(tot_e))\n",
    "\n",
    "# chemical potential\n",
    "index = int(mol.nelectron/2)\n",
    "dft_mu = (mf.mo_energy[index] + mf.mo_energy[index - 1]) / 2.\n",
    "print('Chemical Potential: ', str(dft_mu))\n",
    "\n",
    "# get the overlap matrix and print to file\n",
    "ovlp = mf.get_ovlp()\n",
    "#mmwrite('dft_overlap.mtx', sparse.coo_matrix(ovlp))\n",
    "\n",
    "# Full fock matrix is sum of h1e and vhf\n",
    "fock = h1e + vhf\n",
    "\n",
    "# Get whole fock matrix directly corresponding to this density, without computing individual components\n",
    "fock_direct = mf.get_fock(dm=dm)\n",
    "\n",
    "# Check that ways to get the fock matrix are the same\n",
    "assert(np.allclose(fock_direct,fock))\n",
    "\n",
    "print(\"DFT trace: \", dm.trace())\n",
    "\n",
    "plt.imshow(dm.real)\n",
    "plt.title(\"DFT by Pyscf\")\n",
    "plt.xlabel(\"i\")\n",
    "plt.ylabel(\"j\")\n",
    "plt.colorbar()"
   ]
  },
  {
   "cell_type": "code",
   "execution_count": 3,
   "metadata": {},
   "outputs": [
    {
     "name": "stdout",
     "output_type": "stream",
     "text": [
      "NTPoly Trace:  0.0\n"
     ]
    },
    {
     "data": {
      "text/plain": [
       "<matplotlib.colorbar.Colorbar at 0x7f2ea00c9070>"
      ]
     },
     "execution_count": 3,
     "metadata": {},
     "output_type": "execute_result"
    },
    {
     "data": {
      "image/png": "[encoded data removed]",
      "text/plain": [
       "<Figure size 432x288 with 2 Axes>"
      ]
     },
     "metadata": {
      "needs_background": "light"
     },
     "output_type": "display_data"
    }
   ],
   "source": [
    "# NTPoly Solver\n",
    "ntpoly_rho = nt.NTPoly_cp(h1e, ovlp, 10)\n",
    "print(\"NTPoly Trace: \", ntpoly_rho.trace())\n",
    "\n",
    "plt.imshow(ntpoly_rho.real)\n",
    "plt.title(\"NTPoly\")\n",
    "plt.xlabel(\"i\")\n",
    "plt.ylabel(\"j\")\n",
    "plt.colorbar()"
   ]
  },
  {
   "cell_type": "code",
   "execution_count": 4,
   "metadata": {},
   "outputs": [
    {
     "name": "stdout",
     "output_type": "stream",
     "text": [
      "GCP steps:  17\n",
      "Palser GCP trace:  (6+0j)\n",
      "CP steps:  43\n",
      "Palser CP trace:  (9.99999999999999+0j)\n"
     ]
    },
    {
     "data": {
      "text/plain": [
       "<matplotlib.colorbar.Colorbar at 0x7f2e287db0d0>"
      ]
     },
     "execution_count": 4,
     "metadata": {},
     "output_type": "execute_result"
    },
    {
     "data": {
      "image/png": "[encoded data removed]",
      "text/plain": [
       "<Figure size 432x288 with 2 Axes>"
      ]
     },
     "metadata": {
      "needs_background": "light"
     },
     "output_type": "display_data"
    },
    {
     "data": {
      "image/png": "[encoded data removed]",
      "text/plain": [
       "<Figure size 432x288 with 2 Axes>"
      ]
     },
     "metadata": {
      "needs_background": "light"
     },
     "output_type": "display_data"
    }
   ],
   "source": [
    "# Palser solver\n",
    "mu = -5\n",
    "palser_gcp_rho = pals.gcp(mu, h1e, 1000)\n",
    "print(\"Palser GCP trace: \", palser_gcp_rho.trace())\n",
    "palser_cp_rho = pals.cp(10, h1e, 1000)\n",
    "print(\"Palser CP trace: \", palser_cp_rho.trace())\n",
    "\n",
    "plt.figure(1)\n",
    "plt.imshow(palser_gcp_rho.real)\n",
    "plt.title(\"Palser GCP\")\n",
    "plt.xlabel(\"i\")\n",
    "plt.ylabel(\"j\")\n",
    "plt.colorbar()\n",
    "\n",
    "plt.figure(2)\n",
    "plt.imshow(palser_cp_rho.real)\n",
    "plt.title(\"Palser CP\")\n",
    "plt.xlabel(\"i\")\n",
    "plt.ylabel(\"j\")\n",
    "plt.colorbar()"
   ]
  },
  {
   "cell_type": "code",
   "execution_count": 5,
   "metadata": {},
   "outputs": [
    {
     "name": "stdout",
     "output_type": "stream",
     "text": [
      "DMM GCP trace:  7.081833022307978\n",
      "DMM CP trace:  7.081833022307979\n"
     ]
    },
    {
     "data": {
      "text/plain": [
       "<matplotlib.colorbar.Colorbar at 0x7f2e28685220>"
      ]
     },
     "execution_count": 5,
     "metadata": {},
     "output_type": "execute_result"
    },
    {
     "data": {
      "image/png": "[encoded data removed]",
      "text/plain": [
       "<Figure size 432x288 with 2 Axes>"
      ]
     },
     "metadata": {
      "needs_background": "light"
     },
     "output_type": "display_data"
    },
    {
     "data": {
      "image/png": "[encoded data removed]",
      "text/plain": [
       "<Figure size 432x288 with 2 Axes>"
      ]
     },
     "metadata": {
      "needs_background": "light"
     },
     "output_type": "display_data"
    }
   ],
   "source": [
    "# DMM Solvers\n",
    "dbeta = 0.003\n",
    "num_electrons = 10\n",
    "identity = np.identity(h1e.shape[0])\n",
    "inv_ovlp = linalg.inv(ovlp)\n",
    "init_rho = ovlp/2\n",
    "\n",
    "dmm_gcp = gcp.rk4(gcp.rhs, init_rho, dbeta, h1e, inv_ovlp, identity, mu, 1000)\n",
    "print(\"DMM GCP trace: \", dmm_gcp.trace())\n",
    "dmm_cp = cp.rk4(cp.rhs, init_rho, dbeta, h1e, inv_ovlp, identity, 1000)\n",
    "print(\"DMM CP trace: \", dmm_cp.trace())\n",
    "\n",
    "plt.figure(1)\n",
    "plt.imshow(dmm_gcp.real)\n",
    "plt.title(\"DMM GCP\")\n",
    "plt.xlabel(\"i\")\n",
    "plt.ylabel(\"j\")\n",
    "plt.colorbar()\n",
    "\n",
    "plt.figure(2)\n",
    "plt.imshow(dmm_cp.real)\n",
    "plt.title(\"DMM CP\")\n",
    "plt.xlabel(\"i\")\n",
    "plt.ylabel(\"j\")\n",
    "plt.colorbar()"
   ]
  },
  {
   "cell_type": "code",
   "execution_count": 6,
   "metadata": {},
   "outputs": [
    {
     "name": "stdout",
     "output_type": "stream",
     "text": [
      "0.4103896162597963\n",
      "0.4103896162597963\n",
      "3.7382547180692414\n",
      "0.0\n",
      "-4.771598800542033\n"
     ]
    }
   ],
   "source": [
    "print(linalg.norm(dmm_cp @ inv_ovlp @ dmm_cp - dmm_cp))\n",
    "print(linalg.norm(dmm_gcp @ inv_ovlp @ dmm_gcp - dmm_gcp))\n",
    "print(linalg.norm(dm @ inv_ovlp @ dm - dm))\n",
    "print(linalg.norm(dmm_gcp.conj().T - dmm_gcp))\n",
    "print(cp.get_mu(dmm_gcp, h1e, inv_ovlp))"
   ]
  },
  {
   "cell_type": "code",
   "execution_count": 7,
   "metadata": {},
   "outputs": [
    {
     "name": "stdout",
     "output_type": "stream",
     "text": [
      "funm result may be inaccurate, approximate err = 1\n"
     ]
    },
    {
     "data": {
      "text/plain": [
       "<matplotlib.colorbar.Colorbar at 0x7f2e285c7220>"
      ]
     },
     "execution_count": 7,
     "metadata": {},
     "output_type": "execute_result"
    },
    {
     "data": {
      "image/png": "[encoded data removed]",
      "text/plain": [
       "<Figure size 432x288 with 2 Axes>"
      ]
     },
     "metadata": {
      "needs_background": "light"
     },
     "output_type": "display_data"
    }
   ],
   "source": [
    "gcp_exact = ovlp @ linalg.funm(inv_ovlp @ h1e, lambda _: _ <= mu)\n",
    "plt.imshow(gcp_exact.real)\n",
    "plt.title(\"GCP Heaviside (Linear)\")\n",
    "plt.colorbar()"
   ]
  },
  {
   "cell_type": "code",
   "execution_count": 8,
   "metadata": {},
   "outputs": [
    {
     "name": "stdout",
     "output_type": "stream",
     "text": [
      "funm result may be inaccurate, approximate err = 1\n"
     ]
    },
    {
     "data": {
      "text/plain": [
       "<matplotlib.colorbar.Colorbar at 0x7f2e2854fca0>"
      ]
     },
     "execution_count": 8,
     "metadata": {},
     "output_type": "execute_result"
    },
    {
     "data": {
      "image/png": "[encoded data removed]",
      "text/plain": [
       "<Figure size 432x288 with 2 Axes>"
      ]
     },
     "metadata": {
      "needs_background": "light"
     },
     "output_type": "display_data"
    }
   ],
   "source": [
    "gcp_fermi = ovlp @ linalg.funm(inv_ovlp @ h1e, lambda _: 1/(1+np.exp(1000*dbeta*(_ - mu))))\n",
    "plt.imshow(gcp_fermi)\n",
    "plt.title(\"GCP Fermi-Dirac\")\n",
    "plt.colorbar()"
   ]
  },
  {
   "cell_type": "code",
   "execution_count": 9,
   "metadata": {},
   "outputs": [
    {
     "data": {
      "text/plain": [
       "<matplotlib.colorbar.Colorbar at 0x7f2e2849fa90>"
      ]
     },
     "execution_count": 9,
     "metadata": {},
     "output_type": "execute_result"
    },
    {
     "data": {
      "image/png": "[encoded data removed]",
      "text/plain": [
       "<Figure size 432x288 with 1 Axes>"
      ]
     },
     "metadata": {
      "needs_background": "light"
     },
     "output_type": "display_data"
    },
    {
     "data": {
      "image/png": "[encoded data removed]",
      "text/plain": [
       "<Figure size 432x288 with 2 Axes>"
      ]
     },
     "metadata": {
      "needs_background": "light"
     },
     "output_type": "display_data"
    }
   ],
   "source": [
    "func_args = {'h':h1e, 'mu': mu, 'inv_ovlp': inv_ovlp}\n",
    "rho = init_rho.copy()\n",
    "norm_diff = []\n",
    "for i in range(5):\n",
    "    rho_next = gcp.steady_linear_single_step(rho, **func_args)\n",
    "    norm_diff.append(linalg.norm(rho_next - rho))\n",
    "    rho = rho_next\n",
    "    if norm_diff[-1] < 1e-10:\n",
    "        break\n",
    "\n",
    "plt.figure(1)\n",
    "plt.semilogy(norm_diff, '*-')\n",
    "\n",
    "plt.figure(2)\n",
    "plt.imshow(rho.real)\n",
    "plt.colorbar()"
   ]
  },
  {
   "cell_type": "code",
   "execution_count": 10,
   "metadata": {},
   "outputs": [
    {
     "data": {
      "text/plain": [
       "1.9866953075914617"
      ]
     },
     "execution_count": 10,
     "metadata": {},
     "output_type": "execute_result"
    }
   ],
   "source": [
    "linalg.norm(rho - rho @ rho)"
   ]
  },
  {
   "cell_type": "code",
   "execution_count": 11,
   "metadata": {},
   "outputs": [
    {
     "data": {
      "text/plain": [
       "[<matplotlib.lines.Line2D at 0x7f2e287b2250>]"
      ]
     },
     "execution_count": 11,
     "metadata": {},
     "output_type": "execute_result"
    },
    {
     "data": {
      "image/png": "[encoded data removed]",
      "text/plain": [
       "<Figure size 432x288 with 1 Axes>"
      ]
     },
     "metadata": {
      "needs_background": "light"
     },
     "output_type": "display_data"
    }
   ],
   "source": [
    "plt.plot(linalg.eigvalsh(gcp_exact, ovlp), '*-')"
   ]
  },
  {
   "cell_type": "code",
   "execution_count": 12,
   "metadata": {},
   "outputs": [
    {
     "name": "stdout",
     "output_type": "stream",
     "text": [
      "16.90517373976157\n",
      "1.796442531650318\n",
      "1.796442531650318\n"
     ]
    }
   ],
   "source": [
    "print(linalg.norm(h1e @ inv_ovlp - (h1e @ inv_ovlp).conj().T))\n",
    "print(linalg.norm(init_rho @ inv_ovlp - inv_ovlp @ init_rho))\n",
    "print(linalg.norm(dmm_gcp @ inv_ovlp - inv_ovlp @ dmm_gcp))"
   ]
  },
  {
   "cell_type": "code",
   "execution_count": 13,
   "metadata": {},
   "outputs": [
    {
     "name": "stdout",
     "output_type": "stream",
     "text": [
      "0.0\n"
     ]
    },
    {
     "data": {
      "text/plain": [
       "<matplotlib.colorbar.Colorbar at 0x7f2e287f0bb0>"
      ]
     },
     "execution_count": 13,
     "metadata": {},
     "output_type": "execute_result"
    },
    {
     "data": {
      "image/png": "[encoded data removed]",
      "text/plain": [
       "<Figure size 432x288 with 2 Axes>"
      ]
     },
     "metadata": {
      "needs_background": "light"
     },
     "output_type": "display_data"
    }
   ],
   "source": [
    "rho_i = init_rho.copy()\n",
    "herm_check = []\n",
    "trace_check = []\n",
    "trace_check.append(rho_i.trace())\n",
    "dbeta = 0.003\n",
    "iden = np.identity(rho_i.shape[0])\n",
    "mu = -5\n",
    "B = inv_ovlp @ h1e\n",
    "B += B.conj().T\n",
    "B/= 2\n",
    "print(linalg.norm(B - B.conj().T))\n",
    "for i in range(1000):\n",
    "    A = inv_ovlp @ rho_i\n",
    "    A += A.conj().T\n",
    "    A /= 2\n",
    "    \n",
    "    K = -dbeta/2 * (iden - A) @ (B - mu*iden)\n",
    "    Kdag = -dbeta/2 * (B - mu*iden) @ (iden - A)\n",
    "    \n",
    "    rho_next = (iden + Kdag) @ rho_i @ (iden + K) - Kdag @ rho_i @ K\n",
    "    herm_check.append(linalg.norm(rho_next - rho_next.conj().T))\n",
    "    trace_check.append(rho_next.trace())\n",
    "    rho_i = rho_next\n",
    "    \n",
    "plt.imshow(rho_i.real)\n",
    "plt.colorbar()"
   ]
  },
  {
   "cell_type": "code",
   "execution_count": 16,
   "metadata": {},
   "outputs": [
    {
     "data": {
      "text/plain": [
       "0.07384266146887575"
      ]
     },
     "execution_count": 16,
     "metadata": {},
     "output_type": "execute_result"
    }
   ],
   "source": [
    "linalg.norm(rho_i @ inv_ovlp @ rho_i - rho_i)"
   ]
  },
  {
   "cell_type": "code",
   "execution_count": 17,
   "metadata": {},
   "outputs": [
    {
     "data": {
      "text/plain": [
       "Text(0.5, 1.0, 'Norm Diff of Steady State')"
      ]
     },
     "execution_count": 17,
     "metadata": {},
     "output_type": "execute_result"
    },
    {
     "data": {
      "image/png": "[encoded data removed]",
      "text/plain": [
       "<Figure size 432x288 with 2 Axes>"
      ]
     },
     "metadata": {
      "needs_background": "light"
     },
     "output_type": "display_data"
    },
    {
     "data": {
      "image/png": "[encoded data removed]",
      "text/plain": [
       "<Figure size 432x288 with 1 Axes>"
      ]
     },
     "metadata": {
      "needs_background": "light"
     },
     "output_type": "display_data"
    }
   ],
   "source": [
    "# Steady state\n",
    "rho_i = init_rho.copy()\n",
    "herm_check = []\n",
    "trace_check = []\n",
    "trace_check.append(rho_i.trace())\n",
    "dbeta = 0.003\n",
    "iden = np.identity(rho_i.shape[0])\n",
    "inv_ovlp = ovlp.copy()\n",
    "B = inv_ovlp @ h1e\n",
    "B += B.conj().T\n",
    "B/= 2\n",
    "\n",
    "norm_diff = []\n",
    "for i in range(5):\n",
    "    A = inv_ovlp @ rho_i\n",
    "    A += A.conj().T\n",
    "    A /= 2\n",
    "    rho_next = (iden + B) @ rho_i @ (iden + B) - B @ rho_i @ B\n",
    "    rho_next += B @ A @ rho_i @ A @ B - (iden + B @ A) @ rho_i @ (iden + A @ B)\n",
    "    rho_next += mu * ((iden + A) @ rho_i @ (iden + A) - A @ rho_i @ A)\n",
    "    rho_next /= (3*mu)\n",
    "    \n",
    "    norm_diff.append(linalg.norm(rho_next - rho_i))\n",
    "    if norm_diff[-1] < 1e-16:\n",
    "        break\n",
    "    \n",
    "    rho_i = rho_next.copy()\n",
    "\n",
    "plt.figure(1)\n",
    "plt.imshow(rho_i.real)\n",
    "plt.title(\"Steady State\")\n",
    "plt.colorbar()\n",
    "\n",
    "plt.figure(2)\n",
    "plt.semilogy(norm_diff, '*-')\n",
    "plt.title(\"Norm Diff of Steady State\")"
   ]
  },
  {
   "cell_type": "code",
   "execution_count": null,
   "metadata": {},
   "outputs": [],
   "source": []
  }
 ],
 "metadata": {
  "kernelspec": {
   "display_name": "Python 3",
   "language": "python",
   "name": "python3"
  },
  "language_info": {
   "codemirror_mode": {
    "name": "ipython",
    "version": 3
   },
   "file_extension": ".py",
   "mimetype": "text/x-python",
   "name": "python",
   "nbconvert_exporter": "python",
   "pygments_lexer": "ipython3",
   "version": "3.8.5"
  }
 },
 "nbformat": 4,
 "nbformat_minor": 4
}
