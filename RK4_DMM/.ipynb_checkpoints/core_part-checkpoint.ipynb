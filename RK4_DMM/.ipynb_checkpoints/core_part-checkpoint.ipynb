{
 "cells": [
  {
   "cell_type": "code",
   "execution_count": 1,
   "metadata": {},
   "outputs": [],
   "source": [
    "# import standard libraries\n",
    "import numpy as np\n",
    "from scipy.io import mmread, mmwrite\n",
    "from scipy import linalg\n",
    "from scipy import sparse\n",
    "from numba import njit\n",
    "import matplotlib.pyplot as plt\n",
    "from pyscf import gto, dft\n",
    "import numpy.ma as ma\n",
    "\n",
    "# import methods for solving from other files\n",
    "import dmm_gcp as gcp\n",
    "import dmm_cp as cp\n",
    "import palser as pals\n",
    "import ntpoly as nt\n",
    "\n",
    "# Note: using np.sum(A * B.T) for matrices A, B is equivalent to Trace(A^dag B)"
   ]
  },
  {
   "cell_type": "code",
   "execution_count": 2,
   "metadata": {},
   "outputs": [
    {
     "name": "stdout",
     "output_type": "stream",
     "text": [
      "converged SCF energy = -100.291327706251\n",
      "TODO: total wave-function symmetry for Coov\n",
      "occupancy for each irrep:     A1  E1x  E1y\n",
      "                               3    1    1\n",
      "**** MO energy ****\n",
      "MO #1 (A1 #1), energy= -24.2331671128069 occ= 2\n",
      "MO #2 (A1 #2), energy= -1.0272972299461 occ= 2\n",
      "MO #3 (A1 #3), energy= -0.426131190105549 occ= 2\n",
      "MO #4 (E1x #1), energy= -0.289938520612839 occ= 2\n",
      "MO #5 (E1y #1), energy= -0.289938520612839 occ= 2\n",
      "MO #6 (A1 #4), energy= -0.0349559135896326 occ= 0\n",
      "MO #7 (A1 #5), energy= 0.664675049298748 occ= 0\n",
      "MO #8 (E1x #2), energy= 1.1305709354121 occ= 0\n",
      "MO #9 (E1y #2), energy= 1.1305709354121 occ= 0\n",
      "MO #10 (A1 #6), energy= 1.24759809513673 occ= 0\n",
      "MO #11 (A1 #7), energy= 1.57280313485608 occ= 0\n",
      " ** Mulliken atomic charges  **\n",
      "charge of  0H =      0.35670\n",
      "charge of  1F =     -0.35670\n",
      "Dipole moment(X, Y, Z, Debye):  0.00000,  0.00000, -2.17040\n",
      "Total dft energy: -100.29132770625061\n",
      "Chemical Potential:  -0.16244721710123583\n",
      "DFT trace:  7.124009715257121\n",
      "Core eigvals:  [-40.92691642 -10.30802976 -10.01838351 -10.00724828 -10.00724828\n",
      "  -4.89142614  -4.40582803  -4.3659127   -4.3659127   -3.61476955\n",
      "  -2.52299647]\n"
     ]
    }
   ],
   "source": [
    "'''\n",
    "A simple example to run DFT calculation.\n",
    "'''\n",
    "\n",
    "# PBE Hydrogen flouride in a 6-31G basis set.\n",
    "mol = gto.Mole()\n",
    "mol.build(\n",
    "    atom = 'H 0 0 0; F 0 0 1.1',  # in Angstrom\n",
    "    basis = '631g',\n",
    "    symmetry = True,\n",
    ")\n",
    "\n",
    "mf = dft.RKS(mol)\n",
    "#mf.xc = 'blyp' # shorthand for b88,lyp\n",
    "mf.xc = 'pbe' # shorthand for pbe,pbe\n",
    "#mf.xc = 'lda,vwn_rpa'\n",
    "#mf.xc = 'pbe0'\n",
    "#mf.xc = 'b3lyp'\n",
    "\n",
    "# this where self-content diagonalization happens\n",
    "mf.kernel()\n",
    "\n",
    "# Orbital energies, Mulliken population etc.\n",
    "mf.analyze()\n",
    "\n",
    "# Get the converged density matrix (it generates the density matrix)\n",
    "dm = mf.make_rdm1()\n",
    "mmwrite('dft_density.mtx', sparse.coo_matrix(dm))\n",
    "\n",
    "\n",
    "# Get the nuclear-nuclear repulsion energy\n",
    "e_nuc = mf.energy_nuc()\n",
    "# Get the 'core' hamiltonian, corresponding to kinetic energy and e-nuclear repulsion terms\n",
    "h1e = mf.get_hcore()\n",
    "#mmwrite('dft_hcore.mtx', sparse.coo_matrix(h1e))\n",
    "e1 = np.einsum('ij,ji', h1e, dm) # Compute the kinetic + e-nuclear repulsion energy\n",
    "# Get the kohn-sham potential, including the Hartree coulomb repulsion and exchange-correlation potential, integrated on a grid\n",
    "vhf = mf.get_veff(mf.mol, dm)\n",
    "#print(type(vhf))\n",
    "#print(vhf)\n",
    "# Total energy\n",
    "tot_e = e1 + vhf.ecoul + vhf.exc + e_nuc    # Total energy is sum of terms\n",
    "print('Total dft energy: {}'.format(tot_e))\n",
    "\n",
    "# chemical potential\n",
    "index = int(mol.nelectron/2)\n",
    "dft_mu = (mf.mo_energy[index] + mf.mo_energy[index - 1]) / 2.\n",
    "print('Chemical Potential: ', str(dft_mu))\n",
    "\n",
    "# get the overlap matrix and print to file\n",
    "ovlp = mf.get_ovlp()\n",
    "inv_ovlp = linalg.inv(ovlp)\n",
    "\n",
    "# Full fock matrix is sum of h1e and vhf\n",
    "fock = h1e + vhf\n",
    "\n",
    "# Get whole fock matrix directly corresponding to this density, without computing individual components\n",
    "fock_direct = mf.get_fock(dm=dm)\n",
    "\n",
    "# Check that ways to get the fock matrix are the same\n",
    "assert(np.allclose(fock_direct,fock))\n",
    "\n",
    "print(\"DFT trace: \", dm.trace())\n",
    "core_spect = linalg.eigvalsh(h1e, ovlp)\n",
    "print(\"Core eigvals: \", core_spect)\n",
    "num_electrons = 10\n",
    "index = int(num_electrons/2)\n",
    "dmm_mu = (core_spect[index] + core_spect[index-1])/2"
   ]
  },
  {
   "cell_type": "code",
   "execution_count": 3,
   "metadata": {},
   "outputs": [
    {
     "name": "stdout",
     "output_type": "stream",
     "text": [
      "NTPoly Trace:  0.0\n"
     ]
    },
    {
     "data": {
      "text/plain": [
       "<matplotlib.colorbar.Colorbar at 0x7f7144099c90>"
      ]
     },
     "execution_count": 3,
     "metadata": {},
     "output_type": "execute_result"
    },
    {
     "data": {
      "image/png": "[encoded data removed]",
      "text/plain": [
       "<Figure size 432x288 with 2 Axes>"
      ]
     },
     "metadata": {
      "needs_background": "light"
     },
     "output_type": "display_data"
    }
   ],
   "source": [
    "# NTPoly Solver\n",
    "ntpoly_rho = nt.NTPoly_cp(h1e, ovlp, 10)\n",
    "print(\"NTPoly Trace: \", ntpoly_rho.trace())\n",
    "\n",
    "plt.imshow(ntpoly_rho.real)\n",
    "plt.title(\"NTPoly\")\n",
    "plt.xlabel(\"i\")\n",
    "plt.ylabel(\"j\")\n",
    "plt.colorbar()"
   ]
  },
  {
   "cell_type": "code",
   "execution_count": 4,
   "metadata": {},
   "outputs": [
    {
     "name": "stdout",
     "output_type": "stream",
     "text": [
      "funm result may be inaccurate, approximate err = 1\n",
      "funm result may be inaccurate, approximate err = 1\n"
     ]
    }
   ],
   "source": [
    "# Calculate the exact FD distribution\n",
    "beta = 3\n",
    "num_steps = 10000\n",
    "dbeta = beta/num_steps\n",
    "\n",
    "exact_P = ovlp @ linalg.funm(inv_ovlp @ h1e, lambda _ : np.exp(-beta*(_ - dmm_mu))/(1+np.exp(-beta*(_ - dmm_mu))))\n",
    "dft_P = ovlp @ linalg.funm(inv_ovlp @ h1e, lambda _ : np.exp(-beta*(_ - dft_mu))/(1+np.exp(-beta*(_ - dft_mu))))"
   ]
  },
  {
   "cell_type": "code",
   "execution_count": 5,
   "metadata": {},
   "outputs": [],
   "source": [
    "# Perform GCP DMM method\n",
    "identity = np.eye(h1e.shape[0])\n",
    "dmm_gcp = gcp.rk4(gcp.rhs, ovlp/2, dbeta, h1e, inv_ovlp, identity, dmm_mu, num_steps)"
   ]
  },
  {
   "cell_type": "code",
   "execution_count": 11,
   "metadata": {},
   "outputs": [
    {
     "name": "stdout",
     "output_type": "stream",
     "text": [
      "funm result may be inaccurate, approximate err = 1\n",
      "6.6771428007492375\n",
      "6.189883315444456\n"
     ]
    }
   ],
   "source": [
    "# Perform CP DMM method\n",
    "init_mu = h1e.trace()/ovlp.trace()\n",
    "dmm_cp, cp_mu = cp.rk4(cp.rhs, num_electrons*ovlp/ovlp.trace(), dbeta, h1e, inv_ovlp, identity, num_steps, num_electrons, ovlp, init_mu, beta+0.0001)\n",
    "#cp_mu = cp.get_mu(dmm_cp, h1e, inv_ovlp, num_electrons, ovlp)\n",
    "cp_exact = 2*num_electrons*ovlp/ovlp.trace() @ linalg.funm(inv_ovlp @ h1e, lambda _ : np.exp(-beta*(_ - cp_mu))/(1+np.exp(-beta*(_ - cp_mu))))\n",
    "print(dmm_cp.trace())\n",
    "print(cp_exact.trace())"
   ]
  },
  {
   "cell_type": "code",
   "execution_count": 7,
   "metadata": {},
   "outputs": [
    {
     "data": {
      "text/plain": [
       "[<matplotlib.lines.Line2D at 0x7f7120747950>]"
      ]
     },
     "execution_count": 7,
     "metadata": {},
     "output_type": "execute_result"
    },
    {
     "data": {
      "image/png": "[encoded data removed]",
      "text/plain": [
       "<Figure size 432x288 with 1 Axes>"
      ]
     },
     "metadata": {
      "needs_background": "light"
     },
     "output_type": "display_data"
    }
   ],
   "source": [
    "eig = linalg.eigvalsh(inv_ovlp @ h1e, ovlp)\n",
    "plt.plot(eig, 'ks-')"
   ]
  },
  {
   "cell_type": "code",
   "execution_count": 8,
   "metadata": {},
   "outputs": [
    {
     "data": {
      "text/plain": [
       "[<matplotlib.lines.Line2D at 0x7f71206b5190>]"
      ]
     },
     "execution_count": 8,
     "metadata": {},
     "output_type": "execute_result"
    },
    {
     "data": {
      "image/png": "[encoded data removed]",
      "text/plain": [
       "<Figure size 432x288 with 1 Axes>"
      ]
     },
     "metadata": {
      "needs_background": "light"
     },
     "output_type": "display_data"
    }
   ],
   "source": [
    "test = (lambda _ : np.exp(-beta*(_ - dft_mu))/(1+np.exp(-beta*(_ - dft_mu))))(eig)\n",
    "plt.plot(test)"
   ]
  },
  {
   "cell_type": "code",
   "execution_count": 9,
   "metadata": {},
   "outputs": [
    {
     "data": {
      "text/plain": [
       "<matplotlib.legend.Legend at 0x7f71206dd9d0>"
      ]
     },
     "execution_count": 9,
     "metadata": {},
     "output_type": "execute_result"
    },
    {
     "data": {
      "image/png": "[encoded data removed]",
      "text/plain": [
       "<Figure size 432x288 with 1 Axes>"
      ]
     },
     "metadata": {
      "needs_background": "light"
     },
     "output_type": "display_data"
    }
   ],
   "source": [
    "# Plot the eigenvalue spectra of each\n",
    "plt.plot(linalg.eigvalsh(exact_P, ovlp), 'kx-', label=\"Exact by FD\")\n",
    "plt.plot(linalg.eigvalsh(dmm_gcp, ovlp), 'b--', label=\"Grand Can. DMM\")\n",
    "plt.legend(numpoints=1)"
   ]
  },
  {
   "cell_type": "code",
   "execution_count": 10,
   "metadata": {},
   "outputs": [
    {
     "data": {
      "text/plain": [
       "<matplotlib.legend.Legend at 0x7f71206a8610>"
      ]
     },
     "execution_count": 10,
     "metadata": {},
     "output_type": "execute_result"
    },
    {
     "data": {
      "image/png": "[encoded data removed]",
      "text/plain": [
       "<Figure size 432x288 with 1 Axes>"
      ]
     },
     "metadata": {
      "needs_background": "light"
     },
     "output_type": "display_data"
    }
   ],
   "source": [
    "plt.plot(linalg.eigvalsh(cp_exact, ovlp), 'kx-', label=\"Exact by FD\")\n",
    "plt.plot(linalg.eigvalsh(dmm_cp, ovlp), 'b--', label=\"Can. DMM\")\n",
    "plt.legend(numpoints=1)"
   ]
  },
  {
   "cell_type": "code",
   "execution_count": null,
   "metadata": {},
   "outputs": [],
   "source": []
  }
 ],
 "metadata": {
  "kernelspec": {
   "display_name": "Python 3",
   "language": "python",
   "name": "python3"
  },
  "language_info": {
   "codemirror_mode": {
    "name": "ipython",
    "version": 3
   },
   "file_extension": ".py",
   "mimetype": "text/x-python",
   "name": "python",
   "nbconvert_exporter": "python",
   "pygments_lexer": "ipython3",
   "version": "3.7.6"
  }
 },
 "nbformat": 4,
 "nbformat_minor": 4
}
