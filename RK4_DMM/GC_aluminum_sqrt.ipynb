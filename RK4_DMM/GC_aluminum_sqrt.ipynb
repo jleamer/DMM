{
 "cells": [
  {
   "cell_type": "code",
   "execution_count": 1,
   "metadata": {},
   "outputs": [],
   "source": [
    "import numpy as np\n",
    "from numba import njit\n",
    "from scipy import sparse, linalg\n",
    "from scipy.io import mmread, mmwrite\n",
    "from adaptive_step_dmm import CAdaptiveDMM\n",
    "from adaptive_step_DMM_sqrt import CAdaptiveDMMsqrt\n",
    "from adaptive_GC import CAdaptive_GC_RK4\n",
    "from adaptive_GC_sqrt import CAdaptive_GC_RK4_sqrt\n",
    "import matplotlib.pyplot as plt\n",
    "import time"
   ]
  },
  {
   "cell_type": "code",
   "execution_count": 2,
   "metadata": {},
   "outputs": [],
   "source": [
    "# Set font size of plot elements\n",
    "SMALL_SIZE = 12\n",
    "MEDIUM_SIZE = 14\n",
    "BIGGER_SIZE = 18\n",
    "\n",
    "plt.rc('font', size=SMALL_SIZE)          # controls default text sizes\n",
    "plt.rc('axes', titlesize=SMALL_SIZE)     # fontsize of the axes title\n",
    "plt.rc('axes', labelsize=MEDIUM_SIZE)    # fontsize of the x and y labels\n",
    "plt.rc('xtick', labelsize=SMALL_SIZE)    # fontsize of the tick labels\n",
    "plt.rc('ytick', labelsize=SMALL_SIZE)    # fontsize of the tick labels\n",
    "plt.rc('legend', fontsize=SMALL_SIZE)    # legend fontsize\n",
    "plt.rc('figure', titlesize=BIGGER_SIZE)  # fontsize of the figure title"
   ]
  },
  {
   "cell_type": "code",
   "execution_count": 3,
   "metadata": {},
   "outputs": [],
   "source": [
    "def get_exact(H, S, num_electrons, beta, mu):\n",
    "    inv_S = linalg.inv(S)\n",
    "    return S @ linalg.funm(inv_S @ H,\n",
    "                lambda _: np.exp(-beta * (_ - mu)) / (1 + np.exp(-beta * (_ - mu))))"
   ]
  },
  {
   "cell_type": "code",
   "execution_count": 4,
   "metadata": {},
   "outputs": [],
   "source": [
    "def plot_results_fd_vs_gc(num_electrons, fd, gc):\n",
    "    H = gc.H\n",
    "    S = gc.ovlp\n",
    "    \n",
    "    # Plot final eigenvalue spectra of the exact solution and our methods results\n",
    "    fignum = 1\n",
    "    plt.figure(fignum)\n",
    "    #plt.title(\"Populations - \" + str(num_electrons) + \" electrons\")\n",
    "    plt.plot(linalg.eigvalsh(H, S), linalg.eigvalsh(fd, S)[::-1], 'ks-', label=\"Exact by FD\")\n",
    "    plt.plot(linalg.eigvalsh(H, S), linalg.eigvalsh(gc.rho, S)[::-1], 'r^-', \n",
    "             label=\"Grand Can. WOM\")\n",
    "    #plt.xlabel(\"Energy\")\n",
    "    plt.ylabel(\"Population\")\n",
    "    plt.legend(numpoints=1)\n",
    "    plt.savefig(\"larger_matrices/sqrt_figs/GC/\" + str(num_electrons) + \"/rk2_GC_pop.png\", format='png', dpi=300)\n",
    "    print(gc.beta)\n",
    "    \n",
    "    # Plot increments of dbeta that our method took\n",
    "    fignum += 1\n",
    "    plt.figure(fignum)\n",
    "    plt.title(\"Variable step method in action - \" + str(num_electrons) + \"electrons\")\n",
    "    plt.plot(gc.beta_increments, '*-')\n",
    "    plt.xlabel('steps')\n",
    "    plt.ylabel('dbeta')\n",
    "    plt.savefig(\"larger_matrices/sqrt_figs/GC/\" + str(num_electrons) + \"/GC_dbeta_inc.png\", format='png', dpi=300)\n",
    "    \n",
    "    # Plot number of electrons\n",
    "    fignum += 1\n",
    "    plt.figure(fignum)\n",
    "    plt.title(\"Change in number of electrons - \" + str(num_electrons) + \" electrons\")\n",
    "    plt.plot(gc.num_electron_list, '*-')\n",
    "    plt.xlabel(\"steps\")\n",
    "    plt.ylabel(\"num_electrons\")\n",
    "    plt.savefig(\"larger_matrices/sqrt_figs/GC/\" + str(num_electrons) + \"/GC_num_electrons.png\", format='png', dpi=300)\n",
    "    \n",
    "    # Plot chemical potential\n",
    "    fignum += 1\n",
    "    plt.figure(fignum)\n",
    "    plt.title(\"Change in chemical potential - \" + str(num_electrons) + \" electrons\")\n",
    "    plt.plot(gc.mu_list, '*-')\n",
    "    plt.xlabel(\"steps\")\n",
    "    plt.ylabel(\"mu\")\n",
    "    plt.savefig(\"larger_matrices/sqrt_figs/GC/\" + str(num_electrons) + \"/GC_chem_pot.png\", format='png', dpi=300)\n",
    "\n",
    "    # Check beta vs step size\n",
    "    beta_vals = np.cumsum(gc.beta_increments)\n",
    "    fignum += 1\n",
    "    plt.figure(fignum)\n",
    "    plt.plot(gc.beta_increments, beta_vals)\n",
    "    plt.xlabel(\"dbeta\")\n",
    "    plt.ylabel(\"beta\")\n",
    "    plt.title(\"beta vs step size - \" + str(num_electrons) + \" electrons\")\n",
    "    plt.savefig(\"larger_matrices/sqrt_figs/GC/\" + str(num_electrons) + \"/GC_beta_vs_stepsize.png\", format='png', dpi=300)\n",
    "    \n",
    "    # Plot energy values\n",
    "    fignum += 1\n",
    "    plt.figure(fignum)\n",
    "    plt.title(\"Energy values vs temp - \" + str(num_electrons) + \" electrons\")\n",
    "    plt.plot(beta_vals, (gc.energy_vals - min(gc.energy_vals))[:-1])\n",
    "    plt.xlabel(\"beta\")\n",
    "    plt.ylabel(\"E(beta) - min(E)\")\n",
    "    plt.savefig(\"larger_matrices/sqrt_figs/GC/\" + str(num_electrons) + \"/GC_energy_vs_beta.png\", format='png', dpi=300)\n",
    "    \n",
    "    # Plot energy values\n",
    "    fignum += 1\n",
    "    plt.figure(fignum)\n",
    "    plt.title(\"Energy values vs steps - \" + str(num_electrons) + \" electrons\")\n",
    "    plt.semilogy((gc.energy_vals - min(gc.energy_vals))[:-1])\n",
    "    plt.xlabel(\"steps\")\n",
    "    plt.ylabel(\"E(step) - E.min\")\n",
    "    plt.savefig(\"larger_matrices/sqrt_figs/GC/\" + str(num_electrons) + \"/GC_energy_vs_steps.png\", format='png', dpi=300)"
   ]
  },
  {
   "cell_type": "code",
   "execution_count": 5,
   "metadata": {},
   "outputs": [],
   "source": [
    "# Define path for matrices\n",
    "matrices_path = \"larger_matrices/\""
   ]
  },
  {
   "cell_type": "markdown",
   "metadata": {},
   "source": [
    "### 32 electrons"
   ]
  },
  {
   "cell_type": "code",
   "execution_count": 6,
   "metadata": {},
   "outputs": [],
   "source": [
    "# Define path to H and S matrices\n",
    "H_16 = mmread(matrices_path + \"16_H.mtx\").toarray()\n",
    "S_16 = mmread(matrices_path + \"16_S.mtx\").toarray()\n",
    "\n",
    "# We need the eigenvalues and eigenvectors for H\n",
    "E, V = linalg.eigh(H_16, S_16)\n",
    "\n",
    "# Define num_electrons and beta\n",
    "num_electrons = 32\n",
    "beta = 100\n",
    "dbeta = 0.13\n",
    "\n",
    "# Define chemical potential\n",
    "core_spec = linalg.eigvalsh(H_16, S_16)\n",
    "index = int(num_electrons / 2)\n",
    "mu = (core_spec[index] + core_spec[index - 1]) / 2"
   ]
  },
  {
   "cell_type": "code",
   "execution_count": 7,
   "metadata": {},
   "outputs": [
    {
     "data": {
      "text/plain": [
       "True"
      ]
     },
     "execution_count": 7,
     "metadata": {},
     "output_type": "execute_result"
    }
   ],
   "source": [
    "np.allclose(H_16 @ V[:, 1], E[1] * S_16 @ V[:, 1])"
   ]
  },
  {
   "cell_type": "code",
   "execution_count": 8,
   "metadata": {},
   "outputs": [
    {
     "name": "stdout",
     "output_type": "stream",
     "text": [
      "=========================\n",
      "=========================\n",
      "=========================\n",
      "=========================\n",
      "=========================\n",
      "=========================\n",
      "=========================\n",
      "=========================\n",
      "=========================\n",
      "=========================\n",
      "=========================\n",
      "=========================\n",
      "=========================\n",
      "=========================\n",
      "=========================\n",
      "=========================\n",
      "=========================\n",
      "=========================\n",
      "=========================\n",
      "=========================\n",
      "=========================\n",
      "=========================\n",
      "=========================\n",
      "=========================\n",
      "=========================\n",
      "=========================\n",
      "=========================\n",
      "=========================\n",
      "=========================\n",
      "=========================\n",
      "=========================\n",
      "=========================\n",
      "=========================\n",
      "=========================\n",
      "=========================\n",
      "=========================\n",
      "=========================\n",
      "=========================\n",
      "=========================\n",
      "=========================\n",
      "=========================\n",
      "=========================\n",
      "=========================\n",
      "=========================\n",
      "=========================\n",
      "=========================\n",
      "=========================\n",
      "=========================\n",
      "=========================\n",
      "=========================\n",
      "=========================\n",
      "Energy_next > energy\n",
      "funm result may be inaccurate, approximate err = 1\n"
     ]
    }
   ],
   "source": [
    "sqrt_gc_16 = CAdaptive_GC_RK4_sqrt(ovlp=S_16, H=H_16, \n",
    "                                   dbeta=dbeta, epsilon=1e-2, mu=mu)\n",
    "sqrt_gc_16.propagate(beta)\n",
    "ferm_exact_16 = get_exact(H_16, S_16, num_electrons, sqrt_gc_16.beta, sqrt_gc_16.mu)"
   ]
  },
  {
   "cell_type": "code",
   "execution_count": 9,
   "metadata": {},
   "outputs": [
    {
     "name": "stdout",
     "output_type": "stream",
     "text": [
      "7.813067977552853\n"
     ]
    },
    {
     "name": "stderr",
     "output_type": "stream",
     "text": [
      "/home/jacob/anaconda3/lib/python3.7/site-packages/numpy/core/_asarray.py:85: ComplexWarning: Casting complex values to real discards the imaginary part\n",
      "  return array(a, dtype, copy=False, order=order)\n",
      "/home/jacob/anaconda3/lib/python3.7/site-packages/numpy/core/_asarray.py:85: ComplexWarning: Casting complex values to real discards the imaginary part\n",
      "  return array(a, dtype, copy=False, order=order)\n",
      "/home/jacob/anaconda3/lib/python3.7/site-packages/numpy/core/_asarray.py:85: ComplexWarning: Casting complex values to real discards the imaginary part\n",
      "  return array(a, dtype, copy=False, order=order)\n"
     ]
    },
    {
     "data": {
      "image/png": "[encoded data removed]",
      "text/plain": [
       "<Figure size 432x288 with 1 Axes>"
      ]
     },
     "metadata": {
      "needs_background": "light"
     },
     "output_type": "display_data"
    },
    {
     "data": {
      "image/png": "[encoded data removed]",
      "text/plain": [
       "<Figure size 432x288 with 1 Axes>"
      ]
     },
     "metadata": {
      "needs_background": "light"
     },
     "output_type": "display_data"
    },
    {
     "data": {
      "image/png": "[encoded data removed]",
      "text/plain": [
       "<Figure size 432x288 with 1 Axes>"
      ]
     },
     "metadata": {
      "needs_background": "light"
     },
     "output_type": "display_data"
    },
    {
     "data": {
      "image/png": "[encoded data removed]",
      "text/plain": [
       "<Figure size 432x288 with 1 Axes>"
      ]
     },
     "metadata": {
      "needs_background": "light"
     },
     "output_type": "display_data"
    },
    {
     "data": {
      "image/png": "[encoded data removed]",
      "text/plain": [
       "<Figure size 432x288 with 1 Axes>"
      ]
     },
     "metadata": {
      "needs_background": "light"
     },
     "output_type": "display_data"
    },
    {
     "data": {
      "image/png": "[encoded data removed]",
      "text/plain": [
       "<Figure size 432x288 with 1 Axes>"
      ]
     },
     "metadata": {
      "needs_background": "light"
     },
     "output_type": "display_data"
    },
    {
     "data": {
      "image/png": "[encoded data removed]",
      "text/plain": [
       "<Figure size 432x288 with 1 Axes>"
      ]
     },
     "metadata": {
      "needs_background": "light"
     },
     "output_type": "display_data"
    }
   ],
   "source": [
    "plot_results_fd_vs_gc(num_electrons, ferm_exact_16, sqrt_gc_16)"
   ]
  },
  {
   "cell_type": "code",
   "execution_count": 10,
   "metadata": {},
   "outputs": [
    {
     "name": "stdout",
     "output_type": "stream",
     "text": [
      "=========================\n",
      "=========================\n",
      "=========================\n",
      "=========================\n",
      "=========================\n",
      "=========================\n",
      "=========================\n",
      "=========================\n",
      "=========================\n",
      "=========================\n",
      "=========================\n",
      "=========================\n",
      "=========================\n",
      "=========================\n",
      "=========================\n",
      "=========================\n",
      "=========================\n",
      "=========================\n",
      "=========================\n",
      "=========================\n",
      "=========================\n",
      "=========================\n",
      "=========================\n",
      "=========================\n",
      "=========================\n",
      "=========================\n",
      "=========================\n",
      "=========================\n",
      "=========================\n",
      "=========================\n",
      "=========================\n",
      "=========================\n",
      "=========================\n",
      "=========================\n",
      "=========================\n",
      "=========================\n",
      "=========================\n",
      "=========================\n",
      "=========================\n",
      "=========================\n",
      "=========================\n",
      "=========================\n",
      "=========================\n",
      "=========================\n",
      "=========================\n",
      "=========================\n",
      "=========================\n",
      "=========================\n",
      "=========================\n",
      "=========================\n",
      "=========================\n",
      "=========================\n",
      "=========================\n",
      "=========================\n",
      "=========================\n",
      "=========================\n",
      "=========================\n",
      "=========================\n",
      "=========================\n",
      "=========================\n",
      "=========================\n",
      "=========================\n",
      "=========================\n",
      "=========================\n"
     ]
    },
    {
     "data": {
      "text/plain": [
       "array([[ 6.38507174e-01+0.j,  4.22458522e-17+0.j, -2.09854748e-16+0.j,\n",
       "        ...,  1.32098338e-02+0.j,  3.49414177e-02+0.j,\n",
       "        -1.47962226e-16+0.j],\n",
       "       [ 2.62099013e-17+0.j,  7.20610267e-01+0.j,  9.81654297e-17+0.j,\n",
       "        ...,  2.93064220e-02+0.j,  3.87888670e-02+0.j,\n",
       "         2.12877806e-02+0.j],\n",
       "       [-2.55870226e-16+0.j,  1.23473066e-18+0.j,  7.21632199e-01+0.j,\n",
       "        ..., -7.79521300e-03+0.j,  3.83179451e-02+0.j,\n",
       "        -1.80593193e-16+0.j],\n",
       "       ...,\n",
       "       [ 1.32098338e-02+0.j,  2.93064220e-02+0.j, -7.79521300e-03+0.j,\n",
       "        ...,  7.22123694e-01+0.j, -4.86590752e-17+0.j,\n",
       "         1.25663018e-16+0.j],\n",
       "       [ 3.49414177e-02+0.j,  3.87888670e-02+0.j,  3.83179451e-02+0.j,\n",
       "        ..., -1.25163346e-16+0.j,  7.66126202e-01+0.j,\n",
       "         2.12827886e-16+0.j],\n",
       "       [-5.35412322e-17+0.j,  2.12877806e-02+0.j, -1.20963906e-16+0.j,\n",
       "        ...,  6.73836638e-17+0.j,  1.55221273e-16+0.j,\n",
       "         7.39296838e-01+0.j]])"
      ]
     },
     "execution_count": 10,
     "metadata": {},
     "output_type": "execute_result"
    }
   ],
   "source": [
    "# We want to confirm that our method is able to go forwards and backwards\n",
    "test_gc = CAdaptive_GC_RK4_sqrt(ovlp=S_16, H=H_16, rho=sqrt_gc_16.rho, \n",
    "                                omega=sqrt_gc_16.omega,\n",
    "                               dbeta=-dbeta, epsilon=1e-2, mu=mu, beta=sqrt_gc_16.beta)\n",
    "beta_final = sqrt_gc_16.beta - 10\n",
    "test_gc.back_propagate(beta_final)"
   ]
  },
  {
   "cell_type": "code",
   "execution_count": 11,
   "metadata": {},
   "outputs": [
    {
     "name": "stdout",
     "output_type": "stream",
     "text": [
      "=========================\n",
      "=========================\n",
      "=========================\n",
      "=========================\n",
      "=========================\n",
      "=========================\n",
      "=========================\n",
      "=========================\n",
      "=========================\n",
      "=========================\n",
      "=========================\n",
      "=========================\n",
      "=========================\n",
      "=========================\n",
      "=========================\n",
      "=========================\n",
      "=========================\n",
      "=========================\n",
      "=========================\n",
      "=========================\n",
      "=========================\n",
      "=========================\n",
      "=========================\n",
      "=========================\n",
      "=========================\n",
      "=========================\n",
      "=========================\n",
      "=========================\n",
      "=========================\n",
      "=========================\n",
      "=========================\n",
      "=========================\n",
      "=========================\n",
      "=========================\n",
      "=========================\n",
      "=========================\n",
      "=========================\n",
      "=========================\n",
      "=========================\n",
      "=========================\n",
      "=========================\n",
      "=========================\n",
      "=========================\n",
      "=========================\n",
      "=========================\n",
      "=========================\n",
      "=========================\n",
      "=========================\n",
      "=========================\n",
      "=========================\n",
      "=========================\n",
      "=========================\n",
      "=========================\n",
      "=========================\n",
      "=========================\n",
      "=========================\n",
      "=========================\n",
      "=========================\n",
      "=========================\n",
      "=========================\n",
      "=========================\n",
      "=========================\n",
      "=========================\n",
      "=========================\n",
      "=========================\n",
      "Energy_next > energy\n"
     ]
    },
    {
     "data": {
      "text/plain": [
       "7.997131518723491"
      ]
     },
     "execution_count": 11,
     "metadata": {},
     "output_type": "execute_result"
    }
   ],
   "source": [
    "test_gc.dbeta = -test_gc.dbeta\n",
    "test_gc.previous_dbeta = 0\n",
    "beta = 100\n",
    "test_gc.propagate(beta)\n",
    "test_gc.beta"
   ]
  },
  {
   "cell_type": "code",
   "execution_count": 12,
   "metadata": {},
   "outputs": [
    {
     "data": {
      "text/plain": [
       "<matplotlib.legend.Legend at 0x7f8012cd6190>"
      ]
     },
     "execution_count": 12,
     "metadata": {},
     "output_type": "execute_result"
    },
    {
     "data": {
      "image/png": "[encoded data removed]",
      "text/plain": [
       "<Figure size 432x288 with 1 Axes>"
      ]
     },
     "metadata": {
      "needs_background": "light"
     },
     "output_type": "display_data"
    }
   ],
   "source": [
    "plt.plot(E, linalg.eigvalsh(test_gc.rho, S_16)[::-1],\n",
    "         'x-', label='After 2nd propagation')\n",
    "plt.plot(E, linalg.eigvalsh(ferm_exact_16, S_16)[::-1], '--', label='Exact')\n",
    "plt.legend(numpoints=1)"
   ]
  },
  {
   "cell_type": "code",
   "execution_count": 13,
   "metadata": {},
   "outputs": [
    {
     "data": {
      "text/plain": [
       "[<matplotlib.lines.Line2D at 0x7f8014b90550>]"
      ]
     },
     "execution_count": 13,
     "metadata": {},
     "output_type": "execute_result"
    },
    {
     "data": {
      "image/png": "[encoded data removed]",
      "text/plain": [
       "<Figure size 432x288 with 1 Axes>"
      ]
     },
     "metadata": {
      "needs_background": "light"
     },
     "output_type": "display_data"
    }
   ],
   "source": [
    "# Now we want to check what happens when we start at the ground state and \n",
    "# increase the temperature a bit\n",
    "inv_V = linalg.inv(V)\n",
    "diag_H = np.diag(E)\n",
    "inv_S_16 = linalg.inv(S_16)\n",
    "beta = 150\n",
    "x = V @ diag_H @ inv_V\n",
    "#test_P = S_16 @ V @ linalg.funm(diag_H,\n",
    "#                lambda _: 1 / (1 + np.exp(beta * (_ - mu)))) @ inv_V\n",
    "test_P = S_16 @ V @ np.diag(E < E[6])  @ inv_V\n",
    "plt.plot(E, linalg.eigvalsh(test_P, S_16)[::-1], 's-')"
   ]
  },
  {
   "cell_type": "code",
   "execution_count": 14,
   "metadata": {},
   "outputs": [
    {
     "data": {
      "text/plain": [
       "14.846667280504708"
      ]
     },
     "execution_count": 14,
     "metadata": {},
     "output_type": "execute_result"
    }
   ],
   "source": [
    "np.trace(test_P)"
   ]
  },
  {
   "cell_type": "code",
   "execution_count": 15,
   "metadata": {
    "scrolled": true
   },
   "outputs": [
    {
     "name": "stdout",
     "output_type": "stream",
     "text": [
      "=========================\n"
     ]
    },
    {
     "ename": "ZeroDivisionError",
     "evalue": "float division by zero",
     "output_type": "error",
     "traceback": [
      "\u001b[0;31m---------------------------------------------------------------------------\u001b[0m",
      "\u001b[0;31mZeroDivisionError\u001b[0m                         Traceback (most recent call last)",
      "\u001b[0;32m<ipython-input-15-21fe08df1c16>\u001b[0m in \u001b[0;36m<module>\u001b[0;34m\u001b[0m\n\u001b[1;32m      3\u001b[0m                                 \u001b[0momega\u001b[0m\u001b[0;34m=\u001b[0m\u001b[0mlinalg\u001b[0m\u001b[0;34m.\u001b[0m\u001b[0msqrtm\u001b[0m\u001b[0;34m(\u001b[0m\u001b[0mtest_P\u001b[0m\u001b[0;34m)\u001b[0m\u001b[0;34m,\u001b[0m\u001b[0;34m\u001b[0m\u001b[0;34m\u001b[0m\u001b[0m\n\u001b[1;32m      4\u001b[0m                                dbeta=-dbeta, epsilon=1e-2, mu=mu, beta=beta)\n\u001b[0;32m----> 5\u001b[0;31m \u001b[0mgs_gc_16\u001b[0m\u001b[0;34m.\u001b[0m\u001b[0mback_propagate\u001b[0m\u001b[0;34m(\u001b[0m\u001b[0mbeta\u001b[0m \u001b[0;34m-\u001b[0m \u001b[0;36m25\u001b[0m\u001b[0;34m)\u001b[0m\u001b[0;34m\u001b[0m\u001b[0;34m\u001b[0m\u001b[0m\n\u001b[0m",
      "\u001b[0;32m~/PycharmProjects/DMM/RK4_DMM/adaptive_step_DMM_sqrt.py\u001b[0m in \u001b[0;36mback_propagate\u001b[0;34m(self, beta_final)\u001b[0m\n\u001b[1;32m    246\u001b[0m             \u001b[0;31m# the adaptive time stepping method from\u001b[0m\u001b[0;34m\u001b[0m\u001b[0;34m\u001b[0m\u001b[0;34m\u001b[0m\u001b[0m\n\u001b[1;32m    247\u001b[0m             \u001b[0;31m#   https://linkinghub.elsevier.com/retrieve/pii/S0377042705001123\u001b[0m\u001b[0;34m\u001b[0m\u001b[0;34m\u001b[0m\u001b[0;34m\u001b[0m\u001b[0m\n\u001b[0;32m--> 248\u001b[0;31m             \u001b[0mself\u001b[0m\u001b[0;34m.\u001b[0m\u001b[0mdbeta\u001b[0m \u001b[0;34m*=\u001b[0m \u001b[0;34m(\u001b[0m\u001b[0mself\u001b[0m\u001b[0;34m.\u001b[0m\u001b[0mepsilon\u001b[0m \u001b[0;34m**\u001b[0m \u001b[0;36m2\u001b[0m \u001b[0;34m/\u001b[0m \u001b[0me_n\u001b[0m \u001b[0;34m/\u001b[0m \u001b[0me_n_1\u001b[0m \u001b[0;34m*\u001b[0m \u001b[0mprevious_dbeta\u001b[0m \u001b[0;34m/\u001b[0m \u001b[0mself\u001b[0m\u001b[0;34m.\u001b[0m\u001b[0mdbeta\u001b[0m\u001b[0;34m)\u001b[0m \u001b[0;34m**\u001b[0m \u001b[0;34m(\u001b[0m\u001b[0;36m1\u001b[0m \u001b[0;34m/\u001b[0m \u001b[0;36m12.\u001b[0m\u001b[0;34m)\u001b[0m\u001b[0;34m\u001b[0m\u001b[0;34m\u001b[0m\u001b[0m\n\u001b[0m\u001b[1;32m    249\u001b[0m \u001b[0;34m\u001b[0m\u001b[0m\n\u001b[1;32m    250\u001b[0m             \u001b[0;31m# update the error estimates in order to go next to the next step\u001b[0m\u001b[0;34m\u001b[0m\u001b[0;34m\u001b[0m\u001b[0;34m\u001b[0m\u001b[0m\n",
      "\u001b[0;31mZeroDivisionError\u001b[0m: float division by zero"
     ]
    }
   ],
   "source": [
    "# Now create a case starting at the point beta=150\n",
    "gs_gc_16 = CAdaptive_GC_RK4_sqrt(ovlp=S_16, H=H_16, rho=test_P, \n",
    "                                omega=linalg.sqrtm(test_P),\n",
    "                               dbeta=-dbeta, epsilon=1e-2, mu=mu, beta=beta)\n",
    "gs_gc_16.back_propagate(beta - 25)"
   ]
  },
  {
   "cell_type": "code",
   "execution_count": null,
   "metadata": {},
   "outputs": [],
   "source": [
    "plt.plot(E, linalg.eigvalsh(gs_gc_16.rho, S_16)[::-1])\n",
    "plt.title(\"From $\\\\beta=150$ to $\\\\beta=125$\")"
   ]
  },
  {
   "cell_type": "code",
   "execution_count": null,
   "metadata": {},
   "outputs": [],
   "source": []
  },
  {
   "cell_type": "code",
   "execution_count": null,
   "metadata": {
    "scrolled": true
   },
   "outputs": [],
   "source": [
    "gs_gc_16.dbeta *= -1\n",
    "gs_gc_16.previous_dbeta = 0\n",
    "gs_gc_16.propagate(beta)"
   ]
  },
  {
   "cell_type": "code",
   "execution_count": null,
   "metadata": {},
   "outputs": [],
   "source": [
    "plt.plot(E, linalg.eigvalsh(ferm_exact_16, S_16)[::-1], 's-', label='Exact')\n",
    "plt.plot(E, linalg.eigvalsh(gs_gc_16.rho, S_16)[::-1], 'x-', label='Reiterating')\n",
    "plt.title(\"From $\\\\beta=125$ to $\\\\beta=150$\")\n",
    "plt.legend(numpoints=1)"
   ]
  },
  {
   "cell_type": "markdown",
   "metadata": {},
   "source": [
    "### 108 electrons"
   ]
  },
  {
   "cell_type": "code",
   "execution_count": null,
   "metadata": {},
   "outputs": [],
   "source": [
    "# Define path to H and S matrices\n",
    "H_54 = mmread(matrices_path + \"54_H.mtx\").toarray()\n",
    "S_54 = mmread(matrices_path + \"54_S.mtx\").toarray()\n",
    "\n",
    "# Define num_electrons and beta\n",
    "num_electrons = 108\n",
    "beta = 100\n",
    "dbeta = 0.13\n",
    "\n",
    "# Define chemical potential\n",
    "core_spec = linalg.eigvalsh(H_54, S_54)\n",
    "index = int(num_electrons / 2)\n",
    "mu = (core_spec[index] + core_spec[index - 1]) / 2"
   ]
  },
  {
   "cell_type": "code",
   "execution_count": null,
   "metadata": {},
   "outputs": [],
   "source": [
    "sqrt_gc_54 = CAdaptive_GC_RK4_sqrt(ovlp=S_54, H=H_54,\n",
    "                                   dbeta=dbeta, epsilon=1e-2, mu=mu)\n",
    "sqrt_gc_54.propagate(beta)\n",
    "ferm_exact_54 = get_exact(H_54, S_54, num_electrons, sqrt_gc_54.beta, sqrt_gc_54.mu)"
   ]
  },
  {
   "cell_type": "code",
   "execution_count": null,
   "metadata": {},
   "outputs": [],
   "source": [
    "plot_results_fd_vs_gc(num_electrons, ferm_exact_54, sqrt_gc_54)"
   ]
  },
  {
   "cell_type": "code",
   "execution_count": null,
   "metadata": {},
   "outputs": [],
   "source": [
    "print(sqrt_gc_16.beta_increments[0])\n",
    "print(sqrt_gc_54.beta_increments[0])"
   ]
  },
  {
   "cell_type": "markdown",
   "metadata": {},
   "source": [
    "### 256 electrons"
   ]
  },
  {
   "cell_type": "code",
   "execution_count": null,
   "metadata": {},
   "outputs": [],
   "source": [
    "# Define path to H and S matrices\n",
    "H_128 = mmread(matrices_path + \"128_H.mtx\").toarray()\n",
    "S_128 = mmread(matrices_path + \"128_S.mtx\").toarray()\n",
    "\n",
    "# Define num_electrons and beta\n",
    "num_electrons = 256\n",
    "beta = 100\n",
    "dbeta = beta / 10000\n",
    "\n",
    "# Define chemical potential\n",
    "core_spec = linalg.eigvalsh(H_128, S_128)\n",
    "index = int(num_electrons / 2)\n",
    "mu = (core_spec[index] + core_spec[index - 1]) / 2"
   ]
  },
  {
   "cell_type": "code",
   "execution_count": null,
   "metadata": {},
   "outputs": [],
   "source": [
    "sqrt_gc_128 = CAdaptive_GC_RK4_sqrt(ovlp=S_128, H=H_128,\n",
    "                                    dbeta=dbeta, epsilon=1e-2, mu=mu)\n",
    "sqrt_gc_128.propagate(beta)\n",
    "ferm_exact_128 = get_exact(H_128, S_128, num_electrons, sqrt_gc_128.beta, sqrt_gc_128.mu)"
   ]
  },
  {
   "cell_type": "code",
   "execution_count": null,
   "metadata": {},
   "outputs": [],
   "source": [
    "plot_results_fd_vs_gc(num_electrons, ferm_exact_128, sqrt_gc_128)"
   ]
  },
  {
   "cell_type": "markdown",
   "metadata": {},
   "source": [
    "### 500 electrons"
   ]
  },
  {
   "cell_type": "code",
   "execution_count": null,
   "metadata": {},
   "outputs": [],
   "source": [
    "# Define path to H and S matrices\n",
    "H_250 = mmread(matrices_path + \"250_H.mtx\").toarray()\n",
    "S_250 = mmread(matrices_path + \"250_S.mtx\").toarray()\n",
    "\n",
    "# Define num_electrons and beta\n",
    "num_electrons = 500\n",
    "beta = 100\n",
    "dbeta = beta / 10000\n",
    "\n",
    "# Define chemical potential\n",
    "core_spec = linalg.eigvalsh(H_250, S_250)\n",
    "index = int(num_electrons / 2)\n",
    "mu = (core_spec[index] + core_spec[index - 1]) / 2"
   ]
  },
  {
   "cell_type": "code",
   "execution_count": null,
   "metadata": {},
   "outputs": [],
   "source": [
    "sqrt_gc_250 = CAdaptive_GC_RK4_sqrt(ovlp=S_250, H=H_250,\n",
    "                                    dbeta=dbeta, epsilon=1e-2, mu=mu)\n",
    "sqrt_gc_250.propagate(beta)\n",
    "ferm_exact_250 = get_exact(H_250, S_250, num_electrons, sqrt_gc_250.beta, sqrt_gc_250.mu)"
   ]
  },
  {
   "cell_type": "code",
   "execution_count": null,
   "metadata": {},
   "outputs": [],
   "source": [
    "plot_results_fd_vs_gc(num_electrons, ferm_exact_250, sqrt_gc_250)"
   ]
  },
  {
   "cell_type": "markdown",
   "metadata": {},
   "source": [
    "### Comparison"
   ]
  },
  {
   "cell_type": "code",
   "execution_count": null,
   "metadata": {},
   "outputs": [],
   "source": [
    "x = [1, 2, 3, 4]\n",
    "y = [len(sqrt_gc_16.energy_vals), len(sqrt_gc_54.energy_vals), len(sqrt_gc_128.energy_vals), \\\n",
    "     len(sqrt_gc_250.energy_vals)]\n",
    "ax = plt.subplot()\n",
    "ax.bar(x, y, color='maroon')\n",
    "ax.set_ylabel(\"Number of Steps\")\n",
    "ax.set_xticklabels(['16', '54', '128', '250'])\n",
    "ax.set_xticks(x)\n",
    "#ax.set_xlabel(\"Num atoms\")\n",
    "#plt.title(\"GC Steps vs Num Atoms\")\n",
    "plt.savefig(\"larger_matrices/sqrt_figs/GC/gc_steps_vs_size.png\", format='png', dpi=300)"
   ]
  },
  {
   "cell_type": "code",
   "execution_count": null,
   "metadata": {},
   "outputs": [],
   "source": []
  }
 ],
 "metadata": {
  "kernelspec": {
   "display_name": "Python 3",
   "language": "python",
   "name": "python3"
  },
  "language_info": {
   "codemirror_mode": {
    "name": "ipython",
    "version": 3
   },
   "file_extension": ".py",
   "mimetype": "text/x-python",
   "name": "python",
   "nbconvert_exporter": "python",
   "pygments_lexer": "ipython3",
   "version": "3.7.6"
  }
 },
 "nbformat": 4,
 "nbformat_minor": 4
}
