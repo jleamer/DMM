{
 "cells": [
  {
   "cell_type": "code",
   "execution_count": 1,
   "metadata": {},
   "outputs": [],
   "source": [
    "# import standard libraries\n",
    "import numpy as np\n",
    "from scipy.io import mmread, mmwrite\n",
    "from scipy import linalg\n",
    "from scipy import sparse\n",
    "from scipy.integrate import ode\n",
    "from numba import njit\n",
    "import matplotlib.pyplot as plt\n",
    "from pyscf import gto, dft\n",
    "import numpy.ma as ma\n",
    "\n",
    "# import methods for solving from other files\n",
    "import dmm_gcp as gcp\n",
    "import dmm_cp as cp\n",
    "import palser as pals\n",
    "import ntpoly as nt\n",
    "\n",
    "# Note: using np.sum(A * B.T) for matrices A, B is equivalent to Trace(A^dag B)"
   ]
  },
  {
   "cell_type": "code",
   "execution_count": 2,
   "metadata": {},
   "outputs": [
    {
     "name": "stdout",
     "output_type": "stream",
     "text": [
      "converged SCF energy = -100.291327706251\n",
      "TODO: total wave-function symmetry for Coov\n",
      "occupancy for each irrep:     A1  E1x  E1y\n",
      "                               3    1    1\n",
      "**** MO energy ****\n",
      "MO #1 (A1 #1), energy= -24.2331671128069 occ= 2\n",
      "MO #2 (A1 #2), energy= -1.0272972299461 occ= 2\n",
      "MO #3 (A1 #3), energy= -0.426131190105552 occ= 2\n",
      "MO #4 (E1x #1), energy= -0.289938520612844 occ= 2\n",
      "MO #5 (E1y #1), energy= -0.289938520612845 occ= 2\n",
      "MO #6 (A1 #4), energy= -0.0349559135896415 occ= 0\n",
      "MO #7 (A1 #5), energy= 0.664675049298747 occ= 0\n",
      "MO #8 (E1x #2), energy= 1.1305709354121 occ= 0\n",
      "MO #9 (E1y #2), energy= 1.1305709354121 occ= 0\n",
      "MO #10 (A1 #6), energy= 1.24759809513673 occ= 0\n",
      "MO #11 (A1 #7), energy= 1.57280313485609 occ= 0\n",
      " ** Mulliken atomic charges  **\n",
      "charge of  0H =      0.35670\n",
      "charge of  1F =     -0.35670\n",
      "Dipole moment(X, Y, Z, Debye):  0.00000,  0.00000, -2.17040\n",
      "Total dft energy: -100.29132770625061\n",
      "Chemical Potential:  -0.16244721710124305\n",
      "DFT trace:  7.124009715257131\n",
      "Core eigvals:  [-40.92691642 -10.30802976 -10.01838351 -10.00724828 -10.00724828\n",
      "  -4.89142614  -4.40582803  -4.3659127   -4.3659127   -3.61476955\n",
      "  -2.52299647]\n"
     ]
    }
   ],
   "source": [
    "'''\n",
    "A simple example to run DFT calculation.\n",
    "'''\n",
    "\n",
    "# PBE Hydrogen flouride in a 6-31G basis set.\n",
    "mol = gto.Mole()\n",
    "mol.build(\n",
    "    atom = 'H 0 0 0; F 0 0 1.1',  # in Angstrom\n",
    "    basis = '631g',\n",
    "    symmetry = True,\n",
    ")\n",
    "\n",
    "mf = dft.RKS(mol)\n",
    "#mf.xc = 'blyp' # shorthand for b88,lyp\n",
    "mf.xc = 'pbe' # shorthand for pbe,pbe\n",
    "#mf.xc = 'lda,vwn_rpa'\n",
    "#mf.xc = 'pbe0'\n",
    "#mf.xc = 'b3lyp'\n",
    "\n",
    "# this where self-content diagonalization happens\n",
    "mf.kernel()\n",
    "\n",
    "# Orbital energies, Mulliken population etc.\n",
    "mf.analyze()\n",
    "\n",
    "# Get the converged density matrix (it generates the density matrix)\n",
    "dm = mf.make_rdm1()\n",
    "mmwrite('dft_density.mtx', sparse.coo_matrix(dm))\n",
    "\n",
    "\n",
    "# Get the nuclear-nuclear repulsion energy\n",
    "e_nuc = mf.energy_nuc()\n",
    "# Get the 'core' hamiltonian, corresponding to kinetic energy and e-nuclear repulsion terms\n",
    "h1e = mf.get_hcore()\n",
    "#mmwrite('dft_hcore.mtx', sparse.coo_matrix(h1e))\n",
    "e1 = np.einsum('ij,ji', h1e, dm) # Compute the kinetic + e-nuclear repulsion energy\n",
    "# Get the kohn-sham potential, including the Hartree coulomb repulsion and exchange-correlation potential, integrated on a grid\n",
    "vhf = mf.get_veff(mf.mol, dm)\n",
    "#print(type(vhf))\n",
    "#print(vhf)\n",
    "# Total energy\n",
    "tot_e = e1 + vhf.ecoul + vhf.exc + e_nuc    # Total energy is sum of terms\n",
    "print('Total dft energy: {}'.format(tot_e))\n",
    "\n",
    "# chemical potential\n",
    "index = int(mol.nelectron/2)\n",
    "dft_mu = (mf.mo_energy[index] + mf.mo_energy[index - 1]) / 2.\n",
    "print('Chemical Potential: ', str(dft_mu))\n",
    "\n",
    "# get the overlap matrix and print to file\n",
    "ovlp = mf.get_ovlp()\n",
    "inv_ovlp = linalg.inv(ovlp)\n",
    "\n",
    "# Full fock matrix is sum of h1e and vhf\n",
    "fock = h1e + vhf\n",
    "\n",
    "# Get whole fock matrix directly corresponding to this density, without computing individual components\n",
    "fock_direct = mf.get_fock(dm=dm)\n",
    "\n",
    "# Check that ways to get the fock matrix are the same\n",
    "assert(np.allclose(fock_direct,fock))\n",
    "\n",
    "print(\"DFT trace: \", dm.trace())\n",
    "core_spect = linalg.eigvalsh(h1e, ovlp)\n",
    "print(\"Core eigvals: \", core_spect)\n",
    "num_electrons = 10\n",
    "index = int(num_electrons/2)\n",
    "dmm_mu = (core_spect[index] + core_spect[index-1])/2"
   ]
  },
  {
   "cell_type": "code",
   "execution_count": 3,
   "metadata": {},
   "outputs": [
    {
     "name": "stdout",
     "output_type": "stream",
     "text": [
      "NTPoly Trace:  0.0\n"
     ]
    },
    {
     "data": {
      "text/plain": [
       "<matplotlib.colorbar.Colorbar at 0x7efddc117610>"
      ]
     },
     "execution_count": 3,
     "metadata": {},
     "output_type": "execute_result"
    },
    {
     "data": {
      "image/png": "[encoded data removed]",
      "text/plain": [
       "<Figure size 432x288 with 2 Axes>"
      ]
     },
     "metadata": {
      "needs_background": "light"
     },
     "output_type": "display_data"
    }
   ],
   "source": [
    "# NTPoly Solver\n",
    "ntpoly_rho = nt.NTPoly_cp(h1e, ovlp, 10)\n",
    "print(\"NTPoly Trace: \", ntpoly_rho.trace())\n",
    "\n",
    "plt.imshow(ntpoly_rho.real)\n",
    "plt.title(\"NTPoly\")\n",
    "plt.xlabel(\"i\")\n",
    "plt.ylabel(\"j\")\n",
    "plt.colorbar()"
   ]
  },
  {
   "cell_type": "code",
   "execution_count": 4,
   "metadata": {},
   "outputs": [
    {
     "name": "stdout",
     "output_type": "stream",
     "text": [
      "funm result may be inaccurate, approximate err = 1\n"
     ]
    }
   ],
   "source": [
    "# Calculate the exact FD distribution\n",
    "beta = 1\n",
    "num_steps = 10000\n",
    "dbeta = beta/num_steps\n",
    "identity = np.eye(h1e.shape[0])\n",
    "\n",
    "num = linalg.expm(beta*(inv_ovlp@h1e - dmm_mu*identity))\n",
    "denom = linalg.inv(identity + num)\n",
    "exact_P = ovlp @ denom\n",
    "#exact_P = ovlp @ linalg.funm(inv_ovlp @ h1e, lambda _ : np.exp(-beta*(_ - dmm_mu))/(1+np.exp(-beta*(_ - dmm_mu))))\n",
    "dft_P = ovlp @ linalg.funm(inv_ovlp @ h1e, lambda _ : np.exp(-beta*(_ - dft_mu))/(1+np.exp(-beta*(_ - dft_mu))))"
   ]
  },
  {
   "cell_type": "code",
   "execution_count": 5,
   "metadata": {},
   "outputs": [],
   "source": [
    "# Perform GCP DMM method\n",
    "identity = np.eye(h1e.shape[0])\n",
    "dmm_gcp = gcp.rk4(gcp.rhs, ovlp/2, dbeta, h1e, inv_ovlp, identity, dmm_mu, num_steps)"
   ]
  },
  {
   "cell_type": "code",
   "execution_count": 14,
   "metadata": {
    "scrolled": true
   },
   "outputs": [
    {
     "name": "stdout",
     "output_type": "stream",
     "text": [
      "10.000000000000016\n",
      "10.864608122026116\n"
     ]
    }
   ],
   "source": [
    "# Perform CP DMM method\n",
    "init_mu = h1e.trace()/ovlp.trace()\n",
    "init_rho = num_electrons*ovlp/ovlp.trace()\n",
    "dmm_cp, cp_mu = cp.rk4(cp.rhs, num_electrons*ovlp/ovlp.trace(), dbeta, h1e, inv_ovlp, identity, num_steps, num_electrons, ovlp, init_mu, 0.001)\n",
    "#cp_mu = cp.get_mu(dmm_cp, h1e, inv_ovlp, num_electrons, ovlp)\n",
    "cp_exact_denom = linalg.inv(identity + linalg.expm(beta*(inv_ovlp@h1e - dmm_mu*identity)))\n",
    "cp_exact = 2*num_electrons*ovlp/ovlp.trace() @ cp_exact_denom\n",
    "#cp_exact = 2*num_electrons*ovlp/ovlp.trace() @ linalg.funm(inv_ovlp @ h1e, lambda _ : np.exp(-beta*(_ - cp_mu))/(1+np.exp(-beta*(_ - cp_mu))))\n",
    "print(dmm_cp.trace())\n",
    "print(cp_exact.trace())"
   ]
  },
  {
   "cell_type": "code",
   "execution_count": 7,
   "metadata": {},
   "outputs": [
    {
     "data": {
      "text/plain": [
       "<matplotlib.legend.Legend at 0x7efddc099210>"
      ]
     },
     "execution_count": 7,
     "metadata": {},
     "output_type": "execute_result"
    },
    {
     "data": {
      "image/png": "[encoded data removed]",
      "text/plain": [
       "<Figure size 432x288 with 1 Axes>"
      ]
     },
     "metadata": {
      "needs_background": "light"
     },
     "output_type": "display_data"
    }
   ],
   "source": [
    "# Plot the eigenvalue spectra of each\n",
    "plt.plot(linalg.eigvalsh(exact_P, ovlp), 'ks-', label=\"Exact by FD\")\n",
    "plt.plot(linalg.eigvalsh(dmm_gcp, ovlp), 'rx-', label=\"Grand Can. DMM\")\n",
    "plt.legend(numpoints=1)"
   ]
  },
  {
   "cell_type": "code",
   "execution_count": 15,
   "metadata": {},
   "outputs": [
    {
     "data": {
      "text/plain": [
       "<matplotlib.legend.Legend at 0x7efdc02d5550>"
      ]
     },
     "execution_count": 15,
     "metadata": {},
     "output_type": "execute_result"
    },
    {
     "data": {
      "image/png": "[encoded data removed]",
      "text/plain": [
       "<Figure size 432x288 with 1 Axes>"
      ]
     },
     "metadata": {
      "needs_background": "light"
     },
     "output_type": "display_data"
    }
   ],
   "source": [
    "plt.plot(linalg.eigvalsh(cp_exact, ovlp), 'ks-', label=\"Exact by FD\")\n",
    "plt.plot(linalg.eigvalsh(dmm_cp, ovlp), 'rx-', label=\"Can. DMM\")\n",
    "plt.legend(numpoints=1)"
   ]
  },
  {
   "cell_type": "code",
   "execution_count": 9,
   "metadata": {},
   "outputs": [
    {
     "data": {
      "text/plain": [
       "<scipy.integrate._ode.ode at 0x7efdc032cc10>"
      ]
     },
     "execution_count": 9,
     "metadata": {},
     "output_type": "execute_result"
    }
   ],
   "source": [
    "solver = ode(cp.zvode_rhs).set_integrator('zvode', method='bdf')\n",
    "solver.set_initial_value(np.append(init_rho.reshape(-1),[init_mu]), 0.001).set_f_params(h1e, inv_ovlp, identity, num_electrons, ovlp)"
   ]
  },
  {
   "cell_type": "code",
   "execution_count": 10,
   "metadata": {},
   "outputs": [],
   "source": [
    "while solver.successful() and solver.t < beta:\n",
    "    solver.integrate(solver.t + dbeta/10)"
   ]
  },
  {
   "cell_type": "code",
   "execution_count": 11,
   "metadata": {},
   "outputs": [
    {
     "data": {
      "text/plain": [
       "<matplotlib.legend.Legend at 0x7efdc038be90>"
      ]
     },
     "execution_count": 11,
     "metadata": {},
     "output_type": "execute_result"
    },
    {
     "data": {
      "image/png": "[encoded data removed]",
      "text/plain": [
       "<Figure size 432x288 with 1 Axes>"
      ]
     },
     "metadata": {
      "needs_background": "light"
     },
     "output_type": "display_data"
    }
   ],
   "source": [
    "mu = solver.y[-1]\n",
    "zvode_rho = solver.y[:-1].reshape(*h1e.shape)\n",
    "plt.plot(linalg.eigvalsh(cp_exact, ovlp), 'ks-', label=\"Exact by FD\")\n",
    "plt.plot(linalg.eigvalsh(dmm_cp, ovlp), 'rx-', label=\"Can. DMM\")\n",
    "plt.plot(linalg.eigvalsh(zvode_rho, ovlp), 'g--')\n",
    "plt.legend(numpoints=1)"
   ]
  },
  {
   "cell_type": "code",
   "execution_count": 12,
   "metadata": {},
   "outputs": [
    {
     "name": "stdout",
     "output_type": "stream",
     "text": [
      "-10.541649354791344\n",
      "(-10.541649354791344+0j)\n"
     ]
    }
   ],
   "source": [
    "print(cp_mu)\n",
    "print(mu)"
   ]
  },
  {
   "cell_type": "code",
   "execution_count": 13,
   "metadata": {},
   "outputs": [
    {
     "name": "stdout",
     "output_type": "stream",
     "text": [
      "(10.000000000000002+0j)\n"
     ]
    }
   ],
   "source": [
    "print(zvode_rho.trace())"
   ]
  },
  {
   "cell_type": "code",
   "execution_count": null,
   "metadata": {},
   "outputs": [],
   "source": []
  }
 ],
 "metadata": {
  "kernelspec": {
   "display_name": "Python 3",
   "language": "python",
   "name": "python3"
  },
  "language_info": {
   "codemirror_mode": {
    "name": "ipython",
    "version": 3
   },
   "file_extension": ".py",
   "mimetype": "text/x-python",
   "name": "python",
   "nbconvert_exporter": "python",
   "pygments_lexer": "ipython3",
   "version": "3.7.6"
  }
 },
 "nbformat": 4,
 "nbformat_minor": 4
}
