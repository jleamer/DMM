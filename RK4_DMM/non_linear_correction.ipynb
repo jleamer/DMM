{
 "cells": [
  {
   "cell_type": "code",
   "execution_count": 1,
   "metadata": {},
   "outputs": [],
   "source": [
    "# import standard libraries\n",
    "import numpy as np\n",
    "from scipy.io import mmread, mmwrite\n",
    "from scipy import linalg\n",
    "from scipy import sparse\n",
    "from numba import njit\n",
    "import matplotlib.pyplot as plt\n",
    "from pyscf import gto, dft\n",
    "import numpy.ma as ma\n",
    "\n",
    "# import methods for solving from other files\n",
    "import dmm_gcp as gcp\n",
    "import dmm_cp as cp\n",
    "import palser as pals\n",
    "import ntpoly as nt\n",
    "\n",
    "# Note: using np.sum(A * B.T) for matrices A, B is equivalent to Trace(A^dag B)"
   ]
  },
  {
   "cell_type": "code",
   "execution_count": 2,
   "metadata": {
    "scrolled": true
   },
   "outputs": [
    {
     "name": "stdout",
     "output_type": "stream",
     "text": [
      "converged SCF energy = -100.291327706251\n",
      "TODO: total wave-function symmetry for Coov\n",
      "occupancy for each irrep:     A1  E1x  E1y\n",
      "                               3    1    1\n",
      "**** MO energy ****\n",
      "MO #1 (A1 #1), energy= -24.2331671128069 occ= 2\n",
      "MO #2 (A1 #2), energy= -1.0272972299461 occ= 2\n",
      "MO #3 (A1 #3), energy= -0.426131190105555 occ= 2\n",
      "MO #4 (E1x #1), energy= -0.289938520612846 occ= 2\n",
      "MO #5 (E1y #1), energy= -0.289938520612849 occ= 2\n",
      "MO #6 (A1 #4), energy= -0.03495591358964 occ= 0\n",
      "MO #7 (A1 #5), energy= 0.664675049298747 occ= 0\n",
      "MO #8 (E1x #2), energy= 1.1305709354121 occ= 0\n",
      "MO #9 (E1y #2), energy= 1.1305709354121 occ= 0\n",
      "MO #10 (A1 #6), energy= 1.24759809513673 occ= 0\n",
      "MO #11 (A1 #7), energy= 1.57280313485608 occ= 0\n",
      " ** Mulliken atomic charges  **\n",
      "charge of  0H =      0.35670\n",
      "charge of  1F =     -0.35670\n",
      "Dipole moment(X, Y, Z, Debye):  0.00000,  0.00000, -2.17040\n",
      "Total dft energy: -100.29132770625064\n",
      "Chemical Potential:  -0.16244721710124427\n",
      "DFT trace:  7.124009715257126\n",
      "Core eigvals:  [-46.50646773 -16.8973916  -13.08130521 -12.55691054 -12.55691054\n",
      "  -5.80523118  -2.61124539  -2.61124539  -1.83429133  -1.01492933\n",
      "  -0.48221465]\n"
     ]
    },
    {
     "data": {
      "text/plain": [
       "<matplotlib.colorbar.Colorbar at 0x7fcaf4044750>"
      ]
     },
     "execution_count": 2,
     "metadata": {},
     "output_type": "execute_result"
    },
    {
     "data": {
      "image/png": "[encoded data removed]",
      "text/plain": [
       "<Figure size 432x288 with 2 Axes>"
      ]
     },
     "metadata": {
      "needs_background": "light"
     },
     "output_type": "display_data"
    }
   ],
   "source": [
    "'''\n",
    "A simple example to run DFT calculation.\n",
    "'''\n",
    "\n",
    "# PBE Hydrogen flouride in a 6-31G basis set.\n",
    "mol = gto.Mole()\n",
    "mol.build(\n",
    "    atom = 'H 0 0 0; F 0 0 1.1',  # in Angstrom\n",
    "    basis = '631g',\n",
    "    symmetry = True,\n",
    ")\n",
    "\n",
    "mf = dft.RKS(mol)\n",
    "#mf.xc = 'blyp' # shorthand for b88,lyp\n",
    "mf.xc = 'pbe' # shorthand for pbe,pbe\n",
    "#mf.xc = 'lda,vwn_rpa'\n",
    "#mf.xc = 'pbe0'\n",
    "#mf.xc = 'b3lyp'\n",
    "\n",
    "# this where self-content diagonalization happens\n",
    "mf.kernel()\n",
    "\n",
    "# Orbital energies, Mulliken population etc.\n",
    "mf.analyze()\n",
    "\n",
    "# Get the converged density matrix (it generates the density matrix)\n",
    "dm = mf.make_rdm1()\n",
    "mmwrite('dft_density.mtx', sparse.coo_matrix(dm))\n",
    "\n",
    "\n",
    "# Get the nuclear-nuclear repulsion energy\n",
    "e_nuc = mf.energy_nuc()\n",
    "# Get the 'core' hamiltonian, corresponding to kinetic energy and e-nuclear repulsion terms\n",
    "h1e = mf.get_hcore()\n",
    "#mmwrite('dft_hcore.mtx', sparse.coo_matrix(h1e))\n",
    "e1 = np.einsum('ij,ji', h1e, dm) # Compute the kinetic + e-nuclear repulsion energy\n",
    "# Get the kohn-sham potential, including the Hartree coulomb repulsion and exchange-correlation potential, integrated on a grid\n",
    "vhf = mf.get_veff(mf.mol, dm)\n",
    "#print(type(vhf))\n",
    "#print(vhf)\n",
    "# Total energy\n",
    "tot_e = e1 + vhf.ecoul + vhf.exc + e_nuc    # Total energy is sum of terms\n",
    "print('Total dft energy: {}'.format(tot_e))\n",
    "\n",
    "# chemical potential\n",
    "index = int(mol.nelectron/2)\n",
    "mu = (mf.mo_energy[index] + mf.mo_energy[index - 1]) / 2.\n",
    "dft_mu = mu\n",
    "print('Chemical Potential: ', str(mu))\n",
    "\n",
    "# get the overlap matrix and print to file\n",
    "ovlp = mf.get_ovlp()\n",
    "inv_ovlp = linalg.inv(ovlp)\n",
    "#mmwrite('dft_overlap.mtx', sparse.coo_matrix(ovlp))\n",
    "\n",
    "# Full fock matrix is sum of h1e and vhf\n",
    "fock = h1e + vhf\n",
    "\n",
    "# Get whole fock matrix directly corresponding to this density, without computing individual components\n",
    "fock_direct = mf.get_fock(dm=dm)\n",
    "\n",
    "# Check that ways to get the fock matrix are the same\n",
    "assert(np.allclose(fock_direct,fock))\n",
    "\n",
    "print(\"DFT trace: \", dm.trace())\n",
    "print(\"Core eigvals: \", linalg.eigvalsh(h1e))\n",
    "core_spect = linalg.eigvalsh(h1e)\n",
    "num_electrons = 10\n",
    "index = int(num_electrons/2)\n",
    "our_mu = (core_spect[index] + core_spect[index-1])/2\n",
    "\n",
    "plt.imshow(dm.real)\n",
    "plt.title(\"DFT by Pyscf\")\n",
    "plt.xlabel(\"i\")\n",
    "plt.ylabel(\"j\")\n",
    "plt.colorbar()"
   ]
  },
  {
   "cell_type": "code",
   "execution_count": 3,
   "metadata": {},
   "outputs": [
    {
     "name": "stdout",
     "output_type": "stream",
     "text": [
      "NTPoly Trace:  4.0153913622345465\n"
     ]
    },
    {
     "data": {
      "text/plain": [
       "<matplotlib.colorbar.Colorbar at 0x7fcae429da10>"
      ]
     },
     "execution_count": 3,
     "metadata": {},
     "output_type": "execute_result"
    },
    {
     "data": {
      "image/png": "[encoded data removed]",
      "text/plain": [
       "<Figure size 432x288 with 2 Axes>"
      ]
     },
     "metadata": {
      "needs_background": "light"
     },
     "output_type": "display_data"
    }
   ],
   "source": [
    "ntpoly_rho = nt.NTPoly_cp(h1e, ovlp, int(dm.trace()))\n",
    "print(\"NTPoly Trace: \", ntpoly_rho.trace())\n",
    "\n",
    "plt.imshow(ntpoly_rho.real)\n",
    "plt.title(\"NTPoly\")\n",
    "plt.xlabel(\"i\")\n",
    "plt.ylabel(\"j\")\n",
    "plt.colorbar()"
   ]
  },
  {
   "cell_type": "code",
   "execution_count": 4,
   "metadata": {},
   "outputs": [
    {
     "name": "stdout",
     "output_type": "stream",
     "text": [
      "GCP steps:  14\n",
      "Palser GCP trace:  (4.999999999999999+0j)\n",
      "CP steps:  21\n",
      "Palser CP trace:  (7.124009715257132+0j)\n"
     ]
    },
    {
     "data": {
      "text/plain": [
       "<matplotlib.colorbar.Colorbar at 0x7fcae415df50>"
      ]
     },
     "execution_count": 4,
     "metadata": {},
     "output_type": "execute_result"
    },
    {
     "data": {
      "image/png": "[encoded data removed]",
      "text/plain": [
       "<Figure size 432x288 with 2 Axes>"
      ]
     },
     "metadata": {
      "needs_background": "light"
     },
     "output_type": "display_data"
    },
    {
     "data": {
      "image/png": "[encoded data removed]",
      "text/plain": [
       "<Figure size 432x288 with 2 Axes>"
      ]
     },
     "metadata": {
      "needs_background": "light"
     },
     "output_type": "display_data"
    }
   ],
   "source": [
    "# Palser solver\n",
    "mu = our_mu\n",
    "palser_gcp_rho = pals.gcp(mu, h1e, 1000)\n",
    "print(\"Palser GCP trace: \", palser_gcp_rho.trace())\n",
    "palser_cp_rho = pals.cp(dm.trace(), h1e, 1000)\n",
    "print(\"Palser CP trace: \", palser_cp_rho.trace())\n",
    "\n",
    "plt.figure(1)\n",
    "plt.imshow(palser_gcp_rho.real)\n",
    "plt.title(\"Palser GCP\")\n",
    "plt.xlabel(\"i\")\n",
    "plt.ylabel(\"j\")\n",
    "plt.colorbar()\n",
    "\n",
    "plt.figure(2)\n",
    "plt.imshow(palser_cp_rho.real)\n",
    "plt.title(\"Palser CP\")\n",
    "plt.xlabel(\"i\")\n",
    "plt.ylabel(\"j\")\n",
    "plt.colorbar()"
   ]
  },
  {
   "cell_type": "code",
   "execution_count": 5,
   "metadata": {},
   "outputs": [
    {
     "name": "stdout",
     "output_type": "stream",
     "text": [
      "DMM GCP trace:  5.754093965067289\n"
     ]
    },
    {
     "ename": "TypeError",
     "evalue": "rk4() missing 4 required positional arguments: 'num_electrons', 'ovlp', 'mu', and 'beta'",
     "output_type": "error",
     "traceback": [
      "\u001b[0;31m---------------------------------------------------------------------------\u001b[0m",
      "\u001b[0;31mTypeError\u001b[0m                                 Traceback (most recent call last)",
      "\u001b[0;32m<ipython-input-5-fa1cd24aa6d0>\u001b[0m in \u001b[0;36m<module>\u001b[0;34m\u001b[0m\n\u001b[1;32m     11\u001b[0m \u001b[0;34m\u001b[0m\u001b[0m\n\u001b[1;32m     12\u001b[0m \u001b[0mcp_init_rho\u001b[0m \u001b[0;34m=\u001b[0m \u001b[0mnum_electrons\u001b[0m\u001b[0;34m/\u001b[0m\u001b[0movlp\u001b[0m\u001b[0;34m.\u001b[0m\u001b[0mtrace\u001b[0m\u001b[0;34m(\u001b[0m\u001b[0;34m)\u001b[0m \u001b[0;34m*\u001b[0m \u001b[0movlp\u001b[0m\u001b[0;34m\u001b[0m\u001b[0;34m\u001b[0m\u001b[0m\n\u001b[0;32m---> 13\u001b[0;31m \u001b[0mdmm_cp\u001b[0m \u001b[0;34m=\u001b[0m \u001b[0mcp\u001b[0m\u001b[0;34m.\u001b[0m\u001b[0mrk4\u001b[0m\u001b[0;34m(\u001b[0m\u001b[0mcp\u001b[0m\u001b[0;34m.\u001b[0m\u001b[0mrhs\u001b[0m\u001b[0;34m,\u001b[0m \u001b[0mcp_init_rho\u001b[0m\u001b[0;34m.\u001b[0m\u001b[0mcopy\u001b[0m\u001b[0;34m(\u001b[0m\u001b[0;34m)\u001b[0m\u001b[0;34m,\u001b[0m \u001b[0mdbeta\u001b[0m\u001b[0;34m,\u001b[0m \u001b[0mh1e\u001b[0m\u001b[0;34m,\u001b[0m \u001b[0minv_ovlp\u001b[0m\u001b[0;34m,\u001b[0m \u001b[0midentity\u001b[0m\u001b[0;34m,\u001b[0m \u001b[0;36m1000\u001b[0m\u001b[0;34m)\u001b[0m\u001b[0;34m\u001b[0m\u001b[0;34m\u001b[0m\u001b[0m\n\u001b[0m\u001b[1;32m     14\u001b[0m \u001b[0mprint\u001b[0m\u001b[0;34m(\u001b[0m\u001b[0;34m\"DMM CP trace: \"\u001b[0m\u001b[0;34m,\u001b[0m \u001b[0mdmm_cp\u001b[0m\u001b[0;34m.\u001b[0m\u001b[0mtrace\u001b[0m\u001b[0;34m(\u001b[0m\u001b[0;34m)\u001b[0m\u001b[0;34m)\u001b[0m\u001b[0;34m\u001b[0m\u001b[0;34m\u001b[0m\u001b[0m\n\u001b[1;32m     15\u001b[0m \u001b[0;34m\u001b[0m\u001b[0m\n",
      "\u001b[0;31mTypeError\u001b[0m: rk4() missing 4 required positional arguments: 'num_electrons', 'ovlp', 'mu', and 'beta'"
     ]
    }
   ],
   "source": [
    "# DMM Solvers\n",
    "dbeta = 0.003\n",
    "num_electrons = 10\n",
    "\n",
    "inv_ovlp = np.linalg.inv(ovlp)\n",
    "gcp_init_rho = ovlp/2\n",
    "identity = np.identity(gcp_init_rho.shape[0])\n",
    "\n",
    "dmm_gcp = gcp.rk4(gcp.rhs, gcp_init_rho.copy(), dbeta, h1e, inv_ovlp, identity, mu, 1000)\n",
    "print(\"DMM GCP trace: \", dmm_gcp.trace())\n",
    "\n",
    "cp_init_rho = num_electrons/ovlp.trace() * ovlp\n",
    "dmm_cp = cp.rk4(cp.rhs, cp_init_rho.copy(), dbeta, h1e, inv_ovlp, identity, 1000)\n",
    "print(\"DMM CP trace: \", dmm_cp.trace())\n",
    "\n",
    "gcp_fermi = ovlp @ linalg.funm(inv_ovlp @ h1e, lambda _: 1/(1+np.exp(1000*dbeta*(_ - mu))))\n",
    "plt.figure(1)\n",
    "plt.imshow(gcp_fermi)\n",
    "plt.title(\"GCP Fermi-Dirac\")\n",
    "plt.colorbar()\n",
    "\n",
    "plt.figure(2)\n",
    "plt.imshow(dmm_gcp.real)\n",
    "plt.title(\"DMM GCP\")\n",
    "plt.xlabel(\"i\")\n",
    "plt.ylabel(\"j\")\n",
    "plt.colorbar()\n",
    "\n",
    "plt.figure(3)\n",
    "plt.imshow(dmm_cp.real)\n",
    "plt.title(\"DMM CP\")\n",
    "plt.xlabel(\"i\")\n",
    "plt.ylabel(\"j\")\n",
    "plt.colorbar()\n",
    "\n",
    "plt.figure(4)\n",
    "plt.plot(linalg.eigvalsh(gcp_fermi), 'kx-', label=\"FD\")\n",
    "#plt.plot(linalg.eigvalsh(palser_gcp_rho), 'r-', label=\"Palser GCP\")\n",
    "plt.plot(linalg.eigvalsh(dmm_gcp), 'b--', label=\"DMM\")\n",
    "#plt.plot(linalg.eigvalsh(dm), 'g:', label=\"DFT\")\n",
    "plt.legend(numpoints=1)\n",
    "\n",
    "plt.figure(5)\n",
    "plt.plot(linalg.eigvalsh(gcp_fermi), 'kx-', label=\"FD\")\n",
    "#plt.plot(linalg.eigvalsh(palser_cp_rho), 'r-', label=\"Palser GCP\")\n",
    "plt.plot(linalg.eigvalsh(dmm_cp), 'b--', label=\"DMM\")\n",
    "#plt.plot(linalg.eigvalsh(dm), 'g:', label=\"DFT\")\n",
    "plt.legend(numpoints=1)"
   ]
  },
  {
   "cell_type": "code",
   "execution_count": null,
   "metadata": {},
   "outputs": [],
   "source": [
    "# Perform Aitkens convergence method on DMM methods\n",
    "# First get the exact by Fermi-Dirac\n",
    "func_args = {'h1e': h1e, 'mf': mf, 'mu': mu, 'ovlp':ovlp, 'inv_ovlp': inv_ovlp, 'beta': dbeta*1000}\n",
    "exact_fd, norm_diff = gcp.aitkens(gcp_init_rho, 50, gcp.exact_single_step, **func_args)\n",
    "plt.figure(1)\n",
    "plt.imshow(exact_fd)\n",
    "plt.title(\"Exact Aitkens\")\n",
    "plt.colorbar()\n",
    "\n",
    "plt.figure(2)\n",
    "plt.semilogy(norm_diff, 'x-')\n",
    "\n",
    "func_args = {'h1e': h1e, 'mf': mf, 'mu': mu, 'inv_ovlp': inv_ovlp, 'dbeta': dbeta, 'rk4steps': 1000}\n",
    "gcp_aitkens_rho, norm_diff = gcp.aitkens(dmm_gcp, 50, gcp.single_step, **func_args)\n",
    "\n",
    "plt.figure(3)\n",
    "plt.imshow(gcp_aitkens_rho)\n",
    "plt.title(\"DMM GCP Aitkens\")\n",
    "plt.xlabel(\"i\")\n",
    "plt.ylabel(\"j\")\n",
    "plt.colorbar()\n",
    "\n",
    "plt.figure(4)\n",
    "plt.semilogy(norm_diff, 'x-')\n",
    "plt.title(\"GCP Norm Difference\")\n",
    "plt.xlabel(\"Iterations #\")\n",
    "plt.ylabel(\"||p_n+1 - p_n||\")\n",
    "\n",
    "func_args = {'h1e': h1e, 'mf': mf, 'inv_ovlp': inv_ovlp, 'dbeta': dbeta, 'rk4steps': 1000}\n",
    "cp_aitkens_rho, norm_diff = gcp.aitkens(dmm_cp, 20, cp.single_step, **func_args)"
   ]
  },
  {
   "cell_type": "code",
   "execution_count": null,
   "metadata": {},
   "outputs": [],
   "source": [
    "func_args = {'h1e': h1e, 'mf': mf, 'mu': mu, 'ovlp':ovlp, 'inv_ovlp': inv_ovlp, 'beta': dbeta*1000}\n",
    "exact_fd, norm_diff = gcp.aitkens(cp_init_rho, 50, cp.exact_single_step, **func_args)\n",
    "plt.figure(1)\n",
    "plt.imshow(exact_fd)\n",
    "plt.title(\"Exact Aitkens\")\n",
    "plt.colorbar()\n",
    "\n",
    "plt.figure(2)\n",
    "plt.semilogy(norm_diff, 'x-')\n",
    "\n",
    "func_args = {'h1e': h1e, 'mf': mf, 'inv_ovlp': inv_ovlp, 'dbeta': dbeta, 'rk4steps': 1000}\n",
    "cp_aitkens_rho, norm_diff = gcp.aitkens(dmm_cp, 20, cp.single_step, **func_args)\n",
    "\n",
    "plt.figure(3)\n",
    "plt.imshow(cp_aitkens_rho)\n",
    "plt.title(\"DMM CP Aitkens\")\n",
    "plt.xlabel(\"i\")\n",
    "plt.ylabel(\"j\")\n",
    "plt.colorbar()\n",
    "\n",
    "plt.figure(4)\n",
    "plt.semilogy(norm_diff, 'x-')\n",
    "plt.title(\"CP Norm Difference\")\n",
    "plt.xlabel(\"Iteration #\")\n",
    "plt.ylabel(\"||p_n+1 - p_n||\")"
   ]
  },
  {
   "cell_type": "code",
   "execution_count": null,
   "metadata": {},
   "outputs": [],
   "source": [
    "plt.figure(1)\n",
    "plt.plot(linalg.eigvalsh(exact_fd, ovlp), 'kx-', label=\"FD\")\n",
    "#plt.plot(linalg.eigvalsh(palser_gcp_rho), 'r-', label=\"Palser GCP\")\n",
    "plt.plot(linalg.eigvalsh(gcp_aitkens_rho, ovlp), 'b--', label=\"DMM\")\n",
    "#plt.plot(linalg.eigvalsh(dm, ovlp), 'g:', label=\"DFT\")\n",
    "plt.legend(numpoints=1)\n",
    "\n",
    "plt.figure(2)\n",
    "plt.plot(linalg.eigvalsh(exact_fd, ovlp), 'kx-', label=\"FD\")\n",
    "#plt.plot(linalg.eigvalsh(palser_cp_rho), 'r-', label=\"Palser GCP\")\n",
    "plt.plot(linalg.eigvalsh(cp_aitkens_rho, ovlp), 'b--', label=\"DMM\")\n",
    "#plt.plot(linalg.eigvalsh(dm, ovlp), 'g:', label=\"DFT\")\n",
    "plt.legend(numpoints=1)"
   ]
  },
  {
   "cell_type": "code",
   "execution_count": null,
   "metadata": {},
   "outputs": [],
   "source": [
    "# Steady State solutions\n",
    "# first exact by heaviside\n",
    "func_args = {'h1e': h1e, 'mf': mf, 'mu': mu, 'ovlp':ovlp, 'inv_ovlp': inv_ovlp}\n",
    "gcp_exact_hv, norm_diff = gcp.aitkens(gcp_init_rho, 50, gcp.exact0_single_step, **func_args)\n",
    "\n",
    "plt.figure(1)\n",
    "plt.imshow(gcp_exact_hv)\n",
    "plt.title(\"Exact Aitkens 0 T\")\n",
    "plt.colorbar()\n",
    "\n",
    "plt.figure(2)\n",
    "plt.semilogy(norm_diff, 'x-')\n",
    "\n",
    "cp_exact_hv, norm_diff = gcp.aitkens(cp_init_rho, 50, cp.exact0_single_step, **func_args)\n",
    "\n",
    "plt.figure(3)\n",
    "plt.imshow(cp_exact_hv)\n",
    "plt.title(\"Exact Aitkens 0 T\")\n",
    "plt.colorbar()\n",
    "\n",
    "plt.figure(4)\n",
    "plt.semilogy(norm_diff, 'x-')"
   ]
  },
  {
   "cell_type": "code",
   "execution_count": null,
   "metadata": {},
   "outputs": [],
   "source": [
    "print(gcp_exact_hv.trace())\n",
    "print(cp_exact_hv.trace())"
   ]
  },
  {
   "cell_type": "code",
   "execution_count": null,
   "metadata": {},
   "outputs": [],
   "source": [
    "func_args = {'h1e': h1e, 'mf': mf, 'mu': mu, 'ovlp':ovlp, 'inv_ovlp': inv_ovlp}\n",
    "gcp_steady, norm_diff = gcp.aitkens(gcp_init_rho, 50, gcp.steady_single_step, **func_args)\n",
    "\n",
    "plt.figure(1)\n",
    "plt.imshow(gcp_steady)\n",
    "plt.title(\"GCP 0 T\")\n",
    "plt.colorbar()\n",
    "\n",
    "plt.figure(2)\n",
    "plt.semilogy(norm_diff, 'x-')\n",
    "\n",
    "func_args = {'h1e': h1e, 'mf': mf, 'mu': mu, 'ovlp':ovlp, 'inv_ovlp': inv_ovlp}\n",
    "cp_steady, norm_diff = gcp.aitkens(cp_init_rho, 50, gcp.steady_single_step, **func_args)\n",
    "\n",
    "plt.figure(3)\n",
    "plt.imshow(cp_steady)\n",
    "plt.title(\"CP 0 T\")\n",
    "plt.colorbar()\n",
    "\n",
    "plt.figure(4)\n",
    "plt.semilogy(norm_diff, 'x-')"
   ]
  }
 ],
 "metadata": {
  "kernelspec": {
   "display_name": "Python 3",
   "language": "python",
   "name": "python3"
  },
  "language_info": {
   "codemirror_mode": {
    "name": "ipython",
    "version": 3
   },
   "file_extension": ".py",
   "mimetype": "text/x-python",
   "name": "python",
   "nbconvert_exporter": "python",
   "pygments_lexer": "ipython3",
   "version": "3.7.6"
  }
 },
 "nbformat": 4,
 "nbformat_minor": 4
}
