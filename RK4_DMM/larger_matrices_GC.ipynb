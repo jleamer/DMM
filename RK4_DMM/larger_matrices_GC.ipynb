{
 "cells": [
  {
   "cell_type": "code",
   "execution_count": 1,
   "metadata": {},
   "outputs": [],
   "source": [
    "import numpy as np\n",
    "from numba import njit\n",
    "from scipy import sparse, linalg\n",
    "from scipy.io import mmread, mmwrite\n",
    "from adaptive_step_dmm import CAdaptiveDMM\n",
    "from adaptive_step_DMM_sqrt import CAdaptiveDMMsqrt\n",
    "from adaptive_GC import CAdaptive_GC_RK4\n",
    "from adaptive_GC_sqrt import CAdaptive_GC_RK4_sqrt\n",
    "import matplotlib.pyplot as plt\n",
    "import time"
   ]
  },
  {
   "cell_type": "code",
   "execution_count": 2,
   "metadata": {},
   "outputs": [],
   "source": [
    "# Set font size of plot elements\n",
    "SMALL_SIZE = 12\n",
    "MEDIUM_SIZE = 14\n",
    "BIGGER_SIZE = 18\n",
    "\n",
    "plt.rc('font', size=SMALL_SIZE)          # controls default text sizes\n",
    "plt.rc('axes', titlesize=SMALL_SIZE)     # fontsize of the axes title\n",
    "plt.rc('axes', labelsize=MEDIUM_SIZE)    # fontsize of the x and y labels\n",
    "plt.rc('xtick', labelsize=SMALL_SIZE)    # fontsize of the tick labels\n",
    "plt.rc('ytick', labelsize=SMALL_SIZE)    # fontsize of the tick labels\n",
    "plt.rc('legend', fontsize=SMALL_SIZE)    # legend fontsize\n",
    "plt.rc('figure', titlesize=BIGGER_SIZE)  # fontsize of the figure title"
   ]
  },
  {
   "cell_type": "code",
   "execution_count": 3,
   "metadata": {},
   "outputs": [],
   "source": [
    "def apply_method(H, S, num_electrons, beta, eps):\n",
    "    # Invert S for calculation\n",
    "    inv_S = linalg.inv(S)\n",
    "    \n",
    "    # Define chemical potential\n",
    "    core_spec = linalg.eigvalsh(H, S)\n",
    "    index = int(num_electrons / 2)\n",
    "    mu = (core_spec[index] + core_spec[index - 1]) / 2\n",
    "    \n",
    "    # Define dbeta\n",
    "    dbeta = beta / 10000\n",
    "    \n",
    "    # Run our GC method\n",
    "    gc = CAdaptive_GC_RK4(ovlp=S, H=H, mu=mu, dbeta=dbeta, epsilon=eps)\n",
    "    gc.propagate(beta)\n",
    "    \n",
    "    return gc"
   ]
  },
  {
   "cell_type": "code",
   "execution_count": 4,
   "metadata": {},
   "outputs": [],
   "source": [
    "def get_exact(H, S, num_electrons, beta, mu):\n",
    "    inv_S = linalg.inv(S)\n",
    "    return S @ linalg.funm(inv_S @ H, lambda _: np.exp(-beta * (_ - mu)) / (1 + np.exp(-beta * (_ - mu))))"
   ]
  },
  {
   "cell_type": "code",
   "execution_count": 5,
   "metadata": {},
   "outputs": [],
   "source": [
    "def successive(H, S, num_electrons, beta):\n",
    "    # Define dbeta\n",
    "    dbeta = beta / 10000\n",
    "    \n",
    "    # Define chemical potential\n",
    "    core_spec = linalg.eigvalsh(H, S)\n",
    "    index = int(num_electrons / 2)\n",
    "    mu = (core_spec[index] + core_spec[index - 1]) / 2\n",
    "    \n",
    "    # Create dictionary of common parameters\n",
    "    params = dict(ovlp=S, H=H, mu=mu)\n",
    "    \n",
    "    # Create list of epsilon values to use\n",
    "    eps = [1e-1, 1e-2, 1e-3, 1e-4]\n",
    "    \n",
    "    # Create list for storing results\n",
    "    results = []\n",
    "    \n",
    "    # Run the first step and append to list\n",
    "    gc = CAdaptive_GC_RK4(dbeta=dbeta, epsilon=5e-2, **params)\n",
    "    gc.propagate(beta)\n",
    "    results.append(gc)\n",
    "    \n",
    "    # Run second step and append\n",
    "    gc2 = CAdaptive_GC_RK4(dbeta=gc.dbeta, epsilon=1e-2, rho=gc.rho, beta=gc.beta, **params)\n",
    "    gc2.propagate(beta)\n",
    "    results.append(gc2)\n",
    "    \n",
    "    # Run third step and append\n",
    "    gc3 = CAdaptive_GC_RK4(dbeta=gc2.dbeta, epsilon=1e-3, rho=gc2.rho, beta=gc2.beta, **params)\n",
    "    gc3.propagate(beta)\n",
    "    results.append(gc3)\n",
    "    \"\"\"\n",
    "    # Run final step and append\n",
    "    gc4 = CAdaptive_GC_RK4(dbeta=gc3.dbeta, epsilon=1e-4, rho=gc3.rho, beta=gc3.beta, **params)\n",
    "    gc4.propagate(beta)\n",
    "    results.append(gc4)\n",
    "    \"\"\"\n",
    "    \n",
    "    return results"
   ]
  },
  {
   "cell_type": "code",
   "execution_count": 6,
   "metadata": {},
   "outputs": [],
   "source": [
    "def plot_results_fd_vs_gc(num_electrons, fd, gc):\n",
    "    H = gc.H\n",
    "    S = gc.ovlp\n",
    "    \n",
    "    # Plot final eigenvalue spectra of the exact solution and our methods results\n",
    "    plt.figure(1)\n",
    "    #plt.title(\"Populations - \" + str(num_electrons) + \" electrons\")\n",
    "    plt.plot(linalg.eigvalsh(H, S), linalg.eigvalsh(fd, S)[::-1], 'ks-', label=\"Exact by FD\")\n",
    "    plt.plot(linalg.eigvalsh(H, S), linalg.eigvalsh(gc.rho, S)[::-1], 'r^-', label=\"Grand Can. DMM\")\n",
    "    #plt.xlabel(\"Energy\")\n",
    "    plt.ylabel(\"Population\")\n",
    "    plt.legend(numpoints=1)\n",
    "    plt.savefig(\"larger_matrices/figs/\" + str(num_electrons) + \"/GC_pop.png\", format='png', dpi=300)\n",
    "    print(gc.beta)\n",
    "    \n",
    "    # Plot increments of dbeta that our method took\n",
    "    plt.figure(2)\n",
    "    plt.title(\"Variable step method in action - \" + str(num_electrons) + \"electrons\")\n",
    "    plt.plot(gc.beta_increments, '*-')\n",
    "    plt.xlabel('steps')\n",
    "    plt.ylabel('dbeta')\n",
    "    plt.savefig(\"larger_matrices/figs/\" + str(num_electrons) + \"/GC_dbeta_inc.png\", format='png', dpi=300)\n",
    "    \n",
    "    # Plot number of electrons\n",
    "    plt.figure(3)\n",
    "    plt.title(\"Change in number of electrons - \" + str(num_electrons) + \" electrons\")\n",
    "    plt.plot(gc.num_electron_list, '*-')\n",
    "    plt.xlabel(\"steps\")\n",
    "    plt.ylabel(\"num_electrons\")\n",
    "    plt.savefig(\"larger_matrices/figs/\" + str(num_electrons) + \"/GC_num_electrons.png\", format='png', dpi=300)\n",
    "    \n",
    "    # Plot chemical potential\n",
    "    plt.figure(4)\n",
    "    plt.title(\"Change in chemical potential - \" + str(num_electrons) + \" electrons\")\n",
    "    plt.plot(gc.mu_list, '*-')\n",
    "    plt.xlabel(\"steps\")\n",
    "    plt.ylabel(\"mu\")\n",
    "    plt.savefig(\"larger_matrices/figs/\" + str(num_electrons) + \"/GC_chem_pot.png\", format='png', dpi=300)\n",
    "    \"\"\"\n",
    "    # Imshow of eigenvalues\n",
    "    plt.figure(5)\n",
    "    plt.imshow(np.array(gc.eigenvalues).real, origin='lower', aspect='1')\n",
    "    plt.xlabel(\"eigenvalues\")\n",
    "    plt.ylabel(\"steps\")\n",
    "    plt.title(\"Imshow of eigenvalues - \" + str(num_electrons) + \" electrons\")\n",
    "    plt.colorbar()\n",
    "    plt.savefig(\"larger_matrices/figs/\" + str(num_electrons) + \"/GC_eig_imshow.png\", format='png', dpi=300)\n",
    "    \"\"\"\n",
    "    # Check beta vs step size\n",
    "    beta_vals = np.cumsum(gc.beta_increments)\n",
    "    plt.figure(6)\n",
    "    plt.plot(gc.beta_increments, beta_vals)\n",
    "    plt.xlabel(\"dbeta\")\n",
    "    plt.ylabel(\"beta\")\n",
    "    plt.title(\"beta vs step size - \" + str(num_electrons) + \" electrons\")\n",
    "    plt.savefig(\"larger_matrices/figs/\" + str(num_electrons) + \"/GC_beta_vs_stepsize.png\", format='png', dpi=300)\n",
    "    \n",
    "    # Plot energy values\n",
    "    plt.figure(7)\n",
    "    plt.title(\"Energy values vs temp - \" + str(num_electrons) + \" electrons\")\n",
    "    plt.plot(beta_vals, (gc.energy_vals - min(gc.energy_vals))[:-1])\n",
    "    plt.xlabel(\"beta\")\n",
    "    plt.ylabel(\"E(beta) - min(E)\")\n",
    "    plt.savefig(\"larger_matrices/figs/\" + str(num_electrons) + \"/GC_energy_vs_beta.png\", format='png', dpi=300)\n",
    "    \n",
    "    # Plot energy values\n",
    "    plt.figure(8)\n",
    "    plt.title(\"Energy values vs steps - \" + str(num_electrons) + \" electrons\")\n",
    "    plt.semilogy((gc.energy_vals - min(gc.energy_vals))[:-1])\n",
    "    plt.xlabel(\"steps\")\n",
    "    plt.ylabel(\"E(step) - E.min\")\n",
    "    plt.savefig(\"larger_matrices/figs/\" + str(num_electrons) + \"/GC_energy_vs_steps.png\", format='png', dpi=300)\n",
    "    \n",
    "    # Plot heat capacity\n",
    "    plt.figure(9)\n",
    "    plt.title(\"Heat capacity vs temp - \" + str(num_electrons) + \" electrons\")\n",
    "    t_vals = 1 / np.cumsum(gc.beta_increments)\n",
    "    plt.plot(t_vals[:10], gc.cv[:10])\n",
    "    plt.xlabel(\"T\")\n",
    "    plt.ylabel(\"C_v\")\n",
    "    plt.savefig(\"larger_matrices/figs/\" + str(num_electrons) + \"/GC_cv.png\", format='png', dpi=300)"
   ]
  },
  {
   "cell_type": "code",
   "execution_count": 7,
   "metadata": {},
   "outputs": [],
   "source": [
    "def successive_plots(num_electrons, gc_direct, gc_succ):\n",
    "    H = gc_direct.H\n",
    "    S = gc_direct.ovlp\n",
    "    \n",
    "    # Combine eigenvalues from successive steps\n",
    "    gc_succ_eigenvalues = np.vstack(\n",
    "        [_.eigenvalues for _ in gc_succ]\n",
    "    )\n",
    "\n",
    "    # Combine beta increments from successive steps\n",
    "    gc_succ_beta_increments = np.hstack(\n",
    "        [_.beta_increments for _ in gc_succ]\n",
    "    )\n",
    "\n",
    "    # Plot beta increments\n",
    "    plt.figure(1)\n",
    "    plt.title(\"Successive dbeta changes - \" + str(num_electrons) + \" electrons\")\n",
    "    plt.semilogy(gc_succ_beta_increments)\n",
    "    plt.xlabel(\"steps\")\n",
    "    plt.ylabel(\"dbeta\")\n",
    "    plt.savefig(\"larger_matrices/figs/\" + str(num_electrons) + \"/GC_successive_dbeta_inc.png\", format='png', dpi=300)\n",
    "    \n",
    "    \"\"\"\n",
    "    # Print final beta of successive steps and imshow eigenvalue spectra\n",
    "    print(gc_succ[-1].beta)\n",
    "    plt.figure(2)\n",
    "    plt.title(\"Successive Eigenvalues - \" + str(num_electrons) + \" electrons\")\n",
    "    plt.imshow(gc_succ_eigenvalues.real, origin='lower', aspect=1)\n",
    "    plt.xlabel(\"Population Index\")\n",
    "    plt.ylabel(\"Steps\")\n",
    "    plt.colorbar()\n",
    "    plt.savefig(\"larger_matrices/figs/\" + str(num_electrons) + \"/GC_successive_eig_imshow.png\", format='png', dpi=300)\n",
    "    \"\"\"\n",
    "    \n",
    "    # Print results for direct and successive approaches\n",
    "    plt.figure(3)\n",
    "    plt.title(\"Direct vs Successive - \" + str(num_electrons) + \" electrons\")\n",
    "    plt.plot(linalg.eigvalsh(H, S), linalg.eigvalsh(gc_succ[-1].rho, S)[::-1], '*-', label=\"Successive\")\n",
    "    plt.plot(linalg.eigvalsh(H, S), linalg.eigvalsh(gc_direct.rho, S)[::-1], '*-', label=\"Direct\")\n",
    "    plt.xlabel(\"Energy\")\n",
    "    plt.ylabel(\"Population\")\n",
    "    plt.legend(numpoints=1)\n",
    "    plt.savefig(\"larger_matrices/figs/\" + str(num_electrons) + \"/GC_direct_vs_successive_pops.png\", format='png', dpi=300)\n",
    "    \n",
    "    # Combine beta increments from successive steps\n",
    "    gc_succ_energy_vals = np.hstack(\n",
    "        [_.energy_vals for _ in gc_succ]\n",
    "    )\n",
    "    plt.figure(4)\n",
    "    plt.title(\"Energy values - \" + str(num_electrons) + \" electrons\")\n",
    "    plt.plot(gc_succ_energy_vals)\n",
    "    plt.xlabel(\"Steps\")\n",
    "    plt.ylabel(\"Energy\")\n",
    "    plt.savefig(\"larger_matrices/figs/\" + str(num_electrons) + \"/GC_successive_energy_vals.png\", format='png', dpi=300)"
   ]
  },
  {
   "cell_type": "markdown",
   "metadata": {},
   "source": [
    "### Start with 16x16 case"
   ]
  },
  {
   "cell_type": "code",
   "execution_count": 8,
   "metadata": {},
   "outputs": [],
   "source": [
    "# Define path for matrices\n",
    "matrices_path = \"larger_matrices/\""
   ]
  },
  {
   "cell_type": "code",
   "execution_count": 9,
   "metadata": {},
   "outputs": [
    {
     "name": "stdout",
     "output_type": "stream",
     "text": [
      "[[ 1.93840307e+00  2.31756091e-17  3.87756944e-16 ...  1.56313937e-01\n",
      "   3.73150053e-01 -5.05534202e-18]\n",
      " [ 2.31756091e-17  1.71531130e+00 -4.58558610e-18 ...  2.39317834e-01\n",
      "   3.15892522e-01  2.35601135e-01]\n",
      " [ 3.87756944e-16 -4.58558610e-18  1.73360783e+00 ... -1.55424753e-01\n",
      "   2.54898202e-01 -1.57144566e-19]\n",
      " ...\n",
      " [ 1.56313937e-01  2.39317834e-01 -1.55424753e-01 ...  1.69875284e+00\n",
      "   1.95827124e-18  7.08108233e-17]\n",
      " [ 3.73150053e-01  3.15892522e-01  2.54898202e-01 ...  1.95827124e-18\n",
      "   1.78427888e+00 -1.71804576e-18]\n",
      " [-5.05534202e-18  2.35601135e-01 -1.57144566e-19 ...  7.08108233e-17\n",
      "  -1.71804576e-18  1.79926105e+00]]\n",
      "=========================\n",
      "=========================\n",
      "=========================\n",
      "=========================\n",
      "=========================\n",
      "=========================\n",
      "=========================\n",
      "=========================\n",
      "=========================\n",
      "=========================\n",
      "=========================\n",
      "=========================\n",
      "=========================\n",
      "=========================\n",
      "=========================\n",
      "=========================\n",
      "=========================\n",
      "=========================\n",
      "=========================\n",
      "=========================\n",
      "=========================\n",
      "=========================\n",
      "=========================\n",
      "=========================\n",
      "=========================\n",
      "=========================\n",
      "=========================\n",
      "=========================\n",
      "=========================\n",
      "=========================\n",
      "=========================\n",
      "=========================\n",
      "=========================\n",
      "=========================\n",
      "=========================\n",
      "=========================\n",
      "=========================\n",
      "=========================\n",
      "=========================\n",
      "=========================\n",
      "=========================\n",
      "=========================\n",
      "=========================\n",
      "=========================\n",
      "=========================\n",
      "=========================\n",
      "=========================\n",
      "=========================\n",
      "=========================\n",
      "=========================\n",
      "=========================\n",
      "=========================\n",
      "=========================\n",
      "=========================\n",
      "=========================\n",
      "=========================\n",
      "=========================\n",
      "=========================\n",
      "=========================\n",
      "=========================\n",
      "=========================\n",
      "=========================\n",
      "=========================\n",
      "=========================\n",
      "=========================\n",
      "=========================\n",
      "=========================\n",
      "=========================\n",
      "=========================\n",
      "=========================\n",
      "=========================\n",
      "=========================\n",
      "=========================\n",
      "=========================\n",
      "=========================\n",
      "=========================\n",
      "=========================\n",
      "=========================\n",
      "=========================\n",
      "=========================\n",
      "=========================\n",
      "=========================\n",
      "=========================\n",
      "=========================\n",
      "=========================\n",
      "=========================\n",
      "=========================\n",
      "=========================\n",
      "=========================\n",
      "=========================\n",
      "=========================\n",
      "=========================\n",
      "=========================\n",
      "=========================\n",
      "=========================\n",
      "=========================\n",
      "=========================\n",
      "=========================\n",
      "=========================\n",
      "=========================\n",
      "=========================\n",
      "=========================\n",
      "=========================\n",
      "=========================\n",
      "=========================\n",
      "=========================\n",
      "=========================\n",
      "=========================\n",
      "=========================\n",
      "=========================\n",
      "=========================\n",
      "=========================\n",
      "=========================\n",
      "=========================\n",
      "=========================\n",
      "=========================\n",
      "=========================\n",
      "=========================\n",
      "=========================\n",
      "=========================\n",
      "=========================\n",
      "=========================\n",
      "=========================\n",
      "=========================\n",
      "=========================\n",
      "=========================\n",
      "Energy_next > energy\n",
      "funm result may be inaccurate, approximate err = 1\n"
     ]
    }
   ],
   "source": [
    "# Define path to H and S matrices\n",
    "H_16= mmread(matrices_path + \"16_H.mtx\").toarray()\n",
    "S_16 = mmread(matrices_path + \"16_S.mtx\").toarray()\n",
    "print(S_16 @ S_16.conj().T)\n",
    "\n",
    "# Define num_electrons and beta\n",
    "num_electrons = 32\n",
    "beta = 1000\n",
    "\n",
    "# Run method\n",
    "gc_16 = apply_method(H_16, S_16, num_electrons, beta, 1e-2)\n",
    "ferm_exact_16 = get_exact(H_16, S_16, num_electrons, gc_16.beta, gc_16.mu)"
   ]
  },
  {
   "cell_type": "code",
   "execution_count": 10,
   "metadata": {},
   "outputs": [
    {
     "name": "stdout",
     "output_type": "stream",
     "text": [
      "141.20232382837696\n"
     ]
    },
    {
     "data": {
      "image/png": "[encoded data removed]",
      "text/plain": [
       "<Figure size 432x288 with 1 Axes>"
      ]
     },
     "metadata": {
      "needs_background": "light"
     },
     "output_type": "display_data"
    },
    {
     "data": {
      "image/png": "[encoded data removed]",
      "text/plain": [
       "<Figure size 432x288 with 1 Axes>"
      ]
     },
     "metadata": {
      "needs_background": "light"
     },
     "output_type": "display_data"
    },
    {
     "data": {
      "image/png": "[encoded data removed]",
      "text/plain": [
       "<Figure size 432x288 with 1 Axes>"
      ]
     },
     "metadata": {
      "needs_background": "light"
     },
     "output_type": "display_data"
    },
    {
     "data": {
      "image/png": "[encoded data removed]",
      "text/plain": [
       "<Figure size 432x288 with 1 Axes>"
      ]
     },
     "metadata": {
      "needs_background": "light"
     },
     "output_type": "display_data"
    },
    {
     "data": {
      "image/png": "[encoded data removed]",
      "text/plain": [
       "<Figure size 432x288 with 1 Axes>"
      ]
     },
     "metadata": {
      "needs_background": "light"
     },
     "output_type": "display_data"
    },
    {
     "data": {
      "image/png": "[encoded data removed]",
      "text/plain": [
       "<Figure size 432x288 with 1 Axes>"
      ]
     },
     "metadata": {
      "needs_background": "light"
     },
     "output_type": "display_data"
    },
    {
     "data": {
      "image/png": "[encoded data removed]",
      "text/plain": [
       "<Figure size 432x288 with 1 Axes>"
      ]
     },
     "metadata": {
      "needs_background": "light"
     },
     "output_type": "display_data"
    },
    {
     "data": {
      "image/png": "[encoded data removed]",
      "text/plain": [
       "<Figure size 432x288 with 1 Axes>"
      ]
     },
     "metadata": {
      "needs_background": "light"
     },
     "output_type": "display_data"
    }
   ],
   "source": [
    "plot_results_fd_vs_gc(num_electrons, ferm_exact_16, gc_16)"
   ]
  },
  {
   "cell_type": "code",
   "execution_count": 11,
   "metadata": {},
   "outputs": [
    {
     "name": "stdout",
     "output_type": "stream",
     "text": [
      "=========================\n",
      "=========================\n",
      "=========================\n",
      "=========================\n",
      "=========================\n",
      "=========================\n",
      "=========================\n",
      "=========================\n",
      "=========================\n",
      "=========================\n",
      "=========================\n",
      "=========================\n",
      "=========================\n",
      "=========================\n",
      "=========================\n",
      "=========================\n",
      "=========================\n",
      "=========================\n",
      "=========================\n",
      "=========================\n",
      "=========================\n",
      "=========================\n",
      "=========================\n",
      "=========================\n",
      "=========================\n",
      "=========================\n",
      "=========================\n",
      "=========================\n",
      "=========================\n",
      "=========================\n",
      "=========================\n",
      "=========================\n",
      "=========================\n",
      "=========================\n",
      "=========================\n",
      "=========================\n",
      "=========================\n",
      "=========================\n",
      "=========================\n",
      "=========================\n",
      "=========================\n",
      "=========================\n",
      "=========================\n",
      "=========================\n",
      "=========================\n",
      "=========================\n",
      "=========================\n",
      "=========================\n",
      "=========================\n",
      "=========================\n",
      "=========================\n",
      "=========================\n",
      "=========================\n",
      "=========================\n",
      "=========================\n",
      "=========================\n",
      "=========================\n",
      "=========================\n",
      "=========================\n",
      "=========================\n",
      "=========================\n",
      "=========================\n",
      "=========================\n",
      "=========================\n",
      "=========================\n",
      "=========================\n",
      "=========================\n",
      "=========================\n",
      "=========================\n",
      "=========================\n",
      "=========================\n",
      "=========================\n",
      "=========================\n",
      "=========================\n",
      "=========================\n",
      "=========================\n",
      "=========================\n",
      "=========================\n",
      "=========================\n",
      "=========================\n",
      "=========================\n",
      "=========================\n",
      "=========================\n",
      "=========================\n",
      "=========================\n",
      "=========================\n",
      "=========================\n",
      "=========================\n",
      "=========================\n",
      "=========================\n",
      "=========================\n",
      "=========================\n",
      "=========================\n",
      "=========================\n",
      "=========================\n",
      "=========================\n",
      "=========================\n",
      "=========================\n",
      "=========================\n",
      "=========================\n",
      "=========================\n",
      "=========================\n",
      "=========================\n",
      "=========================\n",
      "=========================\n",
      "=========================\n",
      "=========================\n",
      "=========================\n",
      "=========================\n",
      "=========================\n",
      "=========================\n",
      "=========================\n",
      "=========================\n",
      "=========================\n",
      "=========================\n",
      "=========================\n",
      "=========================\n",
      "=========================\n",
      "=========================\n",
      "=========================\n",
      "=========================\n",
      "=========================\n",
      "=========================\n",
      "=========================\n",
      "=========================\n",
      "=========================\n",
      "=========================\n",
      "=========================\n",
      "=========================\n",
      "=========================\n",
      "=========================\n",
      "=========================\n",
      "=========================\n",
      "=========================\n",
      "=========================\n",
      "=========================\n",
      "=========================\n",
      "=========================\n",
      "=========================\n",
      "=========================\n",
      "=========================\n",
      "=========================\n",
      "=========================\n",
      "=========================\n",
      "=========================\n",
      "=========================\n",
      "Energy_next > energy\n"
     ]
    },
    {
     "data": {
      "text/plain": [
       "array([[ 5.40015804e-01+0.j, -2.61313430e-08+0.j, -2.26594969e-08+0.j,\n",
       "        ...,  1.16721902e-04+0.j,  1.01771936e-01+0.j,\n",
       "         1.01946790e-06+0.j],\n",
       "       [-2.10026994e-09+0.j,  2.76568711e-01+0.j,  1.25748267e-08+0.j,\n",
       "        ...,  2.73784534e-02+0.j,  2.74825503e-05+0.j,\n",
       "         5.39677847e-02+0.j],\n",
       "       [-1.76939924e-09+0.j, -1.40723696e-09+0.j,  2.56794767e-01+0.j,\n",
       "        ..., -3.00087696e-02+0.j, -7.47049647e-07+0.j,\n",
       "        -1.01449234e-07+0.j],\n",
       "       ...,\n",
       "       [ 6.54857112e-05+0.j,  2.13362666e-02+0.j, -2.26274977e-02+0.j,\n",
       "        ...,  2.34290037e-02+0.j, -5.60195832e-07+0.j,\n",
       "        -2.52839278e-07+0.j],\n",
       "       [ 6.34537862e-02+0.j,  1.95422450e-05+0.j,  1.41343103e-08+0.j,\n",
       "        ..., -1.27091599e-09+0.j,  7.15620190e-02+0.j,\n",
       "         1.83028273e-08+0.j],\n",
       "       [-3.54516598e-10+0.j,  4.56969376e-02+0.j,  4.73888586e-09+0.j,\n",
       "        ...,  7.39060304e-09+0.j,  6.63479557e-07+0.j,\n",
       "         1.27641054e-01+0.j]])"
      ]
     },
     "execution_count": 11,
     "metadata": {},
     "output_type": "execute_result"
    }
   ],
   "source": [
    "# Check sqrt method\n",
    "core_spec = linalg.eigvalsh(H_16, S_16)\n",
    "index = int(num_electrons / 2)\n",
    "mu = (core_spec[index] + core_spec[index - 1]) / 2\n",
    "\n",
    "dbeta = beta / 10000\n",
    "\n",
    "sqrt_gc = CAdaptive_GC_RK4_sqrt(ovlp=S_16, H=H_16, mu=mu, dbeta=dbeta, epsilon=1e-2)\n",
    "sqrt_gc.propagate(beta)"
   ]
  },
  {
   "cell_type": "code",
   "execution_count": 12,
   "metadata": {},
   "outputs": [
    {
     "data": {
      "text/plain": [
       "True"
      ]
     },
     "execution_count": 12,
     "metadata": {},
     "output_type": "execute_result"
    }
   ],
   "source": [
    "np.allclose(sqrt_gc.inv_sqrt_ovlp.imag, 0)"
   ]
  },
  {
   "cell_type": "code",
   "execution_count": 13,
   "metadata": {},
   "outputs": [
    {
     "name": "stdout",
     "output_type": "stream",
     "text": [
      "(-12.261961435918536+0j)\n",
      "-12.254476959301918\n"
     ]
    }
   ],
   "source": [
    "print(sqrt_gc.energy_vals[-1])\n",
    "print(gc_16.energy_vals[-1])"
   ]
  },
  {
   "cell_type": "code",
   "execution_count": 15,
   "metadata": {},
   "outputs": [
    {
     "data": {
      "text/plain": [
       "<matplotlib.legend.Legend at 0x7fe09f2f6710>"
      ]
     },
     "execution_count": 15,
     "metadata": {},
     "output_type": "execute_result"
    },
    {
     "data": {
      "image/png": "[encoded data removed]",
      "text/plain": [
       "<Figure size 432x288 with 1 Axes>"
      ]
     },
     "metadata": {
      "needs_background": "light"
     },
     "output_type": "display_data"
    }
   ],
   "source": [
    "n = 0\n",
    "plt.plot(linalg.eigvalsh(H_16, S_16)[n:], linalg.eigvalsh(ferm_exact_16, S_16)[n:], 'ks-', label='FD')\n",
    "plt.plot(linalg.eigvalsh(H_16, S_16)[n:], linalg.eigvalsh(gc_16.rho, S_16)[n:], 'r^-', label='Normal')\n",
    "rho = sqrt_gc.omega.conj().T @ sqrt_gc.omega\n",
    "#rho = S_16 @ sqrt_gc.q @ sqrt_gc.q.conj().T\n",
    "plt.plot(linalg.eigvalsh(H_16, S_16)[n:], linalg.eigvalsh(rho, S_16)[n:], 'bo-', label='sqrt')\n",
    "plt.legend(numpoints=1)"
   ]
  },
  {
   "cell_type": "code",
   "execution_count": null,
   "metadata": {},
   "outputs": [],
   "source": [
    "print(\"Q=Q^\\dag: \", np.allclose(sqrt_gc.q.conj().T, sqrt_gc.q))\n",
    "print(\"S^-1H = HS^-1: \", np.allclose(sqrt_gc.inv_ovlp @ H_16, H_16 @ sqrt_gc.inv_ovlp))\n",
    "print(sqrt_gc.ovlp @ sqrt_gc.ovlp.conj().T)\n",
    "print(\"QS = SQ: \", np.allclose(sqrt_gc.q @ sqrt_gc.ovlp, sqrt_gc.ovlp @ sqrt_gc.q))\n",
    "plt.imshow((S_16.conj().T @ S_16).real, origin='lower')\n",
    "plt.colorbar()"
   ]
  },
  {
   "cell_type": "code",
   "execution_count": null,
   "metadata": {},
   "outputs": [],
   "source": []
  },
  {
   "cell_type": "code",
   "execution_count": null,
   "metadata": {},
   "outputs": [],
   "source": [
    "a = 1 / (1 + np.exp(sqrt_gc.beta * (sqrt_gc.inv_ovlp @ H_16 - sqrt_gc.mu * sqrt_gc.identity))) ** 1/2\n",
    "np.allclose(a, sqrt_gc.q)\n",
    "plt.imshow(a.real, origin='lower')\n",
    "plt.colorbar()"
   ]
  },
  {
   "cell_type": "code",
   "execution_count": null,
   "metadata": {},
   "outputs": [],
   "source": [
    "plt.imshow((sqrt_gc.q).real, origin='lower')\n",
    "plt.colorbar()\n",
    "sqrt_gc.q.shape"
   ]
  },
  {
   "cell_type": "code",
   "execution_count": null,
   "metadata": {},
   "outputs": [],
   "source": [
    "# Use successive steps\n",
    "gc_succ_16 = successive(H_16, S_16, 16, 1000)"
   ]
  },
  {
   "cell_type": "code",
   "execution_count": null,
   "metadata": {},
   "outputs": [],
   "source": [
    "successive_plots(num_electrons, gc_16, gc_succ_16)"
   ]
  },
  {
   "cell_type": "markdown",
   "metadata": {},
   "source": [
    "### 54 x 54 case"
   ]
  },
  {
   "cell_type": "code",
   "execution_count": null,
   "metadata": {},
   "outputs": [],
   "source": [
    "# Define path to H and S matrices\n",
    "H_54 = mmread(matrices_path + \"54_H.mtx\").toarray()\n",
    "S_54 = mmread(matrices_path + \"54_S.mtx\").toarray()\n",
    "\n",
    "# Define num_electrons and beta\n",
    "num_electrons = 108\n",
    "\n",
    "# Run method\n",
    "gc_54 = apply_method(H_54, S_54, num_electrons, beta, 1e-2)\n",
    "ferm_exact_54 = get_exact(H_54, S_54, num_electrons, gc_54.beta, gc_54.mu)"
   ]
  },
  {
   "cell_type": "code",
   "execution_count": null,
   "metadata": {},
   "outputs": [],
   "source": [
    "plot_results_fd_vs_gc(num_electrons, ferm_exact_54, gc_54)"
   ]
  },
  {
   "cell_type": "code",
   "execution_count": null,
   "metadata": {},
   "outputs": [],
   "source": [
    "# Use successive steps\n",
    "gc_succ_54 = successive(H_54, S_54, num_electrons, beta)"
   ]
  },
  {
   "cell_type": "code",
   "execution_count": null,
   "metadata": {},
   "outputs": [],
   "source": [
    "successive_plots(num_electrons, gc_54, gc_succ_54)"
   ]
  },
  {
   "cell_type": "markdown",
   "metadata": {},
   "source": [
    "### 128 x 128 case"
   ]
  },
  {
   "cell_type": "code",
   "execution_count": null,
   "metadata": {},
   "outputs": [],
   "source": [
    "# Define path to H and S matrices\n",
    "H_128 = mmread(matrices_path + \"128_H.mtx\").toarray()\n",
    "S_128 = mmread(matrices_path + \"128_S.mtx\").toarray()\n",
    "\n",
    "# Define num_electrons and beta\n",
    "num_electrons = 256\n",
    "\n",
    "# Run method\n",
    "gc_128 = apply_method(H_128, S_128, num_electrons, beta, 1e-2)\n",
    "ferm_exact_128 = get_exact(H_128, S_128, num_electrons, gc_128.beta, gc_128.mu)"
   ]
  },
  {
   "cell_type": "code",
   "execution_count": null,
   "metadata": {},
   "outputs": [],
   "source": [
    "plot_results_fd_vs_gc(num_electrons, ferm_exact_128, gc_128)"
   ]
  },
  {
   "cell_type": "code",
   "execution_count": null,
   "metadata": {},
   "outputs": [],
   "source": [
    "# Use successive steps\n",
    "gc_succ_128 = successive(H_128, S_128, num_electrons, beta)"
   ]
  },
  {
   "cell_type": "code",
   "execution_count": null,
   "metadata": {},
   "outputs": [],
   "source": [
    "successive_plots(num_electrons, gc_128, gc_succ_128)"
   ]
  },
  {
   "cell_type": "markdown",
   "metadata": {},
   "source": [
    "### 250 x 250 case"
   ]
  },
  {
   "cell_type": "code",
   "execution_count": null,
   "metadata": {},
   "outputs": [],
   "source": [
    "# Define path to H and S matrices\n",
    "H_250 = mmread(matrices_path + \"250_H.mtx\").toarray()\n",
    "S_250 = mmread(matrices_path + \"250_S.mtx\").toarray()\n",
    "\n",
    "# Define num_electrons and beta\n",
    "num_electrons = 500\n",
    "\n",
    "# Run method\n",
    "gc_250 = apply_method(H_250, S_250, num_electrons, beta, 1e-2)\n",
    "ferm_exact_250 = get_exact(H_250, S_250, num_electrons, gc_250.beta, gc_250.mu)"
   ]
  },
  {
   "cell_type": "code",
   "execution_count": null,
   "metadata": {},
   "outputs": [],
   "source": [
    "plot_results_fd_vs_gc(num_electrons, ferm_exact_250, gc_250)"
   ]
  },
  {
   "cell_type": "code",
   "execution_count": null,
   "metadata": {},
   "outputs": [],
   "source": [
    "# Use successive steps\n",
    "gc_succ_250 = successive(H_250, S_250, num_electrons, beta)"
   ]
  },
  {
   "cell_type": "code",
   "execution_count": null,
   "metadata": {},
   "outputs": [],
   "source": [
    "successive_plots(num_electrons, gc_250, gc_succ_250)"
   ]
  },
  {
   "cell_type": "code",
   "execution_count": null,
   "metadata": {},
   "outputs": [],
   "source": [
    "x = [1, 2, 3, 4]\n",
    "y = [len(gc_16.energy_vals), len(gc_54.energy_vals), len(gc_128.energy_vals), \\\n",
    "     len(gc_250.energy_vals)]\n",
    "ax = plt.subplot()\n",
    "ax.bar(x, y)\n",
    "ax.set_ylabel(\"Number of Steps\")\n",
    "ax.set_xticklabels(['16', '54', '128', '250'])\n",
    "ax.set_xticks(x)\n",
    "#ax.set_xlabel(\"Num atoms\")\n",
    "#plt.title(\"GC Steps vs Num Atoms\")\n",
    "plt.savefig(\"gc_steps_vs_size.png\", format='png', dpi=300)"
   ]
  },
  {
   "cell_type": "code",
   "execution_count": null,
   "metadata": {},
   "outputs": [],
   "source": []
  }
 ],
 "metadata": {
  "kernelspec": {
   "display_name": "Python 3",
   "language": "python",
   "name": "python3"
  },
  "language_info": {
   "codemirror_mode": {
    "name": "ipython",
    "version": 3
   },
   "file_extension": ".py",
   "mimetype": "text/x-python",
   "name": "python",
   "nbconvert_exporter": "python",
   "pygments_lexer": "ipython3",
   "version": "3.7.6"
  }
 },
 "nbformat": 4,
 "nbformat_minor": 4
}
