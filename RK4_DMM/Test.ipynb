{
 "cells": [
  {
   "cell_type": "code",
   "execution_count": 48,
   "metadata": {},
   "outputs": [],
   "source": [
    "import numpy as np\n",
    "from scipy import linalg\n",
    "import matplotlib.pyplot as plt\n",
    "\n",
    "H = np.random.random((10,10)) + 1j*np.random.random((10, 10))\n",
    "S = np.random.random((10,10)) + 1j*np.random.random((10,10))\n",
    "S = S @ S.conj().T"
   ]
  },
  {
   "cell_type": "code",
   "execution_count": 5,
   "metadata": {},
   "outputs": [
    {
     "name": "stdout",
     "output_type": "stream",
     "text": [
      "[-19.89295147  -2.35885972  -0.87668085  -0.05656014   0.07001781\n",
      "   0.26737719   0.45715643   1.7732613    3.2956598   26.79776922]\n"
     ]
    }
   ],
   "source": [
    "print(linalg.eigvalsh(H,S))"
   ]
  },
  {
   "cell_type": "code",
   "execution_count": 10,
   "metadata": {},
   "outputs": [
    {
     "name": "stdout",
     "output_type": "stream",
     "text": [
      "[1. 1. 1. 1. 1. 1. 1. 1. 1. 1.]\n"
     ]
    }
   ],
   "source": [
    "print(linalg.eigvalsh(S,S))"
   ]
  },
  {
   "cell_type": "code",
   "execution_count": 7,
   "metadata": {},
   "outputs": [],
   "source": [
    "P = S @ linalg.funm(linalg.inv(S) @ H, lambda _: _ <= 0)"
   ]
  },
  {
   "cell_type": "code",
   "execution_count": 8,
   "metadata": {},
   "outputs": [
    {
     "data": {
      "text/plain": [
       "array([-9.59446495, -3.23223301, -1.81180545, -0.16675478, -0.02886736,\n",
       "        0.37043052,  0.62686969,  1.71027372,  2.66756284, 22.54385379])"
      ]
     },
     "execution_count": 8,
     "metadata": {},
     "output_type": "execute_result"
    }
   ],
   "source": [
    "linalg.eigvalsh(P,S)"
   ]
  },
  {
   "cell_type": "code",
   "execution_count": 11,
   "metadata": {},
   "outputs": [],
   "source": [
    "rho = linalg.funm(H, lambda _: _ <= 0)"
   ]
  },
  {
   "cell_type": "code",
   "execution_count": 12,
   "metadata": {},
   "outputs": [
    {
     "data": {
      "text/plain": [
       "array([-2.73776372e+00, -9.84849739e-01, -9.26110429e-02, -1.76836176e-03,\n",
       "        8.46397342e-02,  2.88908283e-01,  6.19743971e-01,  2.73469431e+00,\n",
       "        5.66886786e+00,  1.15243709e+01])"
      ]
     },
     "execution_count": 12,
     "metadata": {},
     "output_type": "execute_result"
    }
   ],
   "source": [
    "linalg.eigvalsh(rho, S)"
   ]
  },
  {
   "cell_type": "code",
   "execution_count": 13,
   "metadata": {},
   "outputs": [
    {
     "data": {
      "text/plain": [
       "array([-1.07824027, -0.52291026, -0.11562059, -0.02770656,  0.18906673,\n",
       "        0.41458723,  0.9250314 ,  1.13417851,  1.37474733,  1.70686648])"
      ]
     },
     "execution_count": 13,
     "metadata": {},
     "output_type": "execute_result"
    }
   ],
   "source": [
    "linalg.eigvalsh(rho)"
   ]
  },
  {
   "cell_type": "code",
   "execution_count": 14,
   "metadata": {},
   "outputs": [],
   "source": [
    "Pp = S @ linalg.funm(linalg.inv(S) @ H, lambda _: 1/(1+np.exp(10*(_ - 0))))"
   ]
  },
  {
   "cell_type": "code",
   "execution_count": 15,
   "metadata": {},
   "outputs": [
    {
     "data": {
      "text/plain": [
       "array([-1.73610783e+01, -4.11867962e+00, -1.91836290e+00, -3.33600001e-01,\n",
       "        3.48004173e-02,  2.68562554e-01,  8.35287149e-01,  3.11931324e+00,\n",
       "        4.93447946e+00,  4.17762659e+01])"
      ]
     },
     "execution_count": 15,
     "metadata": {},
     "output_type": "execute_result"
    }
   ],
   "source": [
    "linalg.eigvalsh(Pp, S)"
   ]
  },
  {
   "cell_type": "code",
   "execution_count": 16,
   "metadata": {},
   "outputs": [],
   "source": [
    "rhop = linalg.funm(H, lambda _: 1/(1+np.exp(10*(_ - 0))))"
   ]
  },
  {
   "cell_type": "code",
   "execution_count": 17,
   "metadata": {},
   "outputs": [
    {
     "data": {
      "text/plain": [
       "array([-4.06501603e+00, -2.34918819e+00, -1.31598542e-01, -7.28751376e-03,\n",
       "        2.98092797e-02,  3.21151870e-01,  4.39029123e-01,  2.64940210e+00,\n",
       "        6.31502701e+00,  8.43664174e+00])"
      ]
     },
     "execution_count": 17,
     "metadata": {},
     "output_type": "execute_result"
    }
   ],
   "source": [
    "linalg.eigvalsh(rhop, S)"
   ]
  },
  {
   "cell_type": "code",
   "execution_count": 18,
   "metadata": {},
   "outputs": [
    {
     "data": {
      "text/plain": [
       "array([-1.37077651, -0.6509529 , -0.1883501 , -0.0660016 ,  0.09985025,\n",
       "        0.41018872,  0.96393416,  1.12366574,  1.60673219,  2.00329197])"
      ]
     },
     "execution_count": 18,
     "metadata": {},
     "output_type": "execute_result"
    }
   ],
   "source": [
    "linalg.eigvalsh(rhop)"
   ]
  },
  {
   "cell_type": "code",
   "execution_count": 19,
   "metadata": {},
   "outputs": [
    {
     "name": "stdout",
     "output_type": "stream",
     "text": [
      "0.9999999999999578\n",
      "0.9999998715254202\n",
      "0.9997711444770397\n",
      "0.9410835973933537\n",
      "0.22869482753369091\n",
      "0.006385124810924164\n",
      "0.0009676998589416874\n",
      "1.4509376076679102e-07\n",
      "5.719098027616762e-09\n",
      "4.582718504916046e-28\n"
     ]
    }
   ],
   "source": [
    "for eig in linalg.eigvalsh(H):\n",
    "    print(1/(1+np.exp(10*eig)))"
   ]
  },
  {
   "cell_type": "code",
   "execution_count": 49,
   "metadata": {},
   "outputs": [],
   "source": [
    "def fd(H, S, beta, mu):\n",
    "    e, v = linalg.eigh(H, S)\n",
    "    p = 1/(1+np.exp(beta*(e-mu)))\n",
    "    print(p)\n",
    "    return S @ (v * p) @ v.conj().T @ S, p"
   ]
  },
  {
   "cell_type": "code",
   "execution_count": 50,
   "metadata": {},
   "outputs": [
    {
     "name": "stdout",
     "output_type": "stream",
     "text": [
      "[1.00000000e+00 1.00000000e+00 9.99988667e-01 9.27993650e-01\n",
      " 6.50030519e-01 4.22466922e-01 1.25948500e-01 4.78564910e-06\n",
      " 1.60252888e-15 8.32435589e-62]\n"
     ]
    }
   ],
   "source": [
    "rho, p = fd(H,S,10,0)"
   ]
  },
  {
   "cell_type": "code",
   "execution_count": 51,
   "metadata": {},
   "outputs": [
    {
     "data": {
      "text/plain": [
       "[<matplotlib.lines.Line2D at 0x7f8a312b18d0>]"
      ]
     },
     "execution_count": 51,
     "metadata": {},
     "output_type": "execute_result"
    },
    {
     "data": {
      "image/png": "[encoded data removed]",
      "text/plain": [
       "<Figure size 432x288 with 1 Axes>"
      ]
     },
     "metadata": {
      "needs_background": "light"
     },
     "output_type": "display_data"
    }
   ],
   "source": [
    "plt.plot(linalg.eigvalsh(rho,S))\n",
    "plt.plot(p[::-1])"
   ]
  },
  {
   "cell_type": "code",
   "execution_count": null,
   "metadata": {},
   "outputs": [],
   "source": []
  }
 ],
 "metadata": {
  "kernelspec": {
   "display_name": "Python 3",
   "language": "python",
   "name": "python3"
  },
  "language_info": {
   "codemirror_mode": {
    "name": "ipython",
    "version": 3
   },
   "file_extension": ".py",
   "mimetype": "text/x-python",
   "name": "python",
   "nbconvert_exporter": "python",
   "pygments_lexer": "ipython3",
   "version": "3.7.6"
  }
 },
 "nbformat": 4,
 "nbformat_minor": 4
}
