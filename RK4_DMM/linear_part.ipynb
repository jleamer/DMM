{
 "cells": [
  {
   "cell_type": "code",
   "execution_count": 1,
   "metadata": {},
   "outputs": [],
   "source": [
    "# import standard libraries\n",
    "import numpy as np\n",
    "from scipy.io import mmread, mmwrite\n",
    "from scipy import linalg\n",
    "from scipy import sparse\n",
    "from numba import njit\n",
    "import matplotlib.pyplot as plt\n",
    "from pyscf import gto, dft\n",
    "import numpy.ma as ma\n",
    "\n",
    "# import methods for solving from other files\n",
    "import dmm_gcp as gcp\n",
    "import dmm_cp as cp\n",
    "import palser as pals\n",
    "import ntpoly as nt\n",
    "\n",
    "# Note: using np.sum(A * B.T) for matrices A, B is equivalent to Trace(A^dag B)\n"
   ]
  },
  {
   "cell_type": "code",
   "execution_count": 2,
   "metadata": {},
   "outputs": [
    {
     "name": "stdout",
     "output_type": "stream",
     "text": [
      "converged SCF energy = -100.291327706251\n",
      "TODO: total wave-function symmetry for Coov\n",
      "occupancy for each irrep:     A1  E1x  E1y\n",
      "                               3    1    1\n",
      "**** MO energy ****\n",
      "MO #1 (A1 #1), energy= -24.2331671128069 occ= 2\n",
      "MO #2 (A1 #2), energy= -1.0272972299461 occ= 2\n",
      "MO #3 (A1 #3), energy= -0.426131190105551 occ= 2\n",
      "MO #4 (E1x #1), energy= -0.289938520612842 occ= 2\n",
      "MO #5 (E1y #1), energy= -0.289938520612843 occ= 2\n",
      "MO #6 (A1 #4), energy= -0.03495591358964 occ= 0\n",
      "MO #7 (A1 #5), energy= 0.664675049298744 occ= 0\n",
      "MO #8 (E1x #2), energy= 1.1305709354121 occ= 0\n",
      "MO #9 (E1y #2), energy= 1.1305709354121 occ= 0\n",
      "MO #10 (A1 #6), energy= 1.24759809513673 occ= 0\n",
      "MO #11 (A1 #7), energy= 1.57280313485608 occ= 0\n",
      " ** Mulliken atomic charges  **\n",
      "charge of  0H =      0.35670\n",
      "charge of  1F =     -0.35670\n",
      "Dipole moment(X, Y, Z, Debye):  0.00000,  0.00000, -2.17040\n",
      "Total dft energy: -100.2913277062507\n",
      "Chemical Potential:  -0.1624472171012414\n",
      "DFT trace:  7.124009715257127\n",
      "Core eigvals:  [-46.50646773 -16.8973916  -13.08130521 -12.55691054 -12.55691054\n",
      "  -5.80523118  -2.61124539  -2.61124539  -1.83429133  -1.01492933\n",
      "  -0.48221465]\n"
     ]
    },
    {
     "data": {
      "text/plain": [
       "<matplotlib.colorbar.Colorbar at 0x7f7b941fe6d0>"
      ]
     },
     "execution_count": 2,
     "metadata": {},
     "output_type": "execute_result"
    },
    {
     "data": {
      "image/png": "[encoded data removed]",
      "text/plain": [
       "<Figure size 432x288 with 2 Axes>"
      ]
     },
     "metadata": {
      "needs_background": "light"
     },
     "output_type": "display_data"
    }
   ],
   "source": [
    "'''\n",
    "A simple example to run DFT calculation.\n",
    "'''\n",
    "\n",
    "# PBE Hydrogen flouride in a 6-31G basis set.\n",
    "mol = gto.Mole()\n",
    "mol.build(\n",
    "    atom = 'H 0 0 0; F 0 0 1.1',  # in Angstrom\n",
    "    basis = '631g',\n",
    "    symmetry = True,\n",
    ")\n",
    "\n",
    "mf = dft.RKS(mol)\n",
    "#mf.xc = 'blyp' # shorthand for b88,lyp\n",
    "mf.xc = 'pbe' # shorthand for pbe,pbe\n",
    "#mf.xc = 'lda,vwn_rpa'\n",
    "#mf.xc = 'pbe0'\n",
    "#mf.xc = 'b3lyp'\n",
    "\n",
    "# this where self-content diagonalization happens\n",
    "mf.kernel()\n",
    "\n",
    "# Orbital energies, Mulliken population etc.\n",
    "mf.analyze()\n",
    "\n",
    "# Get the converged density matrix (it generates the density matrix)\n",
    "dm = mf.make_rdm1()\n",
    "mmwrite('dft_density.mtx', sparse.coo_matrix(dm))\n",
    "\n",
    "\n",
    "# Get the nuclear-nuclear repulsion energy\n",
    "e_nuc = mf.energy_nuc()\n",
    "# Get the 'core' hamiltonian, corresponding to kinetic energy and e-nuclear repulsion terms\n",
    "h1e = mf.get_hcore()\n",
    "#mmwrite('dft_hcore.mtx', sparse.coo_matrix(h1e))\n",
    "e1 = np.einsum('ij,ji', h1e, dm) # Compute the kinetic + e-nuclear repulsion energy\n",
    "# Get the kohn-sham potential, including the Hartree coulomb repulsion and exchange-correlation potential, integrated on a grid\n",
    "vhf = mf.get_veff(mf.mol, dm)\n",
    "#print(type(vhf))\n",
    "#print(vhf)\n",
    "# Total energy\n",
    "tot_e = e1 + vhf.ecoul + vhf.exc + e_nuc    # Total energy is sum of terms\n",
    "print('Total dft energy: {}'.format(tot_e))\n",
    "\n",
    "# chemical potential\n",
    "index = int(mol.nelectron/2)\n",
    "dft_mu = (mf.mo_energy[index] + mf.mo_energy[index - 1]) / 2.\n",
    "print('Chemical Potential: ', str(dft_mu))\n",
    "\n",
    "# get the overlap matrix and print to file\n",
    "ovlp = mf.get_ovlp()\n",
    "#mmwrite('dft_overlap.mtx', sparse.coo_matrix(ovlp))\n",
    "\n",
    "# Full fock matrix is sum of h1e and vhf\n",
    "fock = h1e + vhf\n",
    "\n",
    "# Get whole fock matrix directly corresponding to this density, without computing individual components\n",
    "fock_direct = mf.get_fock(dm=dm)\n",
    "\n",
    "# Check that ways to get the fock matrix are the same\n",
    "assert(np.allclose(fock_direct,fock))\n",
    "\n",
    "print(\"DFT trace: \", dm.trace())\n",
    "print(\"Core eigvals: \", linalg.eigvalsh(h1e))\n",
    "core_spect = linalg.eigvalsh(h1e)\n",
    "num_electrons = 10\n",
    "index = int(num_electrons/2)\n",
    "our_mu = (core_spect[index] + core_spect[index-1])/2\n",
    "\n",
    "plt.imshow(dm.real)\n",
    "plt.title(\"DFT by Pyscf\")\n",
    "plt.xlabel(\"i\")\n",
    "plt.ylabel(\"j\")\n",
    "plt.colorbar()"
   ]
  },
  {
   "cell_type": "code",
   "execution_count": 3,
   "metadata": {},
   "outputs": [
    {
     "name": "stdout",
     "output_type": "stream",
     "text": [
      "funm result may be inaccurate, approximate err = 1\n"
     ]
    }
   ],
   "source": [
    "def FD(H, S, beta, mu):\n",
    "    E, v = linalg.eigh(H, S)\n",
    "    P = 1/(1+np.exp(beta*(E-mu)))\n",
    "    return S @ v  @ np.diag(P) @ v.conj().T @ S\n",
    "\n",
    "beta = .1\n",
    "P = FD(h1e, ovlp, beta, our_mu)\n",
    "inv_ovlp = linalg.inv(ovlp)\n",
    "testP = ovlp @ linalg.funm(inv_ovlp @ h1e, lambda _ : np.exp(-beta*(_ - our_mu))/(1+np.exp(-beta*(_ - our_mu))))"
   ]
  },
  {
   "cell_type": "code",
   "execution_count": 4,
   "metadata": {},
   "outputs": [
    {
     "data": {
      "text/plain": [
       "<matplotlib.legend.Legend at 0x7f7b940dc890>"
      ]
     },
     "execution_count": 4,
     "metadata": {},
     "output_type": "execute_result"
    },
    {
     "data": {
      "image/png": "[encoded data removed]",
      "text/plain": [
       "<Figure size 432x288 with 1 Axes>"
      ]
     },
     "metadata": {
      "needs_background": "light"
     },
     "output_type": "display_data"
    }
   ],
   "source": [
    "num_beta = 1000\n",
    "dbeta = beta/num_beta\n",
    "\n",
    "num_electrons = 10\n",
    "identity = np.eye(h1e.shape[0])\n",
    "dmm_gcp = gcp.rk4(gcp.rhs, ovlp/2, dbeta, h1e, inv_ovlp, identity, our_mu, num_beta)\n",
    "\n",
    "plt.plot(linalg.eigvalsh(dmm_gcp, ovlp), 'k--', label=\"DMM\")\n",
    "plt.plot(linalg.eigvalsh(P, ovlp), 'r*-', label=\"exact\")\n",
    "plt.plot(linalg.eigvalsh(testP, ovlp), 'bx-', label=\"funm\")\n",
    "plt.legend(numpoints=1)"
   ]
  },
  {
   "cell_type": "code",
   "execution_count": 5,
   "metadata": {},
   "outputs": [
    {
     "name": "stdout",
     "output_type": "stream",
     "text": [
      "NTPoly Trace:  0.0\n"
     ]
    },
    {
     "data": {
      "text/plain": [
       "<matplotlib.colorbar.Colorbar at 0x7f7b94007f90>"
      ]
     },
     "execution_count": 5,
     "metadata": {},
     "output_type": "execute_result"
    },
    {
     "data": {
      "image/png": "[encoded data removed]",
      "text/plain": [
       "<Figure size 432x288 with 2 Axes>"
      ]
     },
     "metadata": {
      "needs_background": "light"
     },
     "output_type": "display_data"
    }
   ],
   "source": [
    "# NTPoly Solver\n",
    "ntpoly_rho = nt.NTPoly_cp(h1e, ovlp, 10)\n",
    "print(\"NTPoly Trace: \", ntpoly_rho.trace())\n",
    "\n",
    "plt.imshow(ntpoly_rho.real)\n",
    "plt.title(\"NTPoly\")\n",
    "plt.xlabel(\"i\")\n",
    "plt.ylabel(\"j\")\n",
    "plt.colorbar()"
   ]
  },
  {
   "cell_type": "code",
   "execution_count": 6,
   "metadata": {},
   "outputs": [
    {
     "name": "stdout",
     "output_type": "stream",
     "text": [
      "GCP steps:  14\n",
      "Palser GCP trace:  (4.999999999999999+0j)\n",
      "CP steps:  43\n",
      "Palser CP trace:  (10+0j)\n"
     ]
    },
    {
     "data": {
      "text/plain": [
       "<matplotlib.colorbar.Colorbar at 0x7f7b7c6cb710>"
      ]
     },
     "execution_count": 6,
     "metadata": {},
     "output_type": "execute_result"
    },
    {
     "data": {
      "image/png": "[encoded data removed]",
      "text/plain": [
       "<Figure size 432x288 with 2 Axes>"
      ]
     },
     "metadata": {
      "needs_background": "light"
     },
     "output_type": "display_data"
    },
    {
     "data": {
      "image/png": "[encoded data removed]",
      "text/plain": [
       "<Figure size 432x288 with 2 Axes>"
      ]
     },
     "metadata": {
      "needs_background": "light"
     },
     "output_type": "display_data"
    }
   ],
   "source": [
    "# Palser solver\n",
    "mu = our_mu\n",
    "palser_gcp_rho = pals.gcp(mu, h1e, 1000)\n",
    "print(\"Palser GCP trace: \", palser_gcp_rho.trace())\n",
    "palser_cp_rho = pals.cp(10, h1e, 1000)\n",
    "print(\"Palser CP trace: \", palser_cp_rho.trace())\n",
    "\n",
    "plt.figure(1)\n",
    "plt.imshow(palser_gcp_rho.real)\n",
    "plt.title(\"Palser GCP\")\n",
    "plt.xlabel(\"i\")\n",
    "plt.ylabel(\"j\")\n",
    "plt.colorbar()\n",
    "\n",
    "plt.figure(2)\n",
    "plt.imshow(palser_cp_rho.real)\n",
    "plt.title(\"Palser CP\")\n",
    "plt.xlabel(\"i\")\n",
    "plt.ylabel(\"j\")\n",
    "plt.colorbar()"
   ]
  },
  {
   "cell_type": "code",
   "execution_count": 7,
   "metadata": {},
   "outputs": [
    {
     "name": "stdout",
     "output_type": "stream",
     "text": [
      "DMM GCP trace:  5.754093965067291\n"
     ]
    },
    {
     "ename": "TypeError",
     "evalue": "rk4() missing 4 required positional arguments: 'num_electrons', 'ovlp', 'mu', and 'beta'",
     "output_type": "error",
     "traceback": [
      "\u001b[0;31m---------------------------------------------------------------------------\u001b[0m",
      "\u001b[0;31mTypeError\u001b[0m                                 Traceback (most recent call last)",
      "\u001b[0;32m<ipython-input-7-db7435ffa4ca>\u001b[0m in \u001b[0;36m<module>\u001b[0;34m\u001b[0m\n\u001b[1;32m     10\u001b[0m \u001b[0;34m\u001b[0m\u001b[0m\n\u001b[1;32m     11\u001b[0m \u001b[0mcp_init_rho\u001b[0m \u001b[0;34m=\u001b[0m \u001b[0mnum_electrons\u001b[0m\u001b[0;34m/\u001b[0m\u001b[0movlp\u001b[0m\u001b[0;34m.\u001b[0m\u001b[0mtrace\u001b[0m\u001b[0;34m(\u001b[0m\u001b[0;34m)\u001b[0m \u001b[0;34m*\u001b[0m \u001b[0movlp\u001b[0m\u001b[0;34m\u001b[0m\u001b[0;34m\u001b[0m\u001b[0m\n\u001b[0;32m---> 12\u001b[0;31m \u001b[0mdmm_cp\u001b[0m \u001b[0;34m=\u001b[0m \u001b[0mcp\u001b[0m\u001b[0;34m.\u001b[0m\u001b[0mrk4\u001b[0m\u001b[0;34m(\u001b[0m\u001b[0mcp\u001b[0m\u001b[0;34m.\u001b[0m\u001b[0mrhs\u001b[0m\u001b[0;34m,\u001b[0m \u001b[0mcp_init_rho\u001b[0m\u001b[0;34m,\u001b[0m \u001b[0mdbeta\u001b[0m\u001b[0;34m,\u001b[0m \u001b[0mh1e\u001b[0m\u001b[0;34m,\u001b[0m \u001b[0minv_ovlp\u001b[0m\u001b[0;34m,\u001b[0m \u001b[0midentity\u001b[0m\u001b[0;34m,\u001b[0m \u001b[0;36m1000\u001b[0m\u001b[0;34m)\u001b[0m\u001b[0;34m\u001b[0m\u001b[0;34m\u001b[0m\u001b[0m\n\u001b[0m\u001b[1;32m     13\u001b[0m \u001b[0mprint\u001b[0m\u001b[0;34m(\u001b[0m\u001b[0;34m\"DMM CP trace: \"\u001b[0m\u001b[0;34m,\u001b[0m \u001b[0mdmm_cp\u001b[0m\u001b[0;34m.\u001b[0m\u001b[0mtrace\u001b[0m\u001b[0;34m(\u001b[0m\u001b[0;34m)\u001b[0m\u001b[0;34m)\u001b[0m\u001b[0;34m\u001b[0m\u001b[0;34m\u001b[0m\u001b[0m\n\u001b[1;32m     14\u001b[0m \u001b[0;34m\u001b[0m\u001b[0m\n",
      "\u001b[0;31mTypeError\u001b[0m: rk4() missing 4 required positional arguments: 'num_electrons', 'ovlp', 'mu', and 'beta'"
     ]
    }
   ],
   "source": [
    "# DMM Solvers\n",
    "dbeta = 0.003\n",
    "num_electrons = 10\n",
    "identity = np.identity(h1e.shape[0])\n",
    "inv_ovlp = linalg.inv(ovlp)\n",
    "gcp_init_rho = ovlp/2\n",
    "\n",
    "dmm_gcp = gcp.rk4(gcp.rhs, gcp_init_rho, dbeta, h1e, inv_ovlp, identity, mu, 1000)\n",
    "print(\"DMM GCP trace: \", dmm_gcp.trace())\n",
    "\n",
    "cp_init_rho = num_electrons/ovlp.trace() * ovlp\n",
    "dmm_cp = cp.rk4(cp.rhs, cp_init_rho, dbeta, h1e, inv_ovlp, identity, 1000)\n",
    "print(\"DMM CP trace: \", dmm_cp.trace())\n",
    "\n",
    "plt.figure(1)\n",
    "plt.imshow(dmm_gcp.real)\n",
    "plt.title(\"DMM GCP\")\n",
    "plt.xlabel(\"i\")\n",
    "plt.ylabel(\"j\")\n",
    "plt.colorbar()\n",
    "\n",
    "plt.figure(2)\n",
    "plt.imshow(dmm_cp.real)\n",
    "plt.title(\"DMM CP\")\n",
    "plt.xlabel(\"i\")\n",
    "plt.ylabel(\"j\")\n",
    "plt.colorbar()"
   ]
  },
  {
   "cell_type": "code",
   "execution_count": null,
   "metadata": {},
   "outputs": [],
   "source": [
    "gcp_exact = ovlp @ linalg.funm(inv_ovlp @ h1e, lambda _: _ <= dft_mu)\n",
    "plt.imshow(gcp_exact.real)\n",
    "plt.title(\"GCP Heaviside (Linear)\")\n",
    "plt.colorbar()"
   ]
  },
  {
   "cell_type": "code",
   "execution_count": null,
   "metadata": {},
   "outputs": [],
   "source": [
    "gcp_fermi = ovlp @ linalg.funm(inv_ovlp @ h1e, lambda _: 1/(1+np.exp(1000*dbeta*(_ - mu))))\n",
    "plt.imshow(gcp_fermi)\n",
    "plt.title(\"GCP Fermi-Dirac\")\n",
    "plt.colorbar()"
   ]
  },
  {
   "cell_type": "code",
   "execution_count": null,
   "metadata": {},
   "outputs": [],
   "source": [
    "plt.figure(1)\n",
    "plt.plot(linalg.eigvalsh(gcp_fermi), 'kx-', label=\"FD\")\n",
    "plt.plot(linalg.eigvalsh(palser_gcp_rho), 'r-', label=\"Palser GCP\")\n",
    "plt.plot(linalg.eigvalsh(dmm_gcp), 'b--', label=\"DMM\")\n",
    "plt.plot(linalg.eigvalsh(dm), 'g:', label=\"DFT\")\n",
    "plt.plot(linalg.eigvalsh(gcp_exact), 'p:', label=\"Heav\")\n",
    "plt.legend(numpoints=1)\n",
    "\n",
    "plt.figure(2)\n",
    "plt.plot(linalg.eigvalsh(gcp_fermi), 'kx-', label=\"FD\")\n",
    "plt.plot(linalg.eigvalsh(palser_cp_rho), 'r-', label=\"Palser GCP\")\n",
    "plt.plot(linalg.eigvalsh(dmm_cp), 'b--', label=\"DMM\")\n",
    "plt.plot(linalg.eigvalsh(dm), 'g:', label=\"DFT\")\n",
    "plt.plot(linalg.eigvalsh(gcp_exact), 'p:', label=\"Heav\")\n",
    "plt.legend(numpoints=1)"
   ]
  },
  {
   "cell_type": "code",
   "execution_count": null,
   "metadata": {},
   "outputs": [],
   "source": [
    "func_args = {'h': h1e, 'mf': mf, 'mu': mu, 'ovlp':ovlp, 'inv_ovlp': inv_ovlp}\n",
    "gcp_exact_hv, norm_diff = gcp.aitkens(gcp_init_rho, 50, gcp.steady_linear_single_step, **func_args)\n",
    "\n",
    "plt.figure(1)\n",
    "plt.imshow(gcp_exact_hv)\n",
    "plt.title(\"Exact Aitkens 0 T\")\n",
    "plt.colorbar()\n",
    "\n",
    "plt.figure(2)\n",
    "plt.semilogy(norm_diff, 'x-')\n",
    "\n",
    "cp_exact_hv, norm_diff = gcp.aitkens(cp_init_rho, 50, cp.steady_linear_single_step, **func_args)\n",
    "\n",
    "plt.figure(3)\n",
    "plt.imshow(cp_exact_hv)\n",
    "plt.title(\"Exact Aitkens 0 T\")\n",
    "plt.colorbar()\n",
    "\n",
    "plt.figure(4)\n",
    "plt.semilogy(norm_diff, 'x-')"
   ]
  }
 ],
 "metadata": {
  "kernelspec": {
   "display_name": "Python 3",
   "language": "python",
   "name": "python3"
  },
  "language_info": {
   "codemirror_mode": {
    "name": "ipython",
    "version": 3
   },
   "file_extension": ".py",
   "mimetype": "text/x-python",
   "name": "python",
   "nbconvert_exporter": "python",
   "pygments_lexer": "ipython3",
   "version": "3.7.6"
  }
 },
 "nbformat": 4,
 "nbformat_minor": 4
}
