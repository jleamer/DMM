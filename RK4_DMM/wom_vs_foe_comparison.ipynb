{
 "cells": [
  {
   "cell_type": "markdown",
   "metadata": {},
   "source": [
    "Want to compare WOM to FOE using chebyshev polynomials"
   ]
  },
  {
   "cell_type": "code",
   "execution_count": 1,
   "metadata": {},
   "outputs": [],
   "source": [
    "import numpy as np\n",
    "from numba import njit\n",
    "from scipy import sparse, linalg\n",
    "from scipy.io import mmread, mmwrite\n",
    "from adaptive_step_dmm import CAdaptiveDMM\n",
    "from adaptive_step_DMM_sqrt import CAdaptiveDMMsqrt\n",
    "from adaptive_C import CAdaptive_C_RK4\n",
    "from adaptive_C_sqrt import CAdaptive_C_RK4_sqrt\n",
    "import matplotlib.pyplot as plt\n",
    "import time\n",
    "from sklearn.linear_model import LinearRegression"
   ]
  },
  {
   "cell_type": "code",
   "execution_count": 2,
   "metadata": {},
   "outputs": [],
   "source": [
    "def get_chebyshev(H, I, N):\n",
    "    n = 2\n",
    "    T = [I, H]\n",
    "    while n < N+1:\n",
    "        T_n = 2 * H @ T[n-1] - T[n-2]\n",
    "        T.append(T_n)\n",
    "        n += 1\n",
    "    \n",
    "    return T"
   ]
  },
  {
   "cell_type": "code",
   "execution_count": 3,
   "metadata": {},
   "outputs": [],
   "source": [
    "def calc_ρ(coeffs, chebys):\n",
    "    ρ = coeffs[0] / 2 * chebys[0]\n",
    "    for i in range(1, coeffs.size):\n",
    "        ρ += coeffs[i] * chebys[i]\n",
    "        \n",
    "    return ρ"
   ]
  },
  {
   "cell_type": "code",
   "execution_count": 4,
   "metadata": {},
   "outputs": [],
   "source": [
    "# Set font size of plot elements\n",
    "SMALL_SIZE = 12\n",
    "MEDIUM_SIZE = 14\n",
    "BIGGER_SIZE = 18\n",
    "\n",
    "plt.rc('font', size=SMALL_SIZE)          # controls default text sizes\n",
    "plt.rc('axes', titlesize=SMALL_SIZE)     # fontsize of the axes title\n",
    "plt.rc('axes', labelsize=MEDIUM_SIZE)    # fontsize of the x and y labels\n",
    "plt.rc('xtick', labelsize=SMALL_SIZE)    # fontsize of the tick labels\n",
    "plt.rc('ytick', labelsize=SMALL_SIZE)    # fontsize of the tick labels\n",
    "plt.rc('legend', fontsize=SMALL_SIZE)    # legend fontsize\n",
    "plt.rc('figure', titlesize=BIGGER_SIZE)  # fontsize of the figure title"
   ]
  },
  {
   "cell_type": "code",
   "execution_count": 5,
   "metadata": {},
   "outputs": [],
   "source": [
    "# Define path for matrices\n",
    "matrices_path = \"larger_matrices/\""
   ]
  },
  {
   "cell_type": "code",
   "execution_count": 6,
   "metadata": {},
   "outputs": [],
   "source": [
    "# Load matrices\n",
    "H_16 = mmread(matrices_path + \"16_H.mtx\").toarray()\n",
    "S_16 = mmread(matrices_path + \"16_S.mtx\").toarray()\n",
    "\n",
    "# Save other parameters\n",
    "E_16, V_16 = linalg.eigh(H_16, S_16)\n",
    "\n",
    "# Define num_electrons and beta\n",
    "num_electrons = 3*16\n",
    "nel = 16\n",
    "β = 10\n",
    "dβ = 0.1\n",
    "inv_S = linalg.inv(S_16)\n",
    "inv_sqrt_S = linalg.sqrtm(inv_S)"
   ]
  },
  {
   "cell_type": "markdown",
   "metadata": {},
   "source": [
    "## Fermi Operator Expansion"
   ]
  },
  {
   "cell_type": "code",
   "execution_count": 7,
   "metadata": {},
   "outputs": [],
   "source": [
    "# Scale H so that eigenvalues lie between -1 and 1\n",
    "σ = 2 / (E_16[-1] - E_16[0])\n",
    "τ = (E_16[-1] + E_16[0]) / 2\n",
    "I = np.eye(H_16.shape[0], dtype=complex)\n",
    "H = σ*(H_16 - τ * I)\n",
    "E_16, V_16 = linalg.eigh(H_16, S_16)"
   ]
  },
  {
   "cell_type": "code",
   "execution_count": 8,
   "metadata": {},
   "outputs": [],
   "source": [
    "# Get energy array\n",
    "ϵ = np.linspace(-1, 1, H_16.shape[0])\n",
    "\n",
    "# Define first guess for μ as middle\n",
    "μ = ϵ[int(nel / 2) - 1] + 0.5  * (ϵ[int(nel / 2)] - ϵ[int(nel / 2) - 1])"
   ]
  },
  {
   "cell_type": "code",
   "execution_count": 9,
   "metadata": {},
   "outputs": [],
   "source": [
    "# Get an estimate for the minimum degree needed\n",
    "d = 0\n",
    "f = 1 / (1 + np.exp(β * (ϵ - μ)))\n",
    "p = np.polynomial.chebyshev.Chebyshev.fit(ϵ, f, d)\n",
    "err = np.abs(f - p.linspace(H_16.shape[0])[1])\n",
    "while np.any(err > 1e-6):\n",
    "    d += 1\n",
    "    p = np.polynomial.chebyshev.Chebyshev.fit(ϵ, f, d)\n",
    "    err = np.abs(f - p.linspace(H_16.shape[0])[1])"
   ]
  },
  {
   "cell_type": "code",
   "execution_count": 10,
   "metadata": {},
   "outputs": [],
   "source": [
    "# Create Chebyshev polynomials of degree d\n",
    "T = get_chebyshev(inv_sqrt_S @ H @ inv_sqrt_S, I, d)"
   ]
  },
  {
   "cell_type": "code",
   "execution_count": 11,
   "metadata": {},
   "outputs": [],
   "source": [
    "# Evaluate 1D f(ϵ) and use numpy to get coefficients of series\n",
    "f = 1 / (1 + np.exp(β * (ϵ - μ)))\n",
    "cheby = np.polynomial.chebyshev.Chebyshev.fit(ϵ, f, d)"
   ]
  },
  {
   "cell_type": "code",
   "execution_count": 12,
   "metadata": {},
   "outputs": [
    {
     "name": "stdout",
     "output_type": "stream",
     "text": [
      "-1.0 0.0\n",
      "-0.5 0.0\n",
      "-0.25 0.0\n",
      "-0.125 0.0\n",
      "-0.0625 0.0\n",
      "-0.0625 -0.03125\n",
      "-0.046875 -0.03125\n",
      "-0.046875 -0.0390625\n",
      "-0.04296875 -0.0390625\n",
      "-0.04296875 -0.041015625\n",
      "-0.04296875 -0.0419921875\n",
      "-0.04248046875 -0.0419921875\n",
      "-0.04248046875 -0.042236328125\n",
      "-0.04248046875 -0.0423583984375\n",
      "-0.04248046875 -0.04241943359375\n",
      "-0.04248046875 -0.042449951171875\n",
      "-0.04248046875 -0.0424652099609375\n",
      "-0.04248046875 -0.04247283935546875\n",
      "-0.042476654052734375 -0.04247283935546875\n",
      "-0.042476654052734375 -0.04247474670410156\n",
      "-0.04247570037841797 -0.04247474670410156\n"
     ]
    }
   ],
   "source": [
    "# Use coefficients and T to calculate ρ\n",
    "left = ϵ[0]\n",
    "right = ϵ[-1]\n",
    "μ2s = []\n",
    "ρ = calc_ρ(cheby.coef, T)\n",
    "while abs(np.trace(S_16 @ ρ) - int(num_electrons / 2)) > 1e-6:\n",
    "    μ2 = left  + 0.5*(right - left)\n",
    "    μ2s.append(μ2)\n",
    "    f = 1 / (1 + np.exp(β * (ϵ - μ2)))\n",
    "    cheby = np.polynomial.chebyshev.Chebyshev.fit(ϵ, f, d)\n",
    "    ρ = inv_sqrt_S @ calc_ρ(cheby.coef, T) @ inv_sqrt_S\n",
    "    if np.trace(S_16 @ ρ) > int(num_electrons / 2):\n",
    "        right = μ2\n",
    "    else:\n",
    "        left = μ2\n",
    "        \n",
    "    print(left, right)\n",
    "    if abs(left - right) < 1e-6:\n",
    "        break"
   ]
  },
  {
   "cell_type": "code",
   "execution_count": 13,
   "metadata": {},
   "outputs": [
    {
     "data": {
      "text/plain": [
       "(47.9999659693859+0j)"
      ]
     },
     "execution_count": 13,
     "metadata": {},
     "output_type": "execute_result"
    }
   ],
   "source": [
    "np.trace(2 * S_16 @ ρ)"
   ]
  },
  {
   "cell_type": "code",
   "execution_count": 21,
   "metadata": {},
   "outputs": [
    {
     "data": {
      "text/plain": [
       "[<matplotlib.lines.Line2D at 0x7f65c91ffcd0>]"
      ]
     },
     "execution_count": 21,
     "metadata": {},
     "output_type": "execute_result"
    },
    {
     "data": {
      "image/png": "[encoded data removed]",
      "text/plain": [
       "<Figure size 432x288 with 1 Axes>"
      ]
     },
     "metadata": {
      "needs_background": "light"
     },
     "output_type": "display_data"
    }
   ],
   "source": [
    "plt.plot(E_16, f)\n",
    "plt.plot(E_16, cheby.linspace(H_16.shape[0])[1])\n",
    "plt.plot(E_16, linalg.eigvalsh(S_16 @ ρ)[::-1], '--')"
   ]
  },
  {
   "cell_type": "code",
   "execution_count": 23,
   "metadata": {},
   "outputs": [
    {
     "data": {
      "text/plain": [
       "1.836025724379759"
      ]
     },
     "execution_count": 23,
     "metadata": {},
     "output_type": "execute_result"
    }
   ],
   "source": [
    "np.sum(linalg.eigvalsh(S_16 @ ρ))"
   ]
  },
  {
   "cell_type": "code",
   "execution_count": 16,
   "metadata": {},
   "outputs": [],
   "source": [
    "fs = []\n",
    "for u in μ2s:\n",
    "    fs.append(1 / (1 + np.exp(β * (ϵ - u))))"
   ]
  },
  {
   "cell_type": "code",
   "execution_count": 17,
   "metadata": {},
   "outputs": [
    {
     "data": {
      "image/png": "[encoded data removed]",
      "text/plain": [
       "<Figure size 432x288 with 1 Axes>"
      ]
     },
     "metadata": {
      "needs_background": "light"
     },
     "output_type": "display_data"
    }
   ],
   "source": [
    "for _ in fs:\n",
    "    plt.plot(_)"
   ]
  },
  {
   "cell_type": "code",
   "execution_count": 18,
   "metadata": {},
   "outputs": [
    {
     "data": {
      "text/plain": [
       "[<matplotlib.lines.Line2D at 0x7f65c52cbe10>]"
      ]
     },
     "execution_count": 18,
     "metadata": {},
     "output_type": "execute_result"
    },
    {
     "data": {
      "image/png": "[encoded data removed]",
      "text/plain": [
       "<Figure size 432x288 with 1 Axes>"
      ]
     },
     "metadata": {
      "needs_background": "light"
     },
     "output_type": "display_data"
    }
   ],
   "source": [
    "plt.plot(E_16)"
   ]
  },
  {
   "cell_type": "code",
   "execution_count": null,
   "metadata": {},
   "outputs": [],
   "source": []
  }
 ],
 "metadata": {
  "kernelspec": {
   "display_name": "Python 3",
   "language": "python",
   "name": "python3"
  },
  "language_info": {
   "codemirror_mode": {
    "name": "ipython",
    "version": 3
   },
   "file_extension": ".py",
   "mimetype": "text/x-python",
   "name": "python",
   "nbconvert_exporter": "python",
   "pygments_lexer": "ipython3",
   "version": "3.7.6"
  }
 },
 "nbformat": 4,
 "nbformat_minor": 4
}
